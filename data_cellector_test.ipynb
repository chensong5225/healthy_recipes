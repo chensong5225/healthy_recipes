{
 "cells": [
  {
   "cell_type": "code",
   "execution_count": 4,
   "metadata": {},
   "outputs": [],
   "source": [
    "import requests\n",
    "from bs4 import BeautifulSoup\n",
    "import re\n",
    "import datetime"
   ]
  },
  {
   "cell_type": "markdown",
   "metadata": {},
   "source": [
    "# Web Crawler of Epicurious"
   ]
  },
  {
   "cell_type": "markdown",
   "metadata": {},
   "source": [
    "## check how many pages of recipe research result there are\n",
    "####  https://www.epicurious.com/search?content=recipe\n",
    "#### range from page 1 to 1969"
   ]
  },
  {
   "cell_type": "code",
   "execution_count": 29,
   "metadata": {},
   "outputs": [
    {
     "name": "stdout",
     "output_type": "stream",
     "text": [
      "https://www.epicurious.com/search/?content=recipe&page=1 https://www.epicurious.com/search/?content=recipe&page=1969\n"
     ]
    }
   ],
   "source": [
    "# first page: https://www.epicurious.com/search?content=recipe&page=1 # not start from 0\n",
    "# last page: https://www.epicurious.com/search?content=recipe&page=1969\n",
    "website0 = 'https://www.epicurious.com/search/?content=recipe&page='\n",
    "websites = [website0+str(i) for i in range(1,1970)]\n",
    "print (websites[0], websites[-1])"
   ]
  },
  {
   "cell_type": "markdown",
   "metadata": {},
   "source": [
    "## check the structure of every search result page"
   ]
  },
  {
   "cell_type": "code",
   "execution_count": 30,
   "metadata": {},
   "outputs": [],
   "source": [
    "page = requests.get(websites[-1])\n",
    "soup = BeautifulSoup(page.text,'lxml')"
   ]
  },
  {
   "cell_type": "code",
   "execution_count": 31,
   "metadata": {},
   "outputs": [
    {
     "data": {
      "text/plain": [
       "16"
      ]
     },
     "execution_count": 31,
     "metadata": {},
     "output_type": "execute_result"
    }
   ],
   "source": [
    "title = soup.select('article.recipe-content-card h4 a')\n",
    "len(title)"
   ]
  },
  {
   "cell_type": "code",
   "execution_count": 32,
   "metadata": {},
   "outputs": [
    {
     "data": {
      "text/plain": [
       "<a data-reactid=\"71\" href=\"/recipes/food/views/veiled-farm-girls-235002\">Veiled Farm Girls</a>"
      ]
     },
     "execution_count": 32,
     "metadata": {},
     "output_type": "execute_result"
    }
   ],
   "source": [
    "title[0]"
   ]
  },
  {
   "cell_type": "markdown",
   "metadata": {},
   "source": [
    "## wrap crawler of search result page into a function\n",
    "\n",
    "#### get all the links from the 1st search result page, return a list of (title, url) tuples\n",
    "page = requests.get(\"https://www.epicurious.com/search?content=recipe&page=1 \")  \n",
    "get_recipe_links(page)"
   ]
  },
  {
   "cell_type": "code",
   "execution_count": 42,
   "metadata": {},
   "outputs": [],
   "source": [
    "def get_url_title(el):\n",
    "    el = str(el)\n",
    "    title = re.search(r'(href.+\\\">)(.+)(</a>)', el).group(2)\n",
    "    layout = \"https://www.epicurious.com\"\n",
    "    url = layout + re.search(r'(href=\\\")(.+)(\\\">)', el).group(2)\n",
    "    return (title, url)"
   ]
  },
  {
   "cell_type": "code",
   "execution_count": 43,
   "metadata": {},
   "outputs": [],
   "source": [
    "def get_recipe_links(page):\n",
    "    import re\n",
    "    recipe_links = []\n",
    "    soup = BeautifulSoup(page.text,'lxml')\n",
    "    els = soup.select('article.recipe-content-card h4 a')\n",
    "    return [get_url_title(el) for el in els]"
   ]
  },
  {
   "cell_type": "markdown",
   "metadata": {},
   "source": [
    "#### there are 18 recipe links in the 1st search result page, the 1sh of them is 'https://www.epicurious.com/recipes/food/views/grilled-lemon-pepper-chicken'"
   ]
  },
  {
   "cell_type": "code",
   "execution_count": 105,
   "metadata": {},
   "outputs": [
    {
     "data": {
      "text/plain": [
       "18"
      ]
     },
     "execution_count": 105,
     "metadata": {},
     "output_type": "execute_result"
    }
   ],
   "source": [
    "page = requests.get(\"https://www.epicurious.com/search?content=recipe&page=1\")\n",
    "links = get_recipe_links(page)\n",
    "len(links)"
   ]
  },
  {
   "cell_type": "code",
   "execution_count": 183,
   "metadata": {},
   "outputs": [
    {
     "data": {
      "text/plain": [
       "'https://www.epicurious.com/recipes/food/views/grilled-lemon-pepper-chicken'"
      ]
     },
     "execution_count": 183,
     "metadata": {},
     "output_type": "execute_result"
    }
   ],
   "source": [
    "links[0][1]"
   ]
  },
  {
   "cell_type": "markdown",
   "metadata": {},
   "source": [
    "## check the detial in a recipe page"
   ]
  },
  {
   "cell_type": "code",
   "execution_count": 224,
   "metadata": {},
   "outputs": [],
   "source": [
    "page = requests.get('https://www.epicurious.com/recipes/food/views/grilled-bistecca-porterhouse-steaks-with-herby-fish-sauce')\n",
    "soup = BeautifulSoup(page.text,'lxml')"
   ]
  },
  {
   "cell_type": "code",
   "execution_count": 110,
   "metadata": {},
   "outputs": [
    {
     "data": {
      "text/plain": [
       "[<div class=\"main-content\" itemscope=\"\" itemtype=\"https://schema.org/Recipe\"> <aside class=\"site-pushdown-ad-wrap ad-wrapper\" itemscope=\"\" itemtype=\"https://schema.org/WPAdBlock\" role=\"complementary\"></aside>\n",
       " <div class=\"recipe-title-sidebar \">\n",
       " <div class=\"recipe-title-wrapper\">\n",
       " <div class=\"title-source\">\n",
       " <div class=\"ad-wrapper sponsor-slug\">\n",
       " <aside class=\"sponsorSlug-ad-wrap ad-wrapper slug\" itemscope=\"\" itemtype=\"https://schema.org/WPAdBlock\" role=\"complementary\"></aside>\n",
       " </div>\n",
       " <h1 itemprop=\"name\">Grilled Bistecca with Herby Fish Sauce </h1>\n",
       " <div class=\"byline-source\">\n",
       " <cite class=\"contributors\" data-react-checksum=\"165825731\" data-reactid=\"1\" data-reactroot=\"\"><a class=\"contributor\" data-reactid=\"2\" href=\"/contributors/ignacio-mattos\" itemprop=\"author\" rel=\"author\" title=\"Ignacio Mattos\">Ignacio Mattos</a></cite>\n",
       " <span class=\"source\" itemprop=\"publisher\"><a href=\"/source/bon-appetit\">Bon Appétit</a></span>\n",
       " <span class=\"pub-date\">May 2018</span>\n",
       " </div>\n",
       " </div> <div class=\"recipe-sidebar\">\n",
       " <div class=\"user-interactions\" itemprop=\"aggregateRating\" itemscope=\"\" itemtype=\"https://schema.org/AggregateRating\">\n",
       " <div class=\"review-rating\">\n",
       " <span class=\"rating\">4/4</span>\n",
       " <img alt=\"fork user rating\" class=\"forks-img\" src=\"/static/img/recipe/ratings/4_forks.png\"/><meta content=\"4\" itemprop=\"ratingValue\"/><meta content=\"4\" itemprop=\"bestRating\"/><meta content=\"0\" itemprop=\"worstRating\"/>\n",
       " <p>reviews (<span class=\"reviews-count\" itemprop=\"reviewCount\">1</span>)</p>\n",
       " </div>\n",
       " <div class=\"prepare-again-rating\">\n",
       " <span>100%</span>\n",
       " <p>make it again</p>\n",
       " </div>\n",
       " <a class=\"go-to-reviews\" href=\"#reviews\" title=\"See all reviews\">Go to reviews</a>\n",
       " </div>\n",
       " </div>\n",
       " </div>\n",
       " </div>\n",
       " <div class=\"content-container\">\n",
       " <div class=\"content-and-rail\">\n",
       " <div class=\"main has-rail default\">\n",
       " <meta content=\"True\" itemprop=\"mainEntityOfPage\"/>\n",
       " <meta content=\"https://www.epicurious.com/recipes/food/views/grilled-bistecca-porterhouse-steaks-with-herby-fish-sauce\" itemprop=\"url\"/><div id=\"recipeapp-mount-point\"><div data-react-checksum=\"1545937788\" data-reactid=\"1\" data-reactroot=\"\"><div class=\"intro default\" data-reactid=\"2\"><div class=\"recipe-image\" data-reactid=\"3\"><div class=\"recipe-image-container\" data-reactid=\"4\"><div class=\"social-img\" data-reactid=\"5\"><picture class=\"photo-wrap\" data-reactid=\"6\"><source data-reactid=\"7\" media=\"(min-width: 1024px)\" srcset=\"https://assets.epicurious.com/photos/5ad7863b59e81a5d899942ba/6:4/w_620%2Ch_413/grilled-bistecca-steak-with-herby-fish-sauce-recipe-BA-041818.jpg\"/><source data-reactid=\"8\" media=\"(min-width: 768px)\" srcset=\"https://assets.epicurious.com/photos/5ad7863b59e81a5d899942ba/6:4/w_620%2Ch_413/grilled-bistecca-steak-with-herby-fish-sauce-recipe-BA-041818.jpg\"/><source data-reactid=\"9\" media=\"(min-width: 320px)\" srcset=\"https://assets.epicurious.com/photos/5ad7863b59e81a5d899942ba/6:4/w_274%2Ch_169/grilled-bistecca-steak-with-herby-fish-sauce-recipe-BA-041818.jpg\"/><img alt=\"Grilled Bistecca with Herby Fish Sauce / Photo by Michael Graydon &amp; Nikole Herriott, Prop Styling by Kalen Kaminski, Food Styling by Andy Baraghani\" class=\"photo loaded\" data-reactid=\"10\" src=\"/static/img/px/background.png\" srcset=\"https://assets.epicurious.com/photos/5ad7863b59e81a5d899942ba/6:4/w_274%2Ch_169/grilled-bistecca-steak-with-herby-fish-sauce-recipe-BA-041818.jpg\"/></picture><div class=\"social-buttons\" data-reactid=\"11\"><div class=\"icon-facebook-overlay social link facebook\" data-reactid=\"12\"><a class=\"social\" data-reactid=\"13\" data-track=\"Facebook\" data-track-location=\"overlay\" data-track-source=\"Facebook\" data-track-type=\"social\" href=\"https://www.facebook.com/dialog/share?app_id=1636080783276430&amp;display=popup&amp;href=https%3A%2F%2Fwww.epicurious.com%2Frecipes%2Ffood%2Fviews%2Fgrilled-bistecca-porterhouse-steaks-with-herby-fish-sauce&amp;redirect_uri=https%3A%2F%2Fwww.epicurious.com%2Frecipes%2Ffood%2Fviews%2Fgrilled-bistecca-porterhouse-steaks-with-herby-fish-sauce&amp;picture=https%3A%2F%2Fassets.epicurious.com%2Fphotos%2F5ad7863b59e81a5d899942ba%2F6%3A4%2Fw_274%252Ch_169%2Fgrilled-bistecca-steak-with-herby-fish-sauce-recipe-BA-041818.jpg\">Facebook</a></div><div class=\"icon-pinterest-overlay social link pinterest\" data-reactid=\"14\"><a class=\"social\" data-reactid=\"15\" data-track=\"Pinterest\" data-track-location=\"overlay\" data-track-source=\"Pinterest\" data-track-type=\"social\" href=\"https://www.pinterest.com/pin/create/button/?url=https%3A%2F%2Fwww.epicurious.com%2Frecipes%2Ffood%2Fviews%2Fgrilled-bistecca-porterhouse-steaks-with-herby-fish-sauce&amp;media=https%3A%2F%2Fassets.epicurious.com%2Fphotos%2F5ad7863b59e81a5d899942ba%2F6%3A4%2Fw_274%252Ch_169%2Fgrilled-bistecca-steak-with-herby-fish-sauce-recipe-BA-041818.jpg&amp;description=Grilled Bistecca with Herby Fish Sauce\">Pinterest</a></div></div></div><meta content=\"https://assets.epicurious.com/photos/5ad7863b59e81a5d899942ba/master/pass/grilled-bistecca-steak-with-herby-fish-sauce-recipe-BA-041818.jpg\" data-reactid=\"16\" itemprop=\"image\"/><p class=\"credit\" data-reactid=\"17\">Photo by Michael Graydon &amp; Nikole Herriott, Prop Styling by Kalen Kaminski, Food Styling by Andy Baraghani</p></div></div><div class=\"dek\" data-reactid=\"18\" itemprop=\"description\"><p>Why baste your steak with fish sauce? It's called umami. Get into it.</p></div></div><div class=\"utils top\" data-reactid=\"19\"><aside class=\"sharing-actions recipe-top\" data-reactid=\"20\" itemscope=\"\" itemtype=\"https://schema.org/WebPageElement\" role=\"contentInfo\"><h6 class=\"aside-title\" data-reactid=\"21\" itemprop=\"alternateName\">Social Sharing</h6><strong class=\"icon-share\" data-id=\"share\" data-reactid=\"22\">Share</strong><ul class=\"hide\" data-reactid=\"23\"><li data-reactid=\"24\"><a class=\"icon-facebook social\" data-reactid=\"25\" data-track=\"Facebook\" data-track-location=\"recipe-top\" data-track-source=\"Facebook\" data-track-type=\"social\" href=\"https://www.facebook.com/dialog/share?app_id=1636080783276430&amp;display=popup&amp;href=https://www.epicurious.com/recipes/food/views/grilled-bistecca-porterhouse-steaks-with-herby-fish-sauce&amp;redirect_uri=https://www.epicurious.com/recipes/food/views/grilled-bistecca-porterhouse-steaks-with-herby-fish-sauce\" rel=\"nofollow noopener noreferrer\" target=\"_blank\" title=\"Share &amp;ldquo;Grilled Bistecca with Herby Fish Sauce&amp;rdquo; on Facebook\"><!-- react-text: 26 -->Share “<!-- /react-text --><strong data-reactid=\"27\">Grilled Bistecca with Herby Fish Sauce</strong><!-- react-text: 28 -->” on Facebook<!-- /react-text --></a></li><li data-reactid=\"29\"><a class=\"icon-twitter social\" data-reactid=\"30\" data-track=\"Twitter\" data-track-location=\"recipe-top\" data-track-source=\"Twitter\" data-track-type=\"social\" href=\"https://twitter.com/intent/tweet?url=https://www.epicurious.com/recipes/food/views/grilled-bistecca-porterhouse-steaks-with-herby-fish-sauce&amp;text=Grilled Bistecca with Herby Fish Sauce\" rel=\"nofollow noopener noreferrer\" target=\"_blank\" title=\"Share &amp;ldquo;Grilled Bistecca with Herby Fish Sauce&amp;rdquo; on Twitter\"><!-- react-text: 31 -->Share “<!-- /react-text --><strong data-reactid=\"32\">Grilled Bistecca with Herby Fish Sauce</strong><!-- react-text: 33 -->” on Twitter<!-- /react-text --></a></li><li data-reactid=\"34\"><a class=\"icon-pinterest social\" data-reactid=\"35\" data-track=\"Pinterest\" data-track-location=\"recipe-top\" data-track-source=\"Pinterest\" data-track-type=\"social\" href=\"https://www.pinterest.com/pin/create/button/?url=https://www.epicurious.com/recipes/food/views/grilled-bistecca-porterhouse-steaks-with-herby-fish-sauce&amp;media=https%3A%2F%2Fassets.epicurious.com%2Fphotos%2F5ad7863b59e81a5d899942ba%2F1%3A1%2Fw_736%252Ch_736%2Fgrilled-bistecca-steak-with-herby-fish-sauce-recipe-BA-041818.jpg&amp;description=Grilled Bistecca with Herby Fish Sauce\" rel=\"nofollow noopener noreferrer\" target=\"_blank\" title=\"Share &amp;ldquo;Grilled Bistecca with Herby Fish Sauce&amp;rdquo; on Pinterest\"><!-- react-text: 36 -->Share “<!-- /react-text --><strong data-reactid=\"37\">Grilled Bistecca with Herby Fish Sauce</strong><!-- react-text: 38 -->” on Pinterest<!-- /react-text --></a></li><li data-reactid=\"39\"><a class=\"icon-googleplus social\" data-reactid=\"40\" data-track=\"Google\" data-track-location=\"recipe-top\" data-track-source=\"Google\" data-track-type=\"social\" href=\"https://plus.google.com/share?url=https://www.epicurious.com/recipes/food/views/grilled-bistecca-porterhouse-steaks-with-herby-fish-sauce\" rel=\"nofollow noopener noreferrer\" target=\"_blank\" title=\"Share &amp;ldquo;Grilled Bistecca with Herby Fish Sauce&amp;rdquo; on Google+\"><!-- react-text: 41 -->Share “<!-- /react-text --><strong data-reactid=\"42\">Grilled Bistecca with Herby Fish Sauce</strong><!-- react-text: 43 -->” on Google+<!-- /react-text --></a></li><li data-reactid=\"44\"><a class=\"icon-email\" data-reactid=\"45\" data-track=\"Email\" data-track-location=\"recipe-top\" data-track-source=\"Email\" data-track-type=\"social\" href=\"mailto:?subject=Grilled%20Bistecca%20with%20Herby%20Fish%20Sauce&amp;body=Why%20baste%20your%20steak%20with%20fish%20sauce%3F%20It%26%2339%3Bs%20called%20umami.%20Get%20into%20it.%0A%0Ahttps%3A%2F%2Fwww.epicurious.com%2Frecipes%2Ffood%2Fviews%2Fgrilled-bistecca-porterhouse-steaks-with-herby-fish-sauce%0A\" rel=\"nofollow\" title=\"Email &amp;ldquo;Grilled Bistecca with Herby Fish Sauce&amp;rdquo;\"><!-- react-text: 46 -->Email “<!-- /react-text --><strong data-reactid=\"47\">Grilled Bistecca with Herby Fish Sauce</strong><!-- react-text: 48 -->”<!-- /react-text --></a></li></ul></aside><div class=\"options touchpoints\" data-reactid=\"49\"><ul class=\"items\" data-reactid=\"50\"><li data-reactid=\"51\"><span class=\"save-touchpoint save-to-box not-saved\" data-reactid=\"52\"><div class=\"not-saved\" data-reactid=\"53\"><a class=\"touchpoint-link\" data-reactid=\"54\" href=\"#\">save recipe</a></div><div class=\"panel recipe-box-folders\" data-reactid=\"55\"><div class=\"panel-content\" data-reactid=\"56\"><div class=\"panel-item\" data-reactid=\"57\"><h3 data-reactid=\"58\">Add to collection</h3></div><ul class=\"folders\" data-reactid=\"59\"></ul></div><div class=\"panel-item\" data-reactid=\"60\"><a class=\"new\" data-reactid=\"61\">New collection</a></div></div></span></li><li data-reactid=\"62\"><span class=\"save-touchpoint save-to-menu\" data-reactid=\"63\"><div class=\"not-saved\" data-reactid=\"64\"><a class=\"touchpoint-link\" data-reactid=\"65\" href=\"#\">add to menu</a></div><div class=\"panel menu-list\" data-reactid=\"66\"><div class=\"panel-content\" data-reactid=\"67\"><div class=\"panel-item\" data-reactid=\"68\"><h3 data-reactid=\"69\">Add to menu</h3></div><ul class=\"menus\" data-reactid=\"70\"></ul></div><div class=\"panel-item\" data-reactid=\"71\"><a class=\"new\" data-reactid=\"72\">New menu</a></div></div></span></li><li class=\"print-recipe\" data-id=\"print\" data-reactid=\"73\"><div class=\"print\" data-reactid=\"74\"><a class=\"preview-print-button\" data-reactid=\"75\" href=\"#\" title=\"Print\">Print</a></div></li></ul></div></div><!-- react-empty: 76 --></div></div>\n",
       " <div class=\"tablet-ads1\">\n",
       " <aside class=\"railBoxTabletAd1-ad-wrap ad-wrapper\" itemscope=\"\" itemtype=\"https://schema.org/WPAdBlock\" role=\"complementary\"></aside>\n",
       " </div>\n",
       " <div class=\"recipe-and-additional-content\">\n",
       " <div class=\"recipe-content\"><div class=\"recipe-summary\"><dl class=\"summary-data\"><dt class=\"yield\">Yield</dt><dd class=\"yield\" itemprop=\"recipeYield\">8 servings</dd></dl></div><div class=\"ingredients-info\"><h2 class=\"section-title\">Ingredients</h2><ol class=\"ingredient-groups\"><li class=\"ingredient-group\"><ul class=\"ingredients\"><li class=\"ingredient\" itemprop=\"ingredients\">2 (1 1/2\"–2\"-thick) porterhouse steaks (about 6 lb. total)</li><li class=\"ingredient\" itemprop=\"ingredients\">1/2 cup extra-virgin olive oil, divided</li><li class=\"ingredient\" itemprop=\"ingredients\">Kosher salt</li><li class=\"ingredient\" itemprop=\"ingredients\">3 Tbsp. freshly ground black pepper</li><li class=\"ingredient\" itemprop=\"ingredients\">2 garlic cloves, finely grated</li><li class=\"ingredient\" itemprop=\"ingredients\">1/4 cup fish sauce</li><li class=\"ingredient\" itemprop=\"ingredients\">2 Tbsp. coarsely chopped marjoram, rosemary, and/or thyme</li></ul></li></ol></div><aside class=\"native-recipe-ad ad-wrapper\"></aside><div class=\"instructions\" itemprop=\"recipeInstructions\"><h2 class=\"section-title\">Preparation</h2><ol class=\"preparation-groups\"><li class=\"preparation-group\"><ol class=\"preparation-steps\"><li class=\"preparation-step\">                                        Rub steak with 1/4 cup oil; season with salt and sprinkle with pepper (it should nearly cover both sides). Let sit at room temperature 30 minutes.\n",
       "                                     </li><li class=\"preparation-step\">                                        Mix garlic, fish sauce, herbs, and remaining 1/4 cup oil in a small bowl.\n",
       "                                     </li><li class=\"preparation-step\">                                        Prepare a grill for medium-high indirect heat (for a gas grill, leave one or two burners off; for a charcoal grill, bank coals on one side of grill). Grill steaks over direct heat until nicely charred, about 2 minutes per side. Move steaks over indirect heat and continue grilling, basting with fish sauce mixture, until browned all over, about 5 minutes per side. An instant-read thermometer inserted into the thickest part of steaks should register 120°F for rare; temperature will rise to 125°F (or medium-rare) as they rest. Transfer to a cutting board and let rest 20 minutes before slicing against the grain.\n",
       "                                     </li></ol></li></ol><div class=\"chef-notes\"></div><div class=\"additional-info\"></div></div><div id=\"recipe-notes\"></div><div class=\"recipe-video-wrap\"><h2 class=\"section-title\">Related Video</h2><div class=\"recipe-video\" data-playerid=\"557f3ba061646d4fe8230000\" data-videoid=\"5591513c61646d7854030000\"></div></div><div class=\"ba-ecom-banner\" id=\"BNA_recipeDetails_banner\"><h2>Exclusive Offers</h2><div class=\"ba-ecom-container\"></div>\n",
       " </div></div>\n",
       " <div id=\"additional-info-panels\"> <div class=\"edamam-nutrition panel collapse\" itemprop=\"nutrition\" itemscope=\"\" itemtype=\"https://schema.org/NutritionInformation\">\n",
       " <div class=\"nutrition header\">\n",
       " <h2>Nutritional Info</h2>\n",
       " <button></button>\n",
       " </div>\n",
       " <div class=\"nutrition content\">\n",
       " <ul>\n",
       " <li><span class=\"nutri-label\">Calories</span><span class=\"nutri-data\" itemprop=\"calories\">339</span></li>\n",
       " <li>\n",
       " <span class=\"nutri-label\">Carbohydrates</span><span class=\"nutri-data\" itemprop=\"carbohydrateContent\">3 g(1%)</span>\n",
       " </li>\n",
       " <li>\n",
       " <span class=\"nutri-label\">Fat</span><span class=\"nutri-data\" itemprop=\"fatContent\">22 g(35%)</span>\n",
       " </li>\n",
       " <li>\n",
       " <span class=\"nutri-label\">Protein</span><span class=\"nutri-data\" itemprop=\"proteinContent\">31 g(61%)</span>\n",
       " </li>\n",
       " <li>\n",
       " <span class=\"nutri-label\">Saturated Fat</span><span class=\"nutri-data\" itemprop=\"saturatedFatContent\">5 g(27%)</span>\n",
       " </li>\n",
       " <li>\n",
       " <span class=\"nutri-label\">Sodium</span><span class=\"nutri-data\" itemprop=\"sodiumContent\">776 mg(32%)</span>\n",
       " </li>\n",
       " <li>\n",
       " <span class=\"nutri-label\">Polyunsaturated Fat</span><span class=\"nutri-data\">2 g</span>\n",
       " </li>\n",
       " <li>\n",
       " <span class=\"nutri-label\">Fiber</span><span class=\"nutri-data\" itemprop=\"fiberContent\">1 g(4%)</span>\n",
       " </li>\n",
       " <li>\n",
       " <span class=\"nutri-label\">Monounsaturated Fat</span><span class=\"nutri-data\">14 g</span>\n",
       " </li>\n",
       " <li>\n",
       " <span class=\"nutri-label\">Cholesterol</span><span class=\"nutri-data\" itemprop=\"cholesterolContent\">77 mg(26%)</span>\n",
       " </li>\n",
       " </ul>\n",
       " <div class=\"footer\">\n",
       " <span class=\"per-serving\">per serving (8 servings)</span>\n",
       " <a class=\"tooltip\" data-tooltip=\"What's this?&lt;br/&gt;We've partnered with Edamam to provide nutritional information for most recipes in our database. The information displayed is Edamam's analysis of the recipe based on its ingredients and preparation, and should not be considered a substitute for professional nutrition advice. Always seek the advice of your physician or other qualified health provider with any questions you may have regarding a medical condition.\" href=\"#\"></a>\n",
       " <a class=\"edamam-source\" href=\"https://www.edamam.com/nutrition_wizard/\" rel=\"noopener noreferrer\" target=\"_blank\">Powered by <span>Edamam</span></a>\n",
       " </div>\n",
       " </div>\n",
       " </div>\n",
       " <div class=\"featured-in panel collapse\"><div class=\"menus-tags header\"><h2 class=\"section-title\">Menus &amp; Tags</h2><button></button></div><div class=\"menus-tags content\"><div class=\"featured-in-content\"><div data-react-checksum=\"1929755864\" data-reactid=\"1\" data-reactroot=\"\"><h4 data-reactid=\"2\">This Recipe is Featured In:</h4><div class=\"items\" data-reactid=\"3\"><div class=\"item\" data-reactid=\"4\"><a data-reactid=\"5\" href=\"/recipes-menus/steak-night-for-dad-fathers-day-menu-gallery\"><picture class=\"photo-wrap\" data-reactid=\"6\"><source data-reactid=\"7\" data-srcset=\"https://assets.epicurious.com/photos/59bc41806b083a52f8919814/1:1/w_116%2Ch_116%2Cc_limit/Peter-Luger's-Old-Fashioned-Sauce-uncut-6x4-06092017.jpg\" media=\"(min-width: 1024px)\"/><source data-reactid=\"8\" data-srcset=\"https://assets.epicurious.com/photos/59bc41806b083a52f8919814/1:1/w_116%2Ch_116%2Cc_limit/Peter-Luger's-Old-Fashioned-Sauce-uncut-6x4-06092017.jpg\" media=\"(min-width: 768px)\"/><source data-reactid=\"9\" data-srcset=\"https://assets.epicurious.com/photos/59bc41806b083a52f8919814/1:1/w_116%2Ch_116%2Cc_limit/Peter-Luger's-Old-Fashioned-Sauce-uncut-6x4-06092017.jpg\" media=\"(min-width: 320px)\"/><img alt=\"SAUCE: Peter Luger's &quot;Old Fashioned Sauce&quot; Is the Best Cocktail Sauce RECIPE / Photo by Chelsea Kyle, Food Styling by Rhoda Boone\" class=\"photo pending\" data-reactid=\"10\" data-srcset=\"https://assets.epicurious.com/photos/59bc41806b083a52f8919814/1:1/w_116%2Ch_116%2Cc_limit/Peter-Luger's-Old-Fashioned-Sauce-uncut-6x4-06092017.jpg\"/></picture></a><a data-reactid=\"11\" href=\"/recipes-menus/steak-night-for-dad-fathers-day-menu-gallery\">Our Best Steakhouse Recipes for Father's Day</a></div><div class=\"item\" data-reactid=\"12\"><a data-reactid=\"13\" href=\"/recipes-menus/spring-grilling-dinner-recipes-gallery\"><picture class=\"photo-wrap\" data-reactid=\"14\"><source data-reactid=\"15\" data-srcset=\"https://assets.epicurious.com/photos/5af1bcc51ee6877a0dd4ee53/1:1/w_116%2Ch_116%2Cc_limit/Shrimp-and-Chorizo-Mixed-Grill-03052018.jpg\" media=\"(min-width: 1024px)\"/><source data-reactid=\"16\" data-srcset=\"https://assets.epicurious.com/photos/5af1bcc51ee6877a0dd4ee53/1:1/w_116%2Ch_116%2Cc_limit/Shrimp-and-Chorizo-Mixed-Grill-03052018.jpg\" media=\"(min-width: 768px)\"/><source data-reactid=\"17\" data-srcset=\"https://assets.epicurious.com/photos/5af1bcc51ee6877a0dd4ee53/1:1/w_116%2Ch_116%2Cc_limit/Shrimp-and-Chorizo-Mixed-Grill-03052018.jpg\" media=\"(min-width: 320px)\"/><img alt=\"Shrimp and Chorizo Mixed Grill Fearless Fish / Photo by Chelsea Kyle, Food Styling by Olivia Mack Anderson\" class=\"photo pending\" data-reactid=\"18\" data-srcset=\"https://assets.epicurious.com/photos/5af1bcc51ee6877a0dd4ee53/1:1/w_116%2Ch_116%2Cc_limit/Shrimp-and-Chorizo-Mixed-Grill-03052018.jpg\"/></picture></a><a data-reactid=\"19\" href=\"/recipes-menus/spring-grilling-dinner-recipes-gallery\">91 Spring Grilling Recipes We Love</a></div><div class=\"item\" data-reactid=\"20\"><a data-reactid=\"21\" href=\"/recipes-menus/theres-more-than-one-way-to-grill-a-steak-gallery\"><picture class=\"photo-wrap\" data-reactid=\"22\"><source data-reactid=\"23\" data-srcset=\"https://assets.epicurious.com/photos/594be48e7da0307de5eb081c/1:1/w_116%2Ch_116%2Cc_limit/_3-Ingredient-Grilled-Pineapple-Steak-and-Avocado-15062017.jpg\" media=\"(min-width: 1024px)\"/><source data-reactid=\"24\" data-srcset=\"https://assets.epicurious.com/photos/594be48e7da0307de5eb081c/1:1/w_116%2Ch_116%2Cc_limit/_3-Ingredient-Grilled-Pineapple-Steak-and-Avocado-15062017.jpg\" media=\"(min-width: 768px)\"/><source data-reactid=\"25\" data-srcset=\"https://assets.epicurious.com/photos/594be48e7da0307de5eb081c/1:1/w_116%2Ch_116%2Cc_limit/_3-Ingredient-Grilled-Pineapple-Steak-and-Avocado-15062017.jpg\" media=\"(min-width: 320px)\"/><img alt=\" 3 Ingredient Grilled Pineapple, Steak, and Avocado  / Photo by Chelsea Kyle, Food Styling by Olivia Mack Anderson\" class=\"photo pending\" data-reactid=\"26\" data-srcset=\"https://assets.epicurious.com/photos/594be48e7da0307de5eb081c/1:1/w_116%2Ch_116%2Cc_limit/_3-Ingredient-Grilled-Pineapple-Steak-and-Avocado-15062017.jpg\"/></picture></a><a data-reactid=\"27\" href=\"/recipes-menus/theres-more-than-one-way-to-grill-a-steak-gallery\">Our 35 Best Grilled Steak Recipes</a></div><div class=\"item\" data-reactid=\"28\"><a data-reactid=\"29\" href=\"/holidays-events/greatest-summer-recipes-gallery\"><picture class=\"photo-wrap\" data-reactid=\"30\"><source data-reactid=\"31\" data-srcset=\"https://assets.epicurious.com/photos/59541920d52ca90dc28200e4/1:1/w_116%2Ch_116%2Cc_limit/Low-Country-Shrimp-Boil-15062017.jpg\" media=\"(min-width: 1024px)\"/><source data-reactid=\"32\" data-srcset=\"https://assets.epicurious.com/photos/59541920d52ca90dc28200e4/1:1/w_116%2Ch_116%2Cc_limit/Low-Country-Shrimp-Boil-15062017.jpg\" media=\"(min-width: 768px)\"/><source data-reactid=\"33\" data-srcset=\"https://assets.epicurious.com/photos/59541920d52ca90dc28200e4/1:1/w_116%2Ch_116%2Cc_limit/Low-Country-Shrimp-Boil-15062017.jpg\" media=\"(min-width: 320px)\"/><img alt=\"Low Country Shrimp Boil RECIPE (NEW EDITED) / Photo by Chelsea Kyle, Food Styling by Olivia Mack Anderson\" class=\"photo pending\" data-reactid=\"34\" data-srcset=\"https://assets.epicurious.com/photos/59541920d52ca90dc28200e4/1:1/w_116%2Ch_116%2Cc_limit/Low-Country-Shrimp-Boil-15062017.jpg\"/></picture></a><a data-reactid=\"35\" href=\"/holidays-events/greatest-summer-recipes-gallery\">145 of Our Greatest Summer Recipes</a></div></div></div></div><h4 class=\"section-title\">Tags:</h4>\n",
       " <dl class=\"tags\"><a href=\"/source/bon-appetit\"><dt itemprop=\"recipeCategory\">Bon Appétit</dt></a><a href=\"/meal/dinner\"><dt itemprop=\"recipeCategory\">Dinner</dt></a><a href=\"/ingredient/steak\"><dt itemprop=\"recipeCategory\">Steak</dt></a><a href=\"/technique/grill-barbecue\"><dt itemprop=\"recipeCategory\">Grill/Barbecue</dt></a><a href=\"/equipment/grill\"><dt itemprop=\"recipeCategory\">Grill</dt></a><a href=\"/occasion/summer\"><dt itemprop=\"recipeCategory\">Summer</dt></a><a href=\"/cuisine/italian\"><dt itemprop=\"recipeCuisine\">Italian</dt></a><a href=\"/ingredient/herb\"><dt itemprop=\"recipeCategory\">Herb</dt></a><a href=\"/ingredient/garlic\"><dt itemprop=\"recipeCategory\">Garlic</dt></a><a href=\"/special-consideration/dairy-free\"><dt itemprop=\"recipeCategory\">Dairy Free</dt></a><a href=\"/special-consideration/wheat-gluten-free\"><dt itemprop=\"recipeCategory\">Wheat/Gluten-Free</dt></a></dl></div></div></div>\n",
       " </div><div class=\"review\" id=\"reviews\"><div class=\"teaser\"><div class=\"review-header\"><h2 id=\"review-leave\">Leave a Review</h2>\n",
       " </div>\n",
       " <div id=\"recipe-review\"></div>\n",
       " <div id=\"reviewlist-mount-point\"><div class=\"reviews\" data-react-checksum=\"-842451787\" data-reactid=\"1\" data-reactroot=\"\"><div class=\"review-header\" data-reactid=\"2\"><h2 data-reactid=\"3\">Reviews</h2></div><ul data-reactid=\"4\"><li class=\"most-recent with-rating\" data-reactid=\"5\" id=\"5b26ba426796412fa6f9cd42\"><img class=\"fork-rating\" data-reactid=\"6\" src=\"/static/img/recipe/ratings/4_forks.png\"/><div class=\"review-text\" data-reactid=\"7\"><p data-reactid=\"8\">I did not use porterhouse steaks. I used the sauce to baste NY strips and will definitely use the basting sauce again.\n",
       " </p><div class=\"review-footer\" data-reactid=\"9\"><span class=\"credit\" data-reactid=\"10\"><!-- react-text: 11 -->kim_in_mn<!-- /react-text --><!-- react-text: 12 --> from Chanhassen, MN<!-- /react-text --><!-- react-text: 13 --> / <!-- /react-text --></span><div class=\"reportproblem\" data-reactid=\"14\"><div class=\"flag\" data-reactid=\"15\"><a data-reactid=\"16\">flag if inappropriate</a></div></div></div></div></li></ul></div></div>\n",
       " </div></div><div id=\"related-content\"><!-- react-empty: 1 --></div>\n",
       " <div class=\"riser-wrap\"></div><div data-track-type=\"end-main-content\">\n",
       " <div class=\"OUTBRAIN\" data-mobile-id=\"MB_1\" data-ob-template=\"Epicurious_1\" data-src=\"\" data-widget-id=\"AR_1\"></div> </div></div>\n",
       " <div class=\"rail\" data-react-checksum=\"-857438242\" data-reactid=\"1\" data-reactroot=\"\"><div class=\"epi-sticky\" data-reactid=\"2\"><div class=\"video\" data-reactid=\"3\"></div><aside class=\"box-top\" data-reactid=\"4\" itemscope=\"\" itemtype=\"https://schema.org/WPAdBlock\" role=\"complementary\"></aside><aside class=\"box-bottom\" data-reactid=\"5\" itemscope=\"\" itemtype=\"https://schema.org/WPAdBlock\" role=\"complementary\"></aside></div></div>\n",
       " </div>\n",
       " </div>\n",
       " <aside class=\"parallax-ad-wrap parallax-ad fullwidth ad ad-wrapper\" itemscope=\"\" itemtype=\"https://schema.org/WPAdBlock\" role=\"complementary\"></aside>\n",
       " <div class=\"newsletter fullwidth no-border\"></div>\n",
       " </div>]"
      ]
     },
     "execution_count": 110,
     "metadata": {},
     "output_type": "execute_result"
    }
   ],
   "source": [
    "main = soup.select('div.main-content')\n",
    "main"
   ]
  },
  {
   "cell_type": "markdown",
   "metadata": {},
   "source": [
    "#### there are some useful infomation in this page:\n",
    "1. img: img[\"srcset\"]\n",
    "2. dek (could be none): div.dek\n",
    "3. serving size\n",
    "4. INGREDIENTS: div.ingredient\n",
    "5. PREPARATION: div.instructions\n",
    "6. NUTRITIONAL INFO (could be none)\n",
    "7. TAGS: div.tags\n",
    "8. ratings (could be a float num from 0 to 4)\n",
    "9. reviews: div.review"
   ]
  },
  {
   "cell_type": "code",
   "execution_count": 111,
   "metadata": {},
   "outputs": [
    {
     "data": {
      "text/plain": [
       "'https://assets.epicurious.com/photos/5ad7863b59e81a5d899942ba/6:4/w_274%2Ch_169/grilled-bistecca-steak-with-herby-fish-sauce-recipe-BA-041818.jpg'"
      ]
     },
     "execution_count": 111,
     "metadata": {},
     "output_type": "execute_result"
    }
   ],
   "source": [
    "img = soup.select('div.main-content img[\"srcset\"]')\n",
    "img\n",
    "imgurl = re.search(r'(srcset=\\\")(.+)(\")', str(img)).group(2)\n",
    "imgurl"
   ]
  },
  {
   "cell_type": "code",
   "execution_count": 112,
   "metadata": {},
   "outputs": [
    {
     "data": {
      "text/plain": [
       "\"Why baste your steak with fish sauce? It's called umami. Get into it.\""
      ]
     },
     "execution_count": 112,
     "metadata": {},
     "output_type": "execute_result"
    }
   ],
   "source": [
    "dek = soup.select('div.main-content div.dek')\n",
    "dek\n",
    "dekcontent = re.search(r'(<p>)(.+)(<\\/p>)', str(dek)).group(2)\n",
    "dekcontent"
   ]
  },
  {
   "cell_type": "code",
   "execution_count": 118,
   "metadata": {},
   "outputs": [
    {
     "data": {
      "text/plain": [
       "[<li class=\"ingredient\" itemprop=\"ingredients\">2 (1 1/2\"–2\"-thick) porterhouse steaks (about 6 lb. total)</li>,\n",
       " <li class=\"ingredient\" itemprop=\"ingredients\">1/2 cup extra-virgin olive oil, divided</li>,\n",
       " <li class=\"ingredient\" itemprop=\"ingredients\">Kosher salt</li>,\n",
       " <li class=\"ingredient\" itemprop=\"ingredients\">3 Tbsp. freshly ground black pepper</li>,\n",
       " <li class=\"ingredient\" itemprop=\"ingredients\">2 garlic cloves, finely grated</li>,\n",
       " <li class=\"ingredient\" itemprop=\"ingredients\">1/4 cup fish sauce</li>,\n",
       " <li class=\"ingredient\" itemprop=\"ingredients\">2 Tbsp. coarsely chopped marjoram, rosemary, and/or thyme</li>]"
      ]
     },
     "execution_count": 118,
     "metadata": {},
     "output_type": "execute_result"
    }
   ],
   "source": [
    "ingrs = soup.select('div.main-content div.ingredients-info li.ingredient')\n",
    "ingrs"
   ]
  },
  {
   "cell_type": "code",
   "execution_count": 119,
   "metadata": {},
   "outputs": [
    {
     "data": {
      "text/plain": [
       "['2 (1 1/2\"–2\"-thick) porterhouse steaks (about 6 lb. total)',\n",
       " '1/2 cup extra-virgin olive oil, divided',\n",
       " 'Kosher salt',\n",
       " '3 Tbsp. freshly ground black pepper',\n",
       " '2 garlic cloves, finely grated',\n",
       " '1/4 cup fish sauce',\n",
       " '2 Tbsp. coarsely chopped marjoram, rosemary, and/or thyme']"
      ]
     },
     "execution_count": 119,
     "metadata": {},
     "output_type": "execute_result"
    }
   ],
   "source": [
    "ingrscontent = []\n",
    "for ingr in ingrs:\n",
    "    ingr = str(ingr)\n",
    "    ingrscontent.append(re.search(r'(<.+>)(.+)(<.+>)', ingr).group(2))\n",
    "ingrscontent"
   ]
  },
  {
   "cell_type": "code",
   "execution_count": 248,
   "metadata": {},
   "outputs": [
    {
     "data": {
      "text/plain": [
       "[<span class=\"per-serving\">per serving (8 servings)</span>]"
      ]
     },
     "execution_count": 248,
     "metadata": {},
     "output_type": "execute_result"
    }
   ],
   "source": [
    "size = soup.select('div.main-content span.per-serving')\n",
    "size\n",
    "size = re.search(r'(<.+>)(.*)(<.+>)', str(size)).group(2)\n",
    "size"
   ]
  },
  {
   "cell_type": "code",
   "execution_count": 255,
   "metadata": {},
   "outputs": [
    {
     "data": {
      "text/plain": [
       "'per serving (8 servings)'"
      ]
     },
     "execution_count": 255,
     "metadata": {},
     "output_type": "execute_result"
    }
   ],
   "source": [
    "el = soup.select('div.main-content span.per-serving')\n",
    "size = re.search(r'(\\\">)(.*)(<\\/)', str(el)).group(2)\n",
    "size"
   ]
  },
  {
   "cell_type": "code",
   "execution_count": null,
   "metadata": {},
   "outputs": [],
   "source": [
    "    def build_size(self, soup):\n",
    "        try:\n",
    "            el = soup.select('div.main-content span.per-serving')\n",
    "            size = re.search(r'(\\\">)(.*)(<\\/)',str(el)).group(2)\n",
    "            return size\n",
    "        except:\n",
    "            print(\"Wrong: \"+str(el))\n",
    "            return \"\""
   ]
  },
  {
   "cell_type": "code",
   "execution_count": 121,
   "metadata": {},
   "outputs": [
    {
     "data": {
      "text/plain": [
       "['Rub steak with 1/4 cup oil; season with salt and sprinkle with pepper (it should nearly cover both sides). Let sit at room temperature 30 minutes.',\n",
       " 'Mix garlic, fish sauce, herbs, and remaining 1/4 cup oil in a small bowl.',\n",
       " 'Prepare a grill for medium-high indirect heat (for a gas grill, leave one or two burners off; for a charcoal grill, bank coals on one side of grill). Grill steaks over direct heat until nicely charred, about 2 minutes per side. Move steaks over indirect heat and continue grilling, basting with fish sauce mixture, until browned all over, about 5 minutes per side. An instant-read thermometer inserted into the thickest part of steaks should register 120°F for rare; temperature will rise to 125°F (or medium-rare) as they rest. Transfer to a cutting board and let rest 20 minutes before slicing against the grain.']"
      ]
     },
     "execution_count": 121,
     "metadata": {},
     "output_type": "execute_result"
    }
   ],
   "source": [
    "steps = soup.select('div.main-content div.instructions li.preparation-step')\n",
    "steps\n",
    "ss = []\n",
    "for s in steps:\n",
    "    s = re.search(r'(.+>\\s+)(.+)(\\s+.+)', str(s)).group(2)\n",
    "    ss.append(s)\n",
    "ss"
   ]
  },
  {
   "cell_type": "code",
   "execution_count": 122,
   "metadata": {},
   "outputs": [
    {
     "data": {
      "text/plain": [
       "['Bon Appétit',\n",
       " 'Dinner',\n",
       " 'Steak',\n",
       " 'Grill/Barbecue',\n",
       " 'Grill',\n",
       " 'Summer',\n",
       " 'Italian',\n",
       " 'Herb',\n",
       " 'Garlic',\n",
       " 'Dairy Free',\n",
       " 'Wheat/Gluten-Free']"
      ]
     },
     "execution_count": 122,
     "metadata": {},
     "output_type": "execute_result"
    }
   ],
   "source": [
    "tags = soup.select('div.main-content dl.tags a')\n",
    "tags\n",
    "ts = []\n",
    "for t in tags:\n",
    "    t = re.search(r'(.+\\\">)(.+)(<\\/d)', str(t)).group(2)\n",
    "    ts.append(t)\n",
    "ts"
   ]
  },
  {
   "cell_type": "code",
   "execution_count": 123,
   "metadata": {},
   "outputs": [
    {
     "data": {
      "text/plain": [
       "'4/4'"
      ]
     },
     "execution_count": 123,
     "metadata": {},
     "output_type": "execute_result"
    }
   ],
   "source": [
    "rating = soup.select('div.main-content span.rating')\n",
    "rating\n",
    "rating = re.search(r'(\\\">)(.+)(<\\/)', str(rating)).group(2)\n",
    "rating"
   ]
  },
  {
   "cell_type": "code",
   "execution_count": 124,
   "metadata": {},
   "outputs": [
    {
     "data": {
      "text/plain": [
       "[<div class=\"reviews\" data-react-checksum=\"-842451787\" data-reactid=\"1\" data-reactroot=\"\"><div class=\"review-header\" data-reactid=\"2\"><h2 data-reactid=\"3\">Reviews</h2></div><ul data-reactid=\"4\"><li class=\"most-recent with-rating\" data-reactid=\"5\" id=\"5b26ba426796412fa6f9cd42\"><img class=\"fork-rating\" data-reactid=\"6\" src=\"/static/img/recipe/ratings/4_forks.png\"/><div class=\"review-text\" data-reactid=\"7\"><p data-reactid=\"8\">I did not use porterhouse steaks. I used the sauce to baste NY strips and will definitely use the basting sauce again.\n",
       " </p><div class=\"review-footer\" data-reactid=\"9\"><span class=\"credit\" data-reactid=\"10\"><!-- react-text: 11 -->kim_in_mn<!-- /react-text --><!-- react-text: 12 --> from Chanhassen, MN<!-- /react-text --><!-- react-text: 13 --> / <!-- /react-text --></span><div class=\"reportproblem\" data-reactid=\"14\"><div class=\"flag\" data-reactid=\"15\"><a data-reactid=\"16\">flag if inappropriate</a></div></div></div></div></li></ul></div>]"
      ]
     },
     "execution_count": 124,
     "metadata": {},
     "output_type": "execute_result"
    }
   ],
   "source": [
    "reviews = soup.select('div.main-content div.reviews')\n",
    "reviews"
   ]
  },
  {
   "cell_type": "code",
   "execution_count": 135,
   "metadata": {},
   "outputs": [
    {
     "data": {
      "text/plain": [
       "[<span class=\"nutri-label\">Calories</span>,\n",
       " <span class=\"nutri-label\">Carbohydrates</span>,\n",
       " <span class=\"nutri-label\">Fat</span>,\n",
       " <span class=\"nutri-label\">Protein</span>,\n",
       " <span class=\"nutri-label\">Saturated Fat</span>,\n",
       " <span class=\"nutri-label\">Sodium</span>,\n",
       " <span class=\"nutri-label\">Polyunsaturated Fat</span>,\n",
       " <span class=\"nutri-label\">Fiber</span>,\n",
       " <span class=\"nutri-label\">Monounsaturated Fat</span>,\n",
       " <span class=\"nutri-label\">Cholesterol</span>]"
      ]
     },
     "execution_count": 135,
     "metadata": {},
     "output_type": "execute_result"
    }
   ],
   "source": [
    "nulabel = soup.select('div.main-content span.nutri-label')\n",
    "nulabel"
   ]
  },
  {
   "cell_type": "code",
   "execution_count": 137,
   "metadata": {},
   "outputs": [
    {
     "data": {
      "text/plain": [
       "[<span class=\"nutri-data\" itemprop=\"calories\">339</span>,\n",
       " <span class=\"nutri-data\" itemprop=\"carbohydrateContent\">3 g(1%)</span>,\n",
       " <span class=\"nutri-data\" itemprop=\"fatContent\">22 g(35%)</span>,\n",
       " <span class=\"nutri-data\" itemprop=\"proteinContent\">31 g(61%)</span>,\n",
       " <span class=\"nutri-data\" itemprop=\"saturatedFatContent\">5 g(27%)</span>,\n",
       " <span class=\"nutri-data\" itemprop=\"sodiumContent\">776 mg(32%)</span>,\n",
       " <span class=\"nutri-data\">2 g</span>,\n",
       " <span class=\"nutri-data\" itemprop=\"fiberContent\">1 g(4%)</span>,\n",
       " <span class=\"nutri-data\">14 g</span>,\n",
       " <span class=\"nutri-data\" itemprop=\"cholesterolContent\">77 mg(26%)</span>]"
      ]
     },
     "execution_count": 137,
     "metadata": {},
     "output_type": "execute_result"
    }
   ],
   "source": [
    "nuval = soup.select('div.main-content span.nutri-data')\n",
    "nuval"
   ]
  },
  {
   "cell_type": "code",
   "execution_count": 138,
   "metadata": {},
   "outputs": [
    {
     "data": {
      "text/plain": [
       "True"
      ]
     },
     "execution_count": 138,
     "metadata": {},
     "output_type": "execute_result"
    }
   ],
   "source": [
    "len(nulabel) == len(nuval)"
   ]
  },
  {
   "cell_type": "code",
   "execution_count": 139,
   "metadata": {},
   "outputs": [
    {
     "data": {
      "text/plain": [
       "{'Calories': '339',\n",
       " 'Carbohydrates': '3 g(1%)',\n",
       " 'Fat': '22 g(35%)',\n",
       " 'Protein': '31 g(61%)',\n",
       " 'Saturated Fat': '5 g(27%)',\n",
       " 'Sodium': '776 mg(32%)',\n",
       " 'Polyunsaturated Fat': '2 g',\n",
       " 'Fiber': '1 g(4%)',\n",
       " 'Monounsaturated Fat': '14 g',\n",
       " 'Cholesterol': '77 mg(26%)'}"
      ]
     },
     "execution_count": 139,
     "metadata": {},
     "output_type": "execute_result"
    }
   ],
   "source": [
    "n = len(nulabel)\n",
    "nuinfo = {}\n",
    "for i in range(n):\n",
    "    n = str(nulabel[i])\n",
    "    n = re.search(r'(\\\">)(.+)(<\\/)', n).group(2)\n",
    "    v = str(nuval[i])\n",
    "    v = re.search(r'(\\\">)(.+)(<\\/)', v).group(2)\n",
    "    nuinfo[n] = v\n",
    "nuinfo"
   ]
  },
  {
   "cell_type": "code",
   "execution_count": 143,
   "metadata": {},
   "outputs": [
    {
     "data": {
      "text/plain": [
       "'Grilled Bistecca with Herby Fish Sauce'"
      ]
     },
     "execution_count": 143,
     "metadata": {},
     "output_type": "execute_result"
    }
   ],
   "source": [
    "title = soup.select('div.main-content div.title-source h1')\n",
    "title\n",
    "title = re.search(r'(\\\">)(.+)(<\\/)', str(title)).group(2).strip()\n",
    "title"
   ]
  },
  {
   "cell_type": "markdown",
   "metadata": {},
   "source": [
    "## wrap detail of a recipe page into a recipe class"
   ]
  },
  {
   "cell_type": "code",
   "execution_count": 1,
   "metadata": {},
   "outputs": [],
   "source": [
    "class Recipe:\n",
    "    # properties\n",
    "    title = ''\n",
    "    url = ''\n",
    "    imgurl = ''\n",
    "    desc = ''\n",
    "    size = ''\n",
    "    rating = ''\n",
    "    #rawreview = ''\n",
    "    ingredients = []\n",
    "    steps = []\n",
    "    tags = []\n",
    "    nutritions = {}\n",
    "    #soup\n",
    "    \n",
    "    # init empty recipe\n",
    "    def __init__(self):\n",
    "        self.title = ''\n",
    "        self.url = ''\n",
    "        self.imgurl = ''\n",
    "        self.desc = ''\n",
    "        self.size = ''\n",
    "        self.rating = ''\n",
    "        #self.rawreview = ''\n",
    "        self.ingredients = []\n",
    "        self.steps = []\n",
    "        self.tags = []\n",
    "        self.nutritions = {}\n",
    "    \n",
    "    # init recipe only with title\n",
    "    \"\"\"\n",
    "    def __init__(self, title, imgurl):\n",
    "        self.title = title\n",
    "        self.imgurl = ''\n",
    "        self.desc = ''\n",
    "        self.size = ''\n",
    "        self.rating = ''\n",
    "        #self.rawreview = ''\n",
    "        self.ingredients = []\n",
    "        self.steps = []\n",
    "        self.tags = []\n",
    "        self.nutritions = {}\n",
    "    \"\"\"\n",
    "    \n",
    "    # init recipe using a recipe detial page\n",
    "    def __init__(self, url):\n",
    "        import requests\n",
    "        from bs4 import BeautifulSoup\n",
    "        import re\n",
    "        self.url = url\n",
    "        page = requests.get(url)\n",
    "        soup = BeautifulSoup(page.text, 'lxml')\n",
    "        self.title = self.build_title(soup)\n",
    "        print(self.title, self.url)\n",
    "        self.imgurl = self.build_imgurl(soup)\n",
    "        self.desc = self.build_desc(soup)\n",
    "        self.size = self.build_size(soup)\n",
    "        self.rating = self.build_rating(soup)\n",
    "        #self.rawreview = self.get_rawreview(page)\n",
    "        self.ingredients = self.build_ingredients(soup)\n",
    "        self.steps = self.build_steps(soup)\n",
    "        self.tags = self.build_tags(soup)\n",
    "        self.nutritions = self.build_nutritions(soup)\n",
    "    \n",
    "    # fuctions: get infomation from a page\n",
    "    def build_title(self, soup):\n",
    "        try:\n",
    "            el = soup.select('div.main-content div.title-source h1')\n",
    "            title = re.search(r'(\\\">)(.+)(<\\/)', str(el)).group(2).strip()\n",
    "            return title\n",
    "        except:\n",
    "            print(\"title Wrong: \"+str(el))\n",
    "            return \"\"\n",
    "    \n",
    "    def build_imgurl(self, soup):\n",
    "        try:\n",
    "            el = soup.select('div.main-content img[\"srcset\"]')\n",
    "            imgurl = re.search(r'(srcset=\\\")(.+)(\")', str(el)).group(2)\n",
    "            return imgurl\n",
    "        except:\n",
    "            print(\"img Wrong: \"+str(el))\n",
    "            return \"\"\n",
    "\n",
    "    def build_desc(self, soup):\n",
    "        try:\n",
    "            el = soup.select('div.main-content div.dek')\n",
    "            desc = re.search(r'(<p>)(.+)(<\\/p>)', str(el)).group(2)     \n",
    "            return desc\n",
    "        except:\n",
    "            print(\"desc Wrong: \"+str(el))\n",
    "            return \"\"\n",
    "    \n",
    "    def build_size(self, soup):\n",
    "        try:\n",
    "            el = soup.select('div.main-content span.per-serving')\n",
    "            size = re.search(r'(\\\">)(.*)(<\\/)',str(el)).group(2)\n",
    "            return size\n",
    "        except:\n",
    "            #print(\"size Wrong: \"+str(el))\n",
    "            return \"\"\n",
    "    \n",
    "    \n",
    "    def build_rating(self, soup):\n",
    "        try:\n",
    "            el = soup.select('div.main-content span.rating')\n",
    "            rating = re.search(r'(\\\">)(.+)(<\\/)', str(el)).group(2)\n",
    "            return rating\n",
    "        except:\n",
    "            print(\"rating Wrong: \"+str(el))\n",
    "            return \"\"\n",
    "    \n",
    "    #def get_rawreview(self, page):\n",
    "    #    return self.rawreview\n",
    "\n",
    "    def build_ingredients(self, soup):\n",
    "        try:\n",
    "            ingredients = []\n",
    "            ins = soup.select('div.main-content div.ingredients-info li.ingredient')\n",
    "            for i in ins:\n",
    "                ingredients.append(re.search(r'(<.+>)(.+)(<.+>)', str(i)).group(2))\n",
    "            return ingredients\n",
    "        except:\n",
    "            print(\"in Wrong: \"+str(ins))\n",
    "            return []\n",
    "\n",
    "    def build_steps(self, soup):\n",
    "        try:\n",
    "            steps = []\n",
    "            ss = soup.select('div.main-content div.instructions li.preparation-step')\n",
    "            for s in ss:\n",
    "                steps.append(re.search(r'(.+>\\s+)(.+)(\\s+.+)', str(s)).group(2))\n",
    "            return steps\n",
    "        except:\n",
    "            print(\"step Wrong: \"+str(ss))\n",
    "            return []\n",
    "\n",
    "    def build_tags(self, soup):\n",
    "        try:\n",
    "            tags = []\n",
    "            ts = soup.select('div.main-content dl.tags a')\n",
    "            for t in ts:\n",
    "                tags.append(re.search(r'(.+\\\">)(.+)(<\\/d)', str(t)).group(2))\n",
    "            return tags\n",
    "        except:\n",
    "            print(\"tags Wrong: \"+str(ts))\n",
    "            return []\n",
    "\n",
    "    def build_nutritions(self, soup):\n",
    "        try:\n",
    "            nutritions = {}\n",
    "            labels = soup.select('div.main-content span.nutri-label')\n",
    "            values = soup.select('div.main-content span.nutri-data')\n",
    "            for i in range(len(labels)):\n",
    "                n = re.search(r'(\\\">)(.*)(<\\/)', str(labels[i])).group(2)\n",
    "                v = re.search(r'(\\\">)(.*)(<\\/)', str(values[i])).group(2)\n",
    "                nutritions[n] = v\n",
    "            return nutritions\n",
    "        except:\n",
    "            print(\"nu Wrong: \"+str(labels))\n",
    "            return {}\n",
    "    \n",
    "    # to string\n",
    "    def __str__(self):\n",
    "        s = self.title +\"\\n\"+ self.desc +\"\\n\"+ self.url\n",
    "        return s\n",
    "\n",
    "    # getters\n",
    "    def get_title(self):\n",
    "        return self.title\n",
    "    \n",
    "    def get_imgurl(self):\n",
    "        return self.imgurl\n",
    "    \n",
    "    def get_desc(self):\n",
    "        return self.desc\n",
    "    \n",
    "    def get_size(self):\n",
    "        return self.size\n",
    "    \n",
    "    def get_rating(self):\n",
    "        return self.rating\n",
    "    \n",
    "    #def get_rawreview(self):\n",
    "    #    return self.rawreview\n",
    "\n",
    "    def get_ingredients(self):\n",
    "        return self.ingredients\n",
    "    \n",
    "    def get_steps(self):\n",
    "        return self.steps\n",
    "    \n",
    "    def get_tags(self):\n",
    "        return self.tags\n",
    "    \n",
    "    def get_nutritions(self):\n",
    "        return self.nutritions"
   ]
  },
  {
   "cell_type": "markdown",
   "metadata": {},
   "source": [
    "## test the class"
   ]
  },
  {
   "cell_type": "code",
   "execution_count": 233,
   "metadata": {},
   "outputs": [
    {
     "name": "stdout",
     "output_type": "stream",
     "text": [
      "Grilled Bistecca with Herby Fish Sauce https://www.epicurious.com/recipes/food/views/grilled-bistecca-porterhouse-steaks-with-herby-fish-sauce\n"
     ]
    }
   ],
   "source": [
    "url = 'https://www.epicurious.com/recipes/food/views/grilled-bistecca-porterhouse-steaks-with-herby-fish-sauce'\n",
    "r = Recipe(url)\n",
    "#print(r)"
   ]
  },
  {
   "cell_type": "code",
   "execution_count": 234,
   "metadata": {},
   "outputs": [
    {
     "data": {
      "text/plain": [
       "{'Calories': '339',\n",
       " 'Carbohydrates': '3 g(1%)',\n",
       " 'Fat': '22 g(35%)',\n",
       " 'Protein': '31 g(61%)',\n",
       " 'Saturated Fat': '5 g(27%)',\n",
       " 'Sodium': '776 mg(32%)',\n",
       " 'Polyunsaturated Fat': '2 g',\n",
       " 'Fiber': '1 g(4%)',\n",
       " 'Monounsaturated Fat': '14 g',\n",
       " 'Cholesterol': '77 mg(26%)'}"
      ]
     },
     "execution_count": 234,
     "metadata": {},
     "output_type": "execute_result"
    }
   ],
   "source": [
    "r.get_nutritions()"
   ]
  },
  {
   "cell_type": "code",
   "execution_count": 235,
   "metadata": {},
   "outputs": [
    {
     "data": {
      "text/plain": [
       "'per serving (8 servings)'"
      ]
     },
     "execution_count": 235,
     "metadata": {},
     "output_type": "execute_result"
    }
   ],
   "source": [
    "r.get_size()"
   ]
  },
  {
   "cell_type": "markdown",
   "metadata": {},
   "source": [
    "## OK, now the class worked\n",
    "## next step: \n",
    "1. collect all recipes in a search result page\n",
    "2. write them in a json file"
   ]
  },
  {
   "cell_type": "code",
   "execution_count": 236,
   "metadata": {},
   "outputs": [],
   "source": [
    "website0 = 'https://www.epicurious.com/search/?content=recipe&page='\n",
    "websites = [website0+str(i) for i in range(1,1970)]"
   ]
  },
  {
   "cell_type": "code",
   "execution_count": 6,
   "metadata": {},
   "outputs": [],
   "source": [
    "def get_url_title(el):\n",
    "    el = str(el)\n",
    "    title = re.search(r'(href.+\\\">)(.+)(</a>)', el).group(2)\n",
    "    layout = \"https://www.epicurious.com\"\n",
    "    url = layout + re.search(r'(href=\\\")(.+)(\\\">)', el).group(2)\n",
    "    return (title, url)\n",
    "\n",
    "def get_recipe_links(page):\n",
    "    import re\n",
    "    recipe_links = []\n",
    "    soup = BeautifulSoup(page.text,'lxml')\n",
    "    els = soup.select('article.recipe-content-card h4 a')\n",
    "    return [get_url_title(el) for el in els]"
   ]
  },
  {
   "cell_type": "code",
   "execution_count": 7,
   "metadata": {},
   "outputs": [
    {
     "data": {
      "text/plain": [
       "18"
      ]
     },
     "execution_count": 7,
     "metadata": {},
     "output_type": "execute_result"
    }
   ],
   "source": [
    "page = requests.get(\"https://www.epicurious.com/search?content=recipe&page=1\")\n",
    "links = get_recipe_links(page)\n",
    "len(links)"
   ]
  },
  {
   "cell_type": "code",
   "execution_count": 8,
   "metadata": {},
   "outputs": [
    {
     "name": "stdout",
     "output_type": "stream",
     "text": [
      "Chicken Salad with Apricots, Celery, and Blue Cheese https://www.epicurious.com/recipes/food/views/chicken-salad-with-apricots-celery-and-blue-cheese\n",
      "Grilled Short Ribs and Lettuces with Mustard-Orange Dressing https://www.epicurious.com/recipes/food/views/grilled-short-ribs-and-lettuces-with-mustard-orange-dressing\n",
      "Grilled Lemon-Pepper Chicken https://www.epicurious.com/recipes/food/views/grilled-lemon-pepper-chicken\n",
      "Instant Pot Chicken Stock https://www.epicurious.com/recipes/food/views/instant-pot-chicken-stock\n",
      "Instant Pot Refried Black Beans https://www.epicurious.com/recipes/food/views/instant-pot-refried-black-beans\n",
      "Instant Pot Bolognese https://www.epicurious.com/recipes/food/views/instant-pot-bolognese\n",
      "Instant Pot Mushroom Risotto https://www.epicurious.com/recipes/food/views/instant-pot-mushroom-risotto\n",
      "Big-Batch Black Beans https://www.epicurious.com/recipes/food/views/big-batch-black-beans\n",
      "Gin Rocket https://www.epicurious.com/recipes/food/views/gin-rocket-fennel-arugula-lime-cocktail\n",
      "Blackberry-Cucumber Mule https://www.epicurious.com/recipes/food/views/vodka-blackberry-cucumber-mint-mule-cocktail\n",
      "Slippery When Wet https://www.epicurious.com/recipes/food/views/strawberry-gin-yogurt-cocktail-slippery-when-wet\n",
      "Thai-Style Squid and Cucumber Salad https://www.epicurious.com/recipes/food/views/thai-style-squid-and-cucumber-salad\n",
      "Summertime Sōmen Noodles https://www.epicurious.com/recipes/food/views/summertime-japanese-somen-noodles-on-ice\n",
      "Spicy Tahini and Avocado Soba https://www.epicurious.com/recipes/food/views/spicy-tahini-and-avocado-soba\n",
      "Citrus Jerk Bass with Fonio https://www.epicurious.com/recipes/food/views/citrus-jerk-bass-fish-with-fonio\n",
      "Crispy Fish Sandwich https://www.epicurious.com/recipes/food/views/crispy-fish-sandwich\n",
      "Tomato-Coconut Curry with Cod https://www.epicurious.com/recipes/food/views/tomato-coconut-curry-with-cod\n",
      "Swordfish Steaks with Asparagus and Frisée Salad https://www.epicurious.com/recipes/food/views/swordfish-steaks-with-asparagus-and-frisee-salad\n"
     ]
    }
   ],
   "source": [
    "recipes = []\n",
    "for link in links:\n",
    "    #print(link)\n",
    "    recipes.append(Recipe(link[1]))"
   ]
  },
  {
   "cell_type": "code",
   "execution_count": 10,
   "metadata": {},
   "outputs": [
    {
     "data": {
      "text/plain": [
       "{'Calories': '285',\n",
       " 'Carbohydrates': '35 g(12%)',\n",
       " 'Fat': '1 g(1%)',\n",
       " 'Protein': '3 g(6%)',\n",
       " 'Saturated Fat': '0 g(1%)',\n",
       " 'Sodium': '137 mg(6%)',\n",
       " 'Polyunsaturated Fat': '0 g',\n",
       " 'Fiber': '7 g(30%)',\n",
       " 'Monounsaturated Fat': '0 g',\n",
       " '': ''}"
      ]
     },
     "execution_count": 10,
     "metadata": {},
     "output_type": "execute_result"
    }
   ],
   "source": [
    "recipes[8].get_nutritions()"
   ]
  },
  {
   "cell_type": "code",
   "execution_count": null,
   "metadata": {},
   "outputs": [],
   "source": []
  }
 ],
 "metadata": {
  "kernelspec": {
   "display_name": "Python 3",
   "language": "python",
   "name": "python3"
  },
  "language_info": {
   "codemirror_mode": {
    "name": "ipython",
    "version": 3
   },
   "file_extension": ".py",
   "mimetype": "text/x-python",
   "name": "python",
   "nbconvert_exporter": "python",
   "pygments_lexer": "ipython3",
   "version": "3.6.5"
  }
 },
 "nbformat": 4,
 "nbformat_minor": 2
}
