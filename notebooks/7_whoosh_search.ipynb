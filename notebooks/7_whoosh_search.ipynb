{
 "cells": [
  {
   "cell_type": "code",
   "execution_count": 1,
   "metadata": {},
   "outputs": [],
   "source": [
    "import pandas as pd\n",
    "from whoosh.qparser import *\n",
    "from whoosh.fields import Schema,TEXT,STORED\n",
    "from whoosh import index"
   ]
  },
  {
   "cell_type": "code",
   "execution_count": 4,
   "metadata": {},
   "outputs": [],
   "source": [
    "schema = Schema(title = TEXT(stored=True),\n",
    "                desc = TEXT(stored=True),\n",
    "                ingredients = TEXT(stored=True),\n",
    "                steps = TEXT(stored=True),\n",
    "                reviews = TEXT(stored=True),\n",
    "                tags = TEXT(stored=True))\n",
    "\n",
    "ix = index.open_dir(\"../indexdir2.0\")\n",
    "parser = QueryParser(\"ingredients\",schema=schema)\n",
    "df = pd.read_csv('../data/for_search.csv')"
   ]
  },
  {
   "cell_type": "code",
   "execution_count": 30,
   "metadata": {},
   "outputs": [],
   "source": [
    "def searching(q):\n",
    "    result = parser.parse(q)\n",
    "    titles = set()\n",
    "    with ix.searcher() as searcher:\n",
    "        results = searcher.search(result,limit=100)\n",
    "        for r in results:\n",
    "            titles.add(r['title'])\n",
    "    return list(titles)"
   ]
  },
  {
   "cell_type": "code",
   "execution_count": 13,
   "metadata": {},
   "outputs": [],
   "source": [
    "col = ['title', 'healthy', 'RRR', 'desc', 'ingredients', 'steps', 'tags']  "
   ]
  },
  {
   "cell_type": "code",
   "execution_count": 31,
   "metadata": {},
   "outputs": [
    {
     "data": {
      "text/plain": [
       "['Chicken Salad with Grapes and Walnuts',\n",
       " 'Roast Chicken Breasts with Parsley Pan Gravy',\n",
       " 'Instant Pot Chicken Stock',\n",
       " 'Velvety Lemon Chicken Soup',\n",
       " 'Lemon, Sage, and Garlic Roast Chicken',\n",
       " 'Orange-Brandy Chicken',\n",
       " 'Fluffy Matzah Balls',\n",
       " 'Chicken with Baby Onions',\n",
       " 'Chicken Liver Pâté',\n",
       " 'Green Posole with Chicken',\n",
       " 'Braised Chicken Marsala',\n",
       " 'Soy Cumin Chicken',\n",
       " 'Chicken Breasts with Chive and Mustard Sauce',\n",
       " 'Chicken with Mustard Cream on Watercress',\n",
       " 'Mustard Cream Sauce',\n",
       " 'Oven-Fried Chipotle Chili Chicken',\n",
       " 'Port-Currant Sauce',\n",
       " 'Garlic Chicken',\n",
       " 'Tamal Verde de Pollo (Tamal with \"Salsa Verde\" and Chicken)',\n",
       " 'Chicken-Fat Puff Pastry']"
      ]
     },
     "execution_count": 31,
     "metadata": {},
     "output_type": "execute_result"
    }
   ],
   "source": [
    "searching(\"chicken\")[:20]"
   ]
  },
  {
   "cell_type": "code",
   "execution_count": 32,
   "metadata": {},
   "outputs": [],
   "source": [
    "def reranking(title_list):\n",
    "    result_list = pd.DataFrame(columns=df.columns.copy())\n",
    "    for t in title_list:\n",
    "        result_list = result_list.append(df[df['title']==t])\n",
    "    r = result_list.sort_values(by=['RRR'],ascending=False)\n",
    "    return r[:20]"
   ]
  },
  {
   "cell_type": "code",
   "execution_count": 34,
   "metadata": {},
   "outputs": [],
   "source": [
    "r = reranking(searching(\"chicken\"))"
   ]
  },
  {
   "cell_type": "code",
   "execution_count": 35,
   "metadata": {},
   "outputs": [
    {
     "data": {
      "text/plain": [
       "'<table border=\"1\" class=\"dataframe\">\\n  <thead>\\n    <tr style=\"text-align: right;\">\\n      <th></th>\\n      <th>Unnamed: 0</th>\\n      <th>activetime</th>\\n      <th>desc</th>\\n      <th>imgurl</th>\\n      <th>ingredients</th>\\n      <th>makeagain</th>\\n      <th>nutritions.Calories</th>\\n      <th>nutritions.Carbohydrates</th>\\n      <th>nutritions.Cholesterol</th>\\n      <th>nutritions.Fat</th>\\n      <th>nutritions.Fiber</th>\\n      <th>nutritions.Monounsaturated Fat</th>\\n      <th>nutritions.Polyunsaturated Fat</th>\\n      <th>nutritions.Protein</th>\\n      <th>nutritions.Saturated Fat</th>\\n      <th>nutritions.Sodium</th>\\n      <th>rating</th>\\n      <th>reviewcount</th>\\n      <th>reviews</th>\\n      <th>serving</th>\\n      <th>steps</th>\\n      <th>tags</th>\\n      <th>title</th>\\n      <th>totaltime</th>\\n      <th>url</th>\\n      <th>yiel</th>\\n      <th>healthy</th>\\n      <th>RRR</th>\\n    </tr>\\n  </thead>\\n  <tbody>\\n    <tr>\\n      <th>20707</th>\\n      <td>20707</td>\\n      <td>NaN</td>\\n      <td>The &lt;a href=\"/recipes/food/views/101330\"&gt;Mango...</td>\\n      <td>NaN</td>\\n      <td>[\\'1 cup plain low-fat yogurt\\', \\'1/4 cup fresh ...</td>\\n      <td>65.0</td>\\n      <td>173.0</td>\\n      <td>8.0</td>\\n      <td>67.0</td>\\n      <td>4.0</td>\\n      <td>1.0</td>\\n      <td>1.0</td>\\n      <td>1.0</td>\\n      <td>26.0</td>\\n      <td>1.0</td>\\n      <td>121.0</td>\\n      <td>2.5</td>\\n      <td>17.0</td>\\n      <td>[]</td>\\n      <td>4.0</td>\\n      <td>[\\'Combine first 4 ingredients in a small bowl;...</td>\\n      <td>[\\'Chicken\\', \\'Poach\\', \\'Yogurt\\', \\'Lime\\', \\'Curry\\'...</td>\\n      <td>Poached Chicked with Curried Yogurt Sauce</td>\\n      <td>NaN</td>\\n      <td>https://www.epicurious.com/recipes/food/views/...</td>\\n      <td>Makes 4 servings</td>\\n      <td>0</td>\\n      <td>3.204272</td>\\n    </tr>\\n    <tr>\\n      <th>26831</th>\\n      <td>26831</td>\\n      <td>NaN</td>\\n      <td>NaN</td>\\n      <td>NaN</td>\\n      <td>[\\'3 tablespoons extra-virgin olive oil\\', \\'1 cu...</td>\\n      <td>89.0</td>\\n      <td>414.0</td>\\n      <td>53.0</td>\\n      <td>7.0</td>\\n      <td>14.0</td>\\n      <td>8.0</td>\\n      <td>9.0</td>\\n      <td>2.0</td>\\n      <td>22.0</td>\\n      <td>2.0</td>\\n      <td>373.0</td>\\n      <td>3.5</td>\\n      <td>44.0</td>\\n      <td>[]</td>\\n      <td>4.0</td>\\n      <td>[\\'Heat oil in heavy medium saucepan over mediu...</td>\\n      <td>[\\'Italian\\', \\'Bean\\', \\'Onion\\', \\'Side\\', \\'Braise\\',...</td>\\n      <td>Braised Lentils</td>\\n      <td>NaN</td>\\n      <td>https://www.epicurious.com/recipes/food/views/...</td>\\n      <td>Makes 4 servings</td>\\n      <td>0</td>\\n      <td>2.868285</td>\\n    </tr>\\n    <tr>\\n      <th>19919</th>\\n      <td>19919</td>\\n      <td>NaN</td>\\n      <td>Can be prepared in 45 minutes or less but requ...</td>\\n      <td>NaN</td>\\n      <td>[\\'1 whole skinless boneless chicken breast (ab...</td>\\n      <td>94.0</td>\\n      <td>328.0</td>\\n      <td>3.0</td>\\n      <td>125.0</td>\\n      <td>17.0</td>\\n      <td>0.0</td>\\n      <td>10.0</td>\\n      <td>3.0</td>\\n      <td>40.0</td>\\n      <td>2.0</td>\\n      <td>149.0</td>\\n      <td>3.5</td>\\n      <td>16.0</td>\\n      <td>[]</td>\\n      <td>2.0</td>\\n      <td>[\\'In a microwave-safe glass pie plate coat the...</td>\\n      <td>[\\'Microwave\\', \\'Poultry\\', \\'Quick &amp;amp; Easy\\', \\'...</td>\\n      <td>Chicken Breasts with Tarragon Vinaigrette</td>\\n      <td>NaN</td>\\n      <td>https://www.epicurious.com/recipes/food/views/...</td>\\n      <td>Serves 2</td>\\n      <td>0</td>\\n      <td>2.656925</td>\\n    </tr>\\n    <tr>\\n      <th>26213</th>\\n      <td>26213</td>\\n      <td>NaN</td>\\n      <td>Have some roasted potatoes and broccoli on the...</td>\\n      <td>NaN</td>\\n      <td>[\\'4 chicken breast halves with skin and bones\\'...</td>\\n      <td>81.0</td>\\n      <td>216.0</td>\\n      <td>9.0</td>\\n      <td>56.0</td>\\n      <td>12.0</td>\\n      <td>3.0</td>\\n      <td>6.0</td>\\n      <td>2.0</td>\\n      <td>20.0</td>\\n      <td>3.0</td>\\n      <td>75.0</td>\\n      <td>2.5</td>\\n      <td>55.0</td>\\n      <td>[]</td>\\n      <td>4.0</td>\\n      <td>[\\'Preheat oven to 450°F. Slide fingertips unde...</td>\\n      <td>[\\'American\\', \\'Chicken\\', \\'Citrus\\', \\'Garlic\\', \\'H...</td>\\n      <td>Lemon, Sage, and Garlic Roast Chicken</td>\\n      <td>NaN</td>\\n      <td>https://www.epicurious.com/recipes/food/views/...</td>\\n      <td>Makes 4 servings</td>\\n      <td>1</td>\\n      <td>2.569593</td>\\n    </tr>\\n    <tr>\\n      <th>20819</th>\\n      <td>20819</td>\\n      <td>NaN</td>\\n      <td>A high-flavor, low-fat entrée. Serve it over r...</td>\\n      <td>NaN</td>\\n      <td>[\\'1/2 cup all purpose flour\\', \\'1 tablespoon Ca...</td>\\n      <td>90.0</td>\\n      <td>221.0</td>\\n      <td>14.0</td>\\n      <td>64.0</td>\\n      <td>8.0</td>\\n      <td>1.0</td>\\n      <td>4.0</td>\\n      <td>1.0</td>\\n      <td>22.0</td>\\n      <td>1.0</td>\\n      <td>155.0</td>\\n      <td>3.0</td>\\n      <td>48.0</td>\\n      <td>[]</td>\\n      <td>4.0</td>\\n      <td>[\\'Combine flour, seasoning mix and paprika in ...</td>\\n      <td>[\\'Cajun/Creole\\', \\'Chicken\\', \\'Sauté\\', \\'Low Fat\\'...</td>\\n      <td>Cajun Chicken with Capers and Lemon</td>\\n      <td>NaN</td>\\n      <td>https://www.epicurious.com/recipes/food/views/...</td>\\n      <td>Makes 4 servings</td>\\n      <td>0</td>\\n      <td>2.473802</td>\\n    </tr>\\n    <tr>\\n      <th>28346</th>\\n      <td>28346</td>\\n      <td>NaN</td>\\n      <td>A high-flavor, low-fat entrée. Serve it over r...</td>\\n      <td>NaN</td>\\n      <td>[\\'1/2 cup all purpose flour\\', \\'1 tablespoon Ca...</td>\\n      <td>83.0</td>\\n      <td>221.0</td>\\n      <td>14.0</td>\\n      <td>64.0</td>\\n      <td>8.0</td>\\n      <td>1.0</td>\\n      <td>4.0</td>\\n      <td>1.0</td>\\n      <td>22.0</td>\\n      <td>1.0</td>\\n      <td>155.0</td>\\n      <td>3.0</td>\\n      <td>5.0</td>\\n      <td>[]</td>\\n      <td>4.0</td>\\n      <td>[\\'Combine flour, seasoning mix and paprika in ...</td>\\n      <td>[\\'Cajun/Creole\\', \\'Chicken\\', \\'Poultry\\', \\'Sauté\\'...</td>\\n      <td>Cajun Chicken with Capers and Lemon</td>\\n      <td>NaN</td>\\n      <td>https://www.epicurious.com/recipes/food/views/...</td>\\n      <td>Serves 4</td>\\n      <td>0</td>\\n      <td>2.473802</td>\\n    </tr>\\n    <tr>\\n      <th>32897</th>\\n      <td>32897</td>\\n      <td>NaN</td>\\n      <td>Complete the main course with buttered sweet p...</td>\\n      <td>NaN</td>\\n      <td>[\\'2 chicken breast halves with skin and bones\\'...</td>\\n      <td>90.0</td>\\n      <td>277.0</td>\\n      <td>10.0</td>\\n      <td>56.0</td>\\n      <td>15.0</td>\\n      <td>1.0</td>\\n      <td>8.0</td>\\n      <td>3.0</td>\\n      <td>21.0</td>\\n      <td>3.0</td>\\n      <td>79.0</td>\\n      <td>3.0</td>\\n      <td>82.0</td>\\n      <td>[]</td>\\n      <td>2.0</td>\\n      <td>[\\'Preheat oven to 475°F. Run fingers under ski...</td>\\n      <td>[\\'Chicken\\', \\'Garlic\\', \\'Herb\\', \\'Roast\\', \\'Low Ca...</td>\\n      <td>Rosemary-Roasted Chicken and Garlic</td>\\n      <td>NaN</td>\\n      <td>https://www.epicurious.com/recipes/food/views/...</td>\\n      <td>Makes 2 servings (can be doubled)</td>\\n      <td>0</td>\\n      <td>2.124057</td>\\n    </tr>\\n    <tr>\\n      <th>3053</th>\\n      <td>3053</td>\\n      <td>5 minutes</td>\\n      <td>NaN</td>\\n      <td>https://assets.epicurious.com/photos/54cad7871...</td>\\n      <td>[\\'1 tablespoon olive oil\\', \\'1 garlic clove, mi...</td>\\n      <td>80.0</td>\\n      <td>328.0</td>\\n      <td>31.0</td>\\n      <td>51.0</td>\\n      <td>11.0</td>\\n      <td>5.0</td>\\n      <td>5.0</td>\\n      <td>2.0</td>\\n      <td>26.0</td>\\n      <td>3.0</td>\\n      <td>659.0</td>\\n      <td>3.5</td>\\n      <td>5.0</td>\\n      <td>[]</td>\\n      <td>6.0</td>\\n      <td>[\\'Heat olive oil in a large saucepan over medi...</td>\\n      <td>[\\'Soup/Stew\\', \\'Bean\\', \\'Chicken\\', \\'Kid-Friendly...</td>\\n      <td>Mom\\'s White Chicken Chili</td>\\n      <td>35 minutes</td>\\n      <td>https://www.epicurious.com/recipes/food/views/...</td>\\n      <td>Serves 6-8</td>\\n      <td>0</td>\\n      <td>2.088369</td>\\n    </tr>\\n    <tr>\\n      <th>27057</th>\\n      <td>27057</td>\\n      <td>NaN</td>\\n      <td>&lt;em&gt;(Suprêmes de Canette à la Coriandre, Endiv...</td>\\n      <td>NaN</td>\\n      <td>[\\'12 small heads of Belgian endive\\', \\'1 tables...</td>\\n      <td>94.0</td>\\n      <td>490.0</td>\\n      <td>49.0</td>\\n      <td>139.0</td>\\n      <td>16.0</td>\\n      <td>7.0</td>\\n      <td>7.0</td>\\n      <td>2.0</td>\\n      <td>38.0</td>\\n      <td>5.0</td>\\n      <td>327.0</td>\\n      <td>3.5</td>\\n      <td>16.0</td>\\n      <td>[]</td>\\n      <td>4.0</td>\\n      <td>[\\'Arrange endive in single layer in heavy larg...</td>\\n      <td>[\\'French\\', \\'Duck\\', \\'Orange\\', \\'Fall\\', \\'Endive\\',...</td>\\n      <td>Duck Breasts with Coriander, Endive, and Sweet...</td>\\n      <td>NaN</td>\\n      <td>https://www.epicurious.com/recipes/food/views/...</td>\\n      <td>Makes 4 servings</td>\\n      <td>0</td>\\n      <td>2.066910</td>\\n    </tr>\\n    <tr>\\n      <th>25044</th>\\n      <td>25044</td>\\n      <td>NaN</td>\\n      <td>NaN</td>\\n      <td>NaN</td>\\n      <td>[\\'12 ounces chicken stock\\', \\'1 1/2 ounces dice...</td>\\n      <td>55.0</td>\\n      <td>184.0</td>\\n      <td>37.0</td>\\n      <td>2.0</td>\\n      <td>2.0</td>\\n      <td>2.0</td>\\n      <td>1.0</td>\\n      <td>0.0</td>\\n      <td>6.0</td>\\n      <td>0.0</td>\\n      <td>101.0</td>\\n      <td>2.5</td>\\n      <td>23.0</td>\\n      <td>[]</td>\\n      <td>0.0</td>\\n      <td>[\\'1. Plump the cranberries in the wine for abo...</td>\\n      <td>[\\'American\\', \\'Side\\', \\'Bake\\', \\'Thanksgiving\\', \\'...</td>\\n      <td>Wild and Brown Rice Pilaf with Cranberries</td>\\n      <td>NaN</td>\\n      <td>https://www.epicurious.com/recipes/food/views/...</td>\\n      <td>Serves 10</td>\\n      <td>1</td>\\n      <td>1.893342</td>\\n    </tr>\\n    <tr>\\n      <th>8451</th>\\n      <td>8451</td>\\n      <td>25 min</td>\\n      <td>Carrots, braised in chicken broth and combined...</td>\\n      <td>https://assets.epicurious.com/photos/5609a77be...</td>\\n      <td>[\\'3 pounds carrots, peeled\\', \\'1 cup chicken st...</td>\\n      <td>88.0</td>\\n      <td>165.0</td>\\n      <td>25.0</td>\\n      <td>16.0</td>\\n      <td>7.0</td>\\n      <td>7.0</td>\\n      <td>2.0</td>\\n      <td>1.0</td>\\n      <td>4.0</td>\\n      <td>4.0</td>\\n      <td>165.0</td>\\n      <td>3.5</td>\\n      <td>37.0</td>\\n      <td>[]</td>\\n      <td>8.0</td>\\n      <td>[\\'Cut carrots into 3-by 1/2-inch sticks.\\', \\'Br...</td>\\n      <td>[\\'Side\\', \\'Braise\\', \\'Christmas\\', \\'Thanksgiving\\'...</td>\\n      <td>Carrots with Shallots, Sage, and Thyme</td>\\n      <td>25 min</td>\\n      <td>https://www.epicurious.com/recipes/food/views/...</td>\\n      <td>Makes 8 servings</td>\\n      <td>0</td>\\n      <td>1.844577</td>\\n    </tr>\\n    <tr>\\n      <th>10948</th>\\n      <td>10948</td>\\n      <td>NaN</td>\\n      <td>&lt;em&gt;&lt;strong&gt;Editor\\'s note:&lt;/strong&gt; The recipe...</td>\\n      <td>NaN</td>\\n      <td>[\\'Chicken breasts, bone-in, or chicken pieces\\'...</td>\\n      <td>13.0</td>\\n      <td>104.0</td>\\n      <td>0.0</td>\\n      <td>36.0</td>\\n      <td>6.0</td>\\n      <td>0.0</td>\\n      <td>3.0</td>\\n      <td>1.0</td>\\n      <td>12.0</td>\\n      <td>2.0</td>\\n      <td>134.0</td>\\n      <td>1.5</td>\\n      <td>9.0</td>\\n      <td>[]</td>\\n      <td>2.0</td>\\n      <td>[\\'Grilling Method: Indirect/Medium Heat\\', \\'Rem...</td>\\n      <td>[\\'Chicken\\', \\'Poultry\\', \\'Kid-Friendly\\', \\'Backya...</td>\\n      <td>Grilled Bone-in Chicken Breasts and Pieces</td>\\n      <td>NaN</td>\\n      <td>https://www.epicurious.com/recipes/food/views/...</td>\\n      <td>NaN</td>\\n      <td>1</td>\\n      <td>1.830198</td>\\n    </tr>\\n    <tr>\\n      <th>16063</th>\\n      <td>16063</td>\\n      <td>NaN</td>\\n      <td>The classic dish is updated by adding oven-roa...</td>\\n      <td>https://assets.epicurious.com/photos/560de53bf...</td>\\n      <td>[\\'1 1/2 pounds plum tomatoes, coarsely chopped...</td>\\n      <td>74.0</td>\\n      <td>916.0</td>\\n      <td>60.0</td>\\n      <td>178.0</td>\\n      <td>49.0</td>\\n      <td>7.0</td>\\n      <td>23.0</td>\\n      <td>9.0</td>\\n      <td>56.0</td>\\n      <td>12.0</td>\\n      <td>268.0</td>\\n      <td>3.0</td>\\n      <td>67.0</td>\\n      <td>[]</td>\\n      <td>6.0</td>\\n      <td>[\\'Preheat oven to 400°F. Combine plum tomatoes...</td>\\n      <td>[\\'Italian\\', \\'Chicken\\', \\'Mushroom\\', \\'Pasta\\', \\'T...</td>\\n      <td>Chicken Cacciatore</td>\\n      <td>NaN</td>\\n      <td>https://www.epicurious.com/recipes/food/views/...</td>\\n      <td>Makes 6 servings</td>\\n      <td>0</td>\\n      <td>1.782985</td>\\n    </tr>\\n    <tr>\\n      <th>16604</th>\\n      <td>16604</td>\\n      <td>NaN</td>\\n      <td>A rustic one-pot meal that\\'s similar to the cl...</td>\\n      <td>NaN</td>\\n      <td>[\\'1 14-ounce can low-salt chicken broth\\', \\'1 o...</td>\\n      <td>75.0</td>\\n      <td>610.0</td>\\n      <td>24.0</td>\\n      <td>190.0</td>\\n      <td>32.0</td>\\n      <td>4.0</td>\\n      <td>14.0</td>\\n      <td>7.0</td>\\n      <td>47.0</td>\\n      <td>9.0</td>\\n      <td>306.0</td>\\n      <td>3.0</td>\\n      <td>29.0</td>\\n      <td>[]</td>\\n      <td>6.0</td>\\n      <td>[\\'Preheat oven to 300°F. Bring broth and porci...</td>\\n      <td>[\\'Chicken\\', \\'Mushroom\\', \\'Onion\\', \\'Braise\\', \\'Ba...</td>\\n      <td>Chicken Shiraz with Porcini and Whole Shallots</td>\\n      <td>NaN</td>\\n      <td>https://www.epicurious.com/recipes/food/views/...</td>\\n      <td>Makes 6 servings</td>\\n      <td>0</td>\\n      <td>1.723238</td>\\n    </tr>\\n    <tr>\\n      <th>8258</th>\\n      <td>8258</td>\\n      <td>NaN</td>\\n      <td>NaN</td>\\n      <td>https://assets.epicurious.com/photos/56098eac6...</td>\\n      <td>[\\'1 tbsp olive oil\\', \\'2 cloves of garlic, mash...</td>\\n      <td>88.0</td>\\n      <td>539.0</td>\\n      <td>22.0</td>\\n      <td>115.0</td>\\n      <td>24.0</td>\\n      <td>2.0</td>\\n      <td>12.0</td>\\n      <td>4.0</td>\\n      <td>41.0</td>\\n      <td>6.0</td>\\n      <td>769.0</td>\\n      <td>3.0</td>\\n      <td>11.0</td>\\n      <td>[]</td>\\n      <td>2.0</td>\\n      <td>[\\'In a Dutch oven at medium heat, combine oliv...</td>\\n      <td>[\\'Soup/Stew\\', \\'Chicken\\', \\'Garlic\\', \\'Mushroom\\',...</td>\\n      <td>Dr. Lee\\'s Red Wine Chicken Stew</td>\\n      <td>NaN</td>\\n      <td>https://www.epicurious.com/recipes/food/views/...</td>\\n      <td>Serves 2</td>\\n      <td>1</td>\\n      <td>1.670895</td>\\n    </tr>\\n    <tr>\\n      <th>33600</th>\\n      <td>33600</td>\\n      <td>20 min</td>\\n      <td>NaN</td>\\n      <td>NaN</td>\\n      <td>[\\'3/4 pound ramps\\', \\'1 (3- to 3‚-pound) chicke...</td>\\n      <td>93.0</td>\\n      <td>712.0</td>\\n      <td>27.0</td>\\n      <td>174.0</td>\\n      <td>44.0</td>\\n      <td>4.0</td>\\n      <td>21.0</td>\\n      <td>9.0</td>\\n      <td>48.0</td>\\n      <td>11.0</td>\\n      <td>282.0</td>\\n      <td>3.5</td>\\n      <td>24.0</td>\\n      <td>[]</td>\\n      <td>4.0</td>\\n      <td>[\\'Preheat oven to 500°F.\\', \\'Trim roots from ra...</td>\\n      <td>[\\'Chicken\\', \\'Onion\\', \\'Potato\\', \\'Poultry\\', \\'Roa...</td>\\n      <td>Roasted Chicken, Ramps, and Potatoes</td>\\n      <td>1 hour</td>\\n      <td>https://www.epicurious.com/recipes/food/views/...</td>\\n      <td>Serves 4</td>\\n      <td>0</td>\\n      <td>1.653381</td>\\n    </tr>\\n    <tr>\\n      <th>28597</th>\\n      <td>28597</td>\\n      <td>NaN</td>\\n      <td>NaN</td>\\n      <td>https://assets.epicurious.com/photos/57b2154ef...</td>\\n      <td>[\\'4 cups cubed (1/2 inch) cooked chicken (abou...</td>\\n      <td>94.0</td>\\n      <td>740.0</td>\\n      <td>16.0</td>\\n      <td>166.0</td>\\n      <td>51.0</td>\\n      <td>2.0</td>\\n      <td>14.0</td>\\n      <td>26.0</td>\\n      <td>52.0</td>\\n      <td>9.0</td>\\n      <td>701.0</td>\\n      <td>3.5</td>\\n      <td>199.0</td>\\n      <td>[]</td>\\n      <td>4.0</td>\\n      <td>[\\'Toss together all ingredients in a large bow...</td>\\n      <td>[\\'American\\', \\'Salad\\', \\'Chicken\\', \\'Fruit\\', \\'No-...</td>\\n      <td>Chicken Salad with Grapes and Walnuts</td>\\n      <td>NaN</td>\\n      <td>https://www.epicurious.com/recipes/food/views/...</td>\\n      <td>Makes 4 to 6 servings</td>\\n      <td>0</td>\\n      <td>1.629091</td>\\n    </tr>\\n    <tr>\\n      <th>7383</th>\\n      <td>7383</td>\\n      <td>55 minutes</td>\\n      <td>A Sweet-sour &lt;em&gt;peperonata&lt;/em&gt; (roasted pepp...</td>\\n      <td>https://assets.epicurious.com/photos/56098f1b6...</td>\\n      <td>[\\'2 cups cream sherry\\', \\'1 1/2 cups low-salt c...</td>\\n      <td>100.0</td>\\n      <td>3899.0</td>\\n      <td>33.0</td>\\n      <td>1861.0</td>\\n      <td>209.0</td>\\n      <td>1.0</td>\\n      <td>80.0</td>\\n      <td>15.0</td>\\n      <td>431.0</td>\\n      <td>85.0</td>\\n      <td>2045.0</td>\\n      <td>4.0</td>\\n      <td>12.0</td>\\n      <td>[]</td>\\n      <td>6.0</td>\\n      <td>[\\'can be made 3 days ahead. Cool, cover, and c...</td>\\n      <td>[\\'Garlic\\', \\'Roast\\', \\'Hanukkah\\', \\'Quick &amp;amp; E...</td>\\n      <td>Veal Chops with Sherry Gastrique and Roasted P...</td>\\n      <td>55 minutes</td>\\n      <td>https://www.epicurious.com/recipes/food/views/...</td>\\n      <td>Makes 6 servings</td>\\n      <td>0</td>\\n      <td>1.619913</td>\\n    </tr>\\n    <tr>\\n      <th>31566</th>\\n      <td>31566</td>\\n      <td>NaN</td>\\n      <td>Great with egg noodles or mashed potatoes.</td>\\n      <td>NaN</td>\\n      <td>[\\'4 large boneless chicken breast halves with ...</td>\\n      <td>76.0</td>\\n      <td>293.0</td>\\n      <td>8.0</td>\\n      <td>85.0</td>\\n      <td>16.0</td>\\n      <td>1.0</td>\\n      <td>6.0</td>\\n      <td>2.0</td>\\n      <td>25.0</td>\\n      <td>7.0</td>\\n      <td>100.0</td>\\n      <td>3.0</td>\\n      <td>27.0</td>\\n      <td>[]</td>\\n      <td>4.0</td>\\n      <td>[\\'Sprinkle chicken with salt and pepper. Melt ...</td>\\n      <td>[\\'Chicken\\', \\'Onion\\', \\'Sauté\\', \\'Low Fat\\', \\'Quic...</td>\\n      <td>Braised Chicken with Onions and Herbs</td>\\n      <td>NaN</td>\\n      <td>https://www.epicurious.com/recipes/food/views/...</td>\\n      <td>Serves 4</td>\\n      <td>0</td>\\n      <td>1.591668</td>\\n    </tr>\\n    <tr>\\n      <th>25033</th>\\n      <td>25033</td>\\n      <td>NaN</td>\\n      <td>NaN</td>\\n      <td>NaN</td>\\n      <td>[\\'4 large onions (about 3/4 pound each)\\', \\'1/4...</td>\\n      <td>75.0</td>\\n      <td>507.0</td>\\n      <td>64.0</td>\\n      <td>92.0</td>\\n      <td>16.0</td>\\n      <td>8.0</td>\\n      <td>5.0</td>\\n      <td>4.0</td>\\n      <td>28.0</td>\\n      <td>6.0</td>\\n      <td>776.0</td>\\n      <td>2.5</td>\\n      <td>4.0</td>\\n      <td>[]</td>\\n      <td>4.0</td>\\n      <td>[\\'Cut the top 1/2 inch from each onion, peel t...</td>\\n      <td>[\\'Milk/Cream\\', \\'Onion\\', \\'Potato\\', \\'turkey\\', \\'B...</td>\\n      <td>Thanksgiving Stuffed Onions</td>\\n      <td>NaN</td>\\n      <td>https://www.epicurious.com/recipes/food/views/...</td>\\n      <td>Serves 4</td>\\n      <td>0</td>\\n      <td>1.574991</td>\\n    </tr>\\n  </tbody>\\n</table>'"
      ]
     },
     "execution_count": 35,
     "metadata": {},
     "output_type": "execute_result"
    }
   ],
   "source": [
    "r.to_html()"
   ]
  },
  {
   "cell_type": "code",
   "execution_count": null,
   "metadata": {},
   "outputs": [],
   "source": []
  }
 ],
 "metadata": {
  "kernelspec": {
   "display_name": "Python 3",
   "language": "python",
   "name": "python3"
  },
  "language_info": {
   "codemirror_mode": {
    "name": "ipython",
    "version": 3
   },
   "file_extension": ".py",
   "mimetype": "text/x-python",
   "name": "python",
   "nbconvert_exporter": "python",
   "pygments_lexer": "ipython3",
   "version": "3.6.5"
  }
 },
 "nbformat": 4,
 "nbformat_minor": 2
}
