{
 "cells": [
  {
   "cell_type": "code",
   "execution_count": 1,
   "metadata": {},
   "outputs": [
    {
     "data": {
      "text/plain": [
       "(35441, 25)"
      ]
     },
     "execution_count": 1,
     "metadata": {},
     "output_type": "execute_result"
    }
   ],
   "source": [
    "import pandas as pd\n",
    "df = pd.read_csv('../data/epi-recipes.csv')\n",
    "df.shape"
   ]
  },
  {
   "cell_type": "code",
   "execution_count": 2,
   "metadata": {},
   "outputs": [],
   "source": [
    "df['healthy'] = [1 if 'Healthy' in t else 0 for t in df.tags]"
   ]
  },
  {
   "cell_type": "code",
   "execution_count": 3,
   "metadata": {},
   "outputs": [
    {
     "data": {
      "text/plain": [
       "(35441, 27)"
      ]
     },
     "execution_count": 3,
     "metadata": {},
     "output_type": "execute_result"
    }
   ],
   "source": [
    "df[\"RRR\"] = ((df['nutritions.Protein']/50 + df['nutritions.Fiber']/25)/2) / ((df['nutritions.Calories']/2000 + df['nutritions.Saturated Fat']/20 + df['nutritions.Cholesterol']/300 + df['nutritions.Carbohydrates']/300 + df['nutritions.Sodium']/2400)/5)\n",
    "df.shape"
   ]
  },
  {
   "cell_type": "code",
   "execution_count": 4,
   "metadata": {},
   "outputs": [
    {
     "data": {
      "text/html": [
       "<div>\n",
       "<style scoped>\n",
       "    .dataframe tbody tr th:only-of-type {\n",
       "        vertical-align: middle;\n",
       "    }\n",
       "\n",
       "    .dataframe tbody tr th {\n",
       "        vertical-align: top;\n",
       "    }\n",
       "\n",
       "    .dataframe thead th {\n",
       "        text-align: right;\n",
       "    }\n",
       "</style>\n",
       "<table border=\"1\" class=\"dataframe\">\n",
       "  <thead>\n",
       "    <tr style=\"text-align: right;\">\n",
       "      <th></th>\n",
       "      <th>activetime</th>\n",
       "      <th>desc</th>\n",
       "      <th>imgurl</th>\n",
       "      <th>ingredients</th>\n",
       "      <th>makeagain</th>\n",
       "      <th>nutritions.Calories</th>\n",
       "      <th>nutritions.Carbohydrates</th>\n",
       "      <th>nutritions.Cholesterol</th>\n",
       "      <th>nutritions.Fat</th>\n",
       "      <th>nutritions.Fiber</th>\n",
       "      <th>...</th>\n",
       "      <th>reviews</th>\n",
       "      <th>serving</th>\n",
       "      <th>steps</th>\n",
       "      <th>tags</th>\n",
       "      <th>title</th>\n",
       "      <th>totaltime</th>\n",
       "      <th>url</th>\n",
       "      <th>yiel</th>\n",
       "      <th>healthy</th>\n",
       "      <th>RRR</th>\n",
       "    </tr>\n",
       "  </thead>\n",
       "  <tbody>\n",
       "    <tr>\n",
       "      <th>0</th>\n",
       "      <td>25 minutes</td>\n",
       "      <td>This summer-season chicken salad is a dance be...</td>\n",
       "      <td>https://assets.epicurious.com/photos/5b23ce065...</td>\n",
       "      <td>['1 small rotisserie chicken, skin removed, me...</td>\n",
       "      <td>88.0</td>\n",
       "      <td>301.0</td>\n",
       "      <td>9.0</td>\n",
       "      <td>76.0</td>\n",
       "      <td>19.0</td>\n",
       "      <td>3.0</td>\n",
       "      <td>...</td>\n",
       "      <td>[]</td>\n",
       "      <td>4.0</td>\n",
       "      <td>['Toss chicken, celery stalks, and 1 tsp. salt...</td>\n",
       "      <td>['Salad', 'Chicken', 'Celery', 'Buttermilk', '...</td>\n",
       "      <td>Chicken Salad with Apricots, Celery, and Blue ...</td>\n",
       "      <td>25 minutes</td>\n",
       "      <td>https://www.epicurious.com/recipes/food/views/...</td>\n",
       "      <td>4–6 servings</td>\n",
       "      <td>0</td>\n",
       "      <td>1.232485</td>\n",
       "    </tr>\n",
       "    <tr>\n",
       "      <th>1</th>\n",
       "      <td>NaN</td>\n",
       "      <td>If you want to go with the same flavors and ba...</td>\n",
       "      <td>https://assets.epicurious.com/photos/5b16fb154...</td>\n",
       "      <td>['1 (3 1/2–4-lb.) chicken, cut in half', '4 ts...</td>\n",
       "      <td>0.0</td>\n",
       "      <td>403.0</td>\n",
       "      <td>4.0</td>\n",
       "      <td>124.0</td>\n",
       "      <td>31.0</td>\n",
       "      <td>0.0</td>\n",
       "      <td>...</td>\n",
       "      <td>[]</td>\n",
       "      <td>8.0</td>\n",
       "      <td>['Sprinkle chicken all over with salt and 1 1/...</td>\n",
       "      <td>['Bon Appétit', 'Dinner', 'Grill', 'Grill/Barb...</td>\n",
       "      <td>Grilled Lemon-Pepper Chicken</td>\n",
       "      <td>NaN</td>\n",
       "      <td>https://www.epicurious.com/recipes/food/views/...</td>\n",
       "      <td>8 servings</td>\n",
       "      <td>0</td>\n",
       "      <td>0.994292</td>\n",
       "    </tr>\n",
       "    <tr>\n",
       "      <th>2</th>\n",
       "      <td>NaN</td>\n",
       "      <td>Truly comforting, simple, and pure chicken sto...</td>\n",
       "      <td>https://assets.epicurious.com/photos/54c52b86e...</td>\n",
       "      <td>['2 lb. chicken parts', '1 lb. ground chicken'...</td>\n",
       "      <td>0.0</td>\n",
       "      <td>NaN</td>\n",
       "      <td>NaN</td>\n",
       "      <td>NaN</td>\n",
       "      <td>NaN</td>\n",
       "      <td>NaN</td>\n",
       "      <td>...</td>\n",
       "      <td>[]</td>\n",
       "      <td>0.0</td>\n",
       "      <td>['Combine chicken parts, ground chicken, onion...</td>\n",
       "      <td>['Instant Pot', 'Pressure Cooker', 'Chicken', ...</td>\n",
       "      <td>Instant Pot Chicken Stock</td>\n",
       "      <td>2 hours</td>\n",
       "      <td>https://www.epicurious.com/recipes/food/views/...</td>\n",
       "      <td>Makes about 4 cups</td>\n",
       "      <td>0</td>\n",
       "      <td>NaN</td>\n",
       "    </tr>\n",
       "    <tr>\n",
       "      <th>3</th>\n",
       "      <td>NaN</td>\n",
       "      <td>You'll save at least an hour or two of cooking...</td>\n",
       "      <td>https://assets.epicurious.com/photos/54c52b652...</td>\n",
       "      <td>['1 lb. dried black beans (about 2 cups)', '1 ...</td>\n",
       "      <td>0.0</td>\n",
       "      <td>NaN</td>\n",
       "      <td>NaN</td>\n",
       "      <td>NaN</td>\n",
       "      <td>NaN</td>\n",
       "      <td>NaN</td>\n",
       "      <td>...</td>\n",
       "      <td>[]</td>\n",
       "      <td>0.0</td>\n",
       "      <td>['Combine beans, onion, lard, salt, cilantro s...</td>\n",
       "      <td>['Instant Pot', 'Pressure Cooker', 'Bean', 'On...</td>\n",
       "      <td>Instant Pot Refried Black Beans</td>\n",
       "      <td>1 hour 15 minutes</td>\n",
       "      <td>https://www.epicurious.com/recipes/food/views/...</td>\n",
       "      <td>About 5 cups</td>\n",
       "      <td>0</td>\n",
       "      <td>NaN</td>\n",
       "    </tr>\n",
       "    <tr>\n",
       "      <th>4</th>\n",
       "      <td>NaN</td>\n",
       "      <td>This meaty and rich batch of Bolognese takes l...</td>\n",
       "      <td>https://assets.epicurious.com/photos/54c52b47e...</td>\n",
       "      <td>['1 Tbsp. extra-virgin olive oil', '1 Tbsp. un...</td>\n",
       "      <td>0.0</td>\n",
       "      <td>295.0</td>\n",
       "      <td>25.0</td>\n",
       "      <td>42.0</td>\n",
       "      <td>15.0</td>\n",
       "      <td>1.0</td>\n",
       "      <td>...</td>\n",
       "      <td>[]</td>\n",
       "      <td>6.0</td>\n",
       "      <td>['Set pressure cooker to medium heat or \"Sauté...</td>\n",
       "      <td>[]</td>\n",
       "      <td>Instant Pot Bolognese</td>\n",
       "      <td>1 hour 25 minutes</td>\n",
       "      <td>https://www.epicurious.com/recipes/food/views/...</td>\n",
       "      <td>Makes about 4 1/2 cups</td>\n",
       "      <td>0</td>\n",
       "      <td>0.928314</td>\n",
       "    </tr>\n",
       "  </tbody>\n",
       "</table>\n",
       "<p>5 rows × 27 columns</p>\n",
       "</div>"
      ],
      "text/plain": [
       "   activetime                                               desc  \\\n",
       "0  25 minutes  This summer-season chicken salad is a dance be...   \n",
       "1         NaN  If you want to go with the same flavors and ba...   \n",
       "2         NaN  Truly comforting, simple, and pure chicken sto...   \n",
       "3         NaN  You'll save at least an hour or two of cooking...   \n",
       "4         NaN  This meaty and rich batch of Bolognese takes l...   \n",
       "\n",
       "                                              imgurl  \\\n",
       "0  https://assets.epicurious.com/photos/5b23ce065...   \n",
       "1  https://assets.epicurious.com/photos/5b16fb154...   \n",
       "2  https://assets.epicurious.com/photos/54c52b86e...   \n",
       "3  https://assets.epicurious.com/photos/54c52b652...   \n",
       "4  https://assets.epicurious.com/photos/54c52b47e...   \n",
       "\n",
       "                                         ingredients  makeagain  \\\n",
       "0  ['1 small rotisserie chicken, skin removed, me...       88.0   \n",
       "1  ['1 (3 1/2–4-lb.) chicken, cut in half', '4 ts...        0.0   \n",
       "2  ['2 lb. chicken parts', '1 lb. ground chicken'...        0.0   \n",
       "3  ['1 lb. dried black beans (about 2 cups)', '1 ...        0.0   \n",
       "4  ['1 Tbsp. extra-virgin olive oil', '1 Tbsp. un...        0.0   \n",
       "\n",
       "   nutritions.Calories  nutritions.Carbohydrates  nutritions.Cholesterol  \\\n",
       "0                301.0                       9.0                    76.0   \n",
       "1                403.0                       4.0                   124.0   \n",
       "2                  NaN                       NaN                     NaN   \n",
       "3                  NaN                       NaN                     NaN   \n",
       "4                295.0                      25.0                    42.0   \n",
       "\n",
       "   nutritions.Fat  nutritions.Fiber    ...     reviews  serving  \\\n",
       "0            19.0               3.0    ...          []      4.0   \n",
       "1            31.0               0.0    ...          []      8.0   \n",
       "2             NaN               NaN    ...          []      0.0   \n",
       "3             NaN               NaN    ...          []      0.0   \n",
       "4            15.0               1.0    ...          []      6.0   \n",
       "\n",
       "                                               steps  \\\n",
       "0  ['Toss chicken, celery stalks, and 1 tsp. salt...   \n",
       "1  ['Sprinkle chicken all over with salt and 1 1/...   \n",
       "2  ['Combine chicken parts, ground chicken, onion...   \n",
       "3  ['Combine beans, onion, lard, salt, cilantro s...   \n",
       "4  ['Set pressure cooker to medium heat or \"Sauté...   \n",
       "\n",
       "                                                tags  \\\n",
       "0  ['Salad', 'Chicken', 'Celery', 'Buttermilk', '...   \n",
       "1  ['Bon Appétit', 'Dinner', 'Grill', 'Grill/Barb...   \n",
       "2  ['Instant Pot', 'Pressure Cooker', 'Chicken', ...   \n",
       "3  ['Instant Pot', 'Pressure Cooker', 'Bean', 'On...   \n",
       "4                                                 []   \n",
       "\n",
       "                                               title          totaltime  \\\n",
       "0  Chicken Salad with Apricots, Celery, and Blue ...         25 minutes   \n",
       "1                       Grilled Lemon-Pepper Chicken                NaN   \n",
       "2                          Instant Pot Chicken Stock            2 hours   \n",
       "3                    Instant Pot Refried Black Beans  1 hour 15 minutes   \n",
       "4                              Instant Pot Bolognese  1 hour 25 minutes   \n",
       "\n",
       "                                                 url                    yiel  \\\n",
       "0  https://www.epicurious.com/recipes/food/views/...            4–6 servings   \n",
       "1  https://www.epicurious.com/recipes/food/views/...              8 servings   \n",
       "2  https://www.epicurious.com/recipes/food/views/...      Makes about 4 cups   \n",
       "3  https://www.epicurious.com/recipes/food/views/...            About 5 cups   \n",
       "4  https://www.epicurious.com/recipes/food/views/...  Makes about 4 1/2 cups   \n",
       "\n",
       "   healthy       RRR  \n",
       "0        0  1.232485  \n",
       "1        0  0.994292  \n",
       "2        0       NaN  \n",
       "3        0       NaN  \n",
       "4        0  0.928314  \n",
       "\n",
       "[5 rows x 27 columns]"
      ]
     },
     "execution_count": 4,
     "metadata": {},
     "output_type": "execute_result"
    }
   ],
   "source": [
    "df.head()"
   ]
  },
  {
   "cell_type": "code",
   "execution_count": 5,
   "metadata": {},
   "outputs": [],
   "source": [
    "df['activetime'] = df['activetime'].fillna('')\n",
    "df['desc'] = df['desc'].fillna('')\n",
    "df['imgurl'] = df['imgurl'].fillna('')\n",
    "df['ingredients'] = df['ingredients'].fillna('')\n",
    "df['reviews'] = df['reviews'].fillna('')\n",
    "df['steps'] = df['steps'].fillna('')\n",
    "df['tags'] = df['tags'].fillna('')\n",
    "df['title'] = df['title'].fillna('')\n",
    "df['totaltime'] = df['totaltime'].fillna('')\n",
    "df['url'] = df['url'].fillna('')\n",
    "df['yiel'] = df['yiel'].fillna('')"
   ]
  },
  {
   "cell_type": "code",
   "execution_count": 6,
   "metadata": {},
   "outputs": [],
   "source": [
    "df['makeagain'] = df['makeagain'].fillna(0)\n",
    "df['rating'] = df['rating'].fillna(0)\n",
    "df['reviewcount'] = df['reviewcount'].fillna(0)\n",
    "df['RRR'] = df['RRR'].fillna(0)\n",
    "df['serving'] = df['serving'].fillna(0)\n",
    "df['nutritions.Calories'] = df['nutritions.Calories'].fillna(0)\n",
    "df['nutritions.Carbohydrates'] = df['nutritions.Carbohydrates'].fillna(0)\n",
    "df['nutritions.Cholesterol'] = df['nutritions.Cholesterol'].fillna(0)\n",
    "df['nutritions.Fat'] = df['nutritions.Fat'].fillna(0)\n",
    "df['nutritions.Fiber'] = df['nutritions.Fiber'].fillna(0)\n",
    "df['nutritions.Monounsaturated Fat'] = df['nutritions.Monounsaturated Fat'].fillna(0)\n",
    "df['nutritions.Polyunsaturated Fat'] = df['nutritions.Polyunsaturated Fat'].fillna(0)\n",
    "df['nutritions.Protein'] = df['nutritions.Protein'].fillna(0)\n",
    "df['nutritions.Saturated Fat'] = df['nutritions.Saturated Fat'].fillna(0)\n",
    "df['nutritions.Sodium'] = df['nutritions.Sodium'].fillna(0)"
   ]
  },
  {
   "cell_type": "code",
   "execution_count": 7,
   "metadata": {},
   "outputs": [],
   "source": [
    "from whoosh.qparser import *\n",
    "from whoosh.fields import Schema, TEXT, KEYWORD, ID, STORED,NUMERIC\n",
    "from whoosh.analysis import StemmingAnalyzer,StandardAnalyzer\n",
    "from whoosh import index\n",
    "import os, os.path"
   ]
  },
  {
   "cell_type": "code",
   "execution_count": 6,
   "metadata": {},
   "outputs": [],
   "source": [
    "schema = Schema(makeagain = NUMERIC(stored=True),\n",
    "                rating = NUMERIC(stored=True),\n",
    "                reviewcount = NUMERIC(stored=True),\n",
    "                RRR = NUMERIC(stored=True),\n",
    "                serving = NUMERIC(stored=True),\n",
    "                nutritionsCaloriese = NUMERIC(stored=True),\n",
    "                nutritionsCarbohydrates = NUMERIC(stored=True),\n",
    "                nutritionsCholesterol = NUMERIC(stored=True),\n",
    "                nutritionsFat = NUMERIC(stored=True),\n",
    "                nutritionsFiber = NUMERIC(stored=True),\n",
    "                nutritionsMonounsaturated = NUMERIC(stored=True),\n",
    "                nutritionsPolyunsaturated = NUMERIC(stored=True),\n",
    "                nutritionsProtein = NUMERIC(stored=True),\n",
    "                nutritionsSaturated = NUMERIC(stored=True),\n",
    "                nutritionsSodium = NUMERIC(stored=True),\n",
    "                url = TEXT(stored=True),\n",
    "                imgurl = TEXT(stored=True),\n",
    "                activetime = TEXT(stored=True),\n",
    "                totaltime = TEXT(stored=True),\n",
    "                yiel = TEXT(stored=True),\n",
    "                title = TEXT(stored=True),\n",
    "                desc = TEXT(stored=True),\n",
    "                ingredients = TEXT(stored=True),\n",
    "                steps = TEXT(stored=True),\n",
    "                reviews = TEXT(stored=True),\n",
    "                tags = TEXT(stored=True))"
   ]
  },
  {
   "cell_type": "code",
   "execution_count": 7,
   "metadata": {},
   "outputs": [],
   "source": [
    "def write(data):\n",
    "    writer.add_document(makeagain = data['makeagain'],\n",
    "                        rating = data['rating'],\n",
    "                        reviewcount = data['reviewcount'],\n",
    "                        RRR = data['RRR'],\n",
    "                        serving = data['serving'],\n",
    "                        nutritionsCaloriese = data['nutritions.Calories'],\n",
    "                        nutritionsCarbohydrates = data['nutritions.Carbohydrates'],\n",
    "                        nutritionsCholesterol = data['nutritions.Cholesterol'],\n",
    "                        nutritionsFat = data['nutritions.Fat'],\n",
    "                        nutritionsFiber = data['nutritions.Fiber'],\n",
    "                        nutritionsMonounsaturated = data['nutritions.Monounsaturated Fat'],\n",
    "                        nutritionsPolyunsaturated = data['nutritions.Polyunsaturated Fat'],\n",
    "                        nutritionsProtein = data['nutritions.Protein'],\n",
    "                        nutritionsSaturated = data['nutritions.Saturated Fat'],\n",
    "                        nutritionsSodium = data['nutritions.Sodium'],\n",
    "                        url = data['url'],\n",
    "                        imgurl = data['imgurl'],\n",
    "                        activetime = data['activetime'],\n",
    "                        totaltime = data['totaltime'],\n",
    "                        yiel = data['yiel'],\n",
    "                        title = data['title'],\n",
    "                        desc = data['desc'],\n",
    "                        ingredients = data['ingredients'],\n",
    "                        steps = data['steps'],\n",
    "                        reviews = data['reviews'],\n",
    "                        tags = data['tags'])"
   ]
  },
  {
   "cell_type": "code",
   "execution_count": 8,
   "metadata": {},
   "outputs": [],
   "source": [
    "if not os.path.exists(\"indexdir\"):\n",
    "    os.mkdir(\"indexdir\")\n",
    "ix = index.create_in(\"indexdir\", schema)\n",
    "ix = index.open_dir(\"indexdir\")\n",
    "writer = ix.writer()"
   ]
  },
  {
   "cell_type": "code",
   "execution_count": 9,
   "metadata": {},
   "outputs": [],
   "source": [
    "df1 = df[:1000]\n",
    "for idx, row in df1.iterrows():\n",
    "    write(row)"
   ]
  },
  {
   "cell_type": "code",
   "execution_count": 10,
   "metadata": {},
   "outputs": [],
   "source": [
    "writer.commit()"
   ]
  },
  {
   "cell_type": "code",
   "execution_count": 11,
   "metadata": {},
   "outputs": [],
   "source": [
    "writer = ix.writer()\n",
    "df2 = df[1000:3000]\n",
    "for idx, row in df2.iterrows():\n",
    "    write(row)"
   ]
  },
  {
   "cell_type": "code",
   "execution_count": 12,
   "metadata": {},
   "outputs": [],
   "source": [
    "writer.commit()"
   ]
  },
  {
   "cell_type": "code",
   "execution_count": 13,
   "metadata": {},
   "outputs": [],
   "source": [
    "writer = ix.writer()\n",
    "df3 = df[3000:5000]\n",
    "for idx, row in df3.iterrows():\n",
    "    write(row)"
   ]
  },
  {
   "cell_type": "code",
   "execution_count": 14,
   "metadata": {},
   "outputs": [],
   "source": [
    "writer.commit()"
   ]
  },
  {
   "cell_type": "code",
   "execution_count": 15,
   "metadata": {},
   "outputs": [],
   "source": [
    "writer = ix.writer()\n",
    "df4 = df[5000:7000]\n",
    "for idx, row in df4.iterrows():\n",
    "    write(row)"
   ]
  },
  {
   "cell_type": "code",
   "execution_count": 16,
   "metadata": {},
   "outputs": [],
   "source": [
    "writer.commit()"
   ]
  },
  {
   "cell_type": "code",
   "execution_count": 17,
   "metadata": {},
   "outputs": [],
   "source": [
    "writer = ix.writer()\n",
    "df5 = df[7000:9000]\n",
    "for idx, row in df5.iterrows():\n",
    "    write(row)"
   ]
  },
  {
   "cell_type": "code",
   "execution_count": 18,
   "metadata": {},
   "outputs": [],
   "source": [
    "writer.commit()"
   ]
  },
  {
   "cell_type": "code",
   "execution_count": 19,
   "metadata": {},
   "outputs": [],
   "source": [
    "writer = ix.writer()\n",
    "df6 = df[9000:11000]\n",
    "for idx, row in df6.iterrows():\n",
    "    write(row)"
   ]
  },
  {
   "cell_type": "code",
   "execution_count": 20,
   "metadata": {},
   "outputs": [],
   "source": [
    "writer.commit()"
   ]
  },
  {
   "cell_type": "code",
   "execution_count": 21,
   "metadata": {},
   "outputs": [],
   "source": [
    "writer = ix.writer()\n",
    "df7 = df[11000:13000]\n",
    "for idx, row in df7.iterrows():\n",
    "    write(row)"
   ]
  },
  {
   "cell_type": "code",
   "execution_count": 22,
   "metadata": {},
   "outputs": [],
   "source": [
    "writer.commit()"
   ]
  },
  {
   "cell_type": "code",
   "execution_count": 23,
   "metadata": {},
   "outputs": [],
   "source": [
    "writer = ix.writer()\n",
    "df8 = df[13000:15000]\n",
    "for idx, row in df8.iterrows():\n",
    "    write(row)"
   ]
  },
  {
   "cell_type": "code",
   "execution_count": 24,
   "metadata": {},
   "outputs": [],
   "source": [
    "writer.commit()"
   ]
  },
  {
   "cell_type": "code",
   "execution_count": 25,
   "metadata": {},
   "outputs": [],
   "source": [
    "writer = ix.writer()\n",
    "df9 = df[15000:17000]\n",
    "for idx, row in df9.iterrows():\n",
    "    write(row)"
   ]
  },
  {
   "cell_type": "code",
   "execution_count": 26,
   "metadata": {},
   "outputs": [],
   "source": [
    "writer.commit()"
   ]
  },
  {
   "cell_type": "code",
   "execution_count": 27,
   "metadata": {},
   "outputs": [],
   "source": [
    "writer = ix.writer()\n",
    "df10 = df[17000:19000]\n",
    "for idx, row in df10.iterrows():\n",
    "    write(row)"
   ]
  },
  {
   "cell_type": "code",
   "execution_count": 28,
   "metadata": {},
   "outputs": [],
   "source": [
    "writer.commit()"
   ]
  },
  {
   "cell_type": "code",
   "execution_count": 29,
   "metadata": {},
   "outputs": [],
   "source": [
    "writer = ix.writer()\n",
    "df11 = df[19000:21000]\n",
    "for idx, row in df11.iterrows():\n",
    "    write(row)"
   ]
  },
  {
   "cell_type": "code",
   "execution_count": 30,
   "metadata": {},
   "outputs": [],
   "source": [
    "writer.commit()"
   ]
  },
  {
   "cell_type": "code",
   "execution_count": 31,
   "metadata": {},
   "outputs": [],
   "source": [
    "writer = ix.writer()\n",
    "df12 = df[21000:23000]\n",
    "for idx, row in df12.iterrows():\n",
    "    write(row)"
   ]
  },
  {
   "cell_type": "code",
   "execution_count": 32,
   "metadata": {},
   "outputs": [],
   "source": [
    "writer.commit()"
   ]
  },
  {
   "cell_type": "code",
   "execution_count": 33,
   "metadata": {},
   "outputs": [],
   "source": [
    "writer = ix.writer()\n",
    "df13 = df[23000:25000]\n",
    "for idx, row in df13.iterrows():\n",
    "    write(row)"
   ]
  },
  {
   "cell_type": "code",
   "execution_count": 34,
   "metadata": {},
   "outputs": [],
   "source": [
    "writer.commit()"
   ]
  },
  {
   "cell_type": "code",
   "execution_count": 35,
   "metadata": {},
   "outputs": [],
   "source": [
    "writer = ix.writer()\n",
    "df14 = df[25000:27000]\n",
    "for idx, row in df14.iterrows():\n",
    "    write(row)"
   ]
  },
  {
   "cell_type": "code",
   "execution_count": 36,
   "metadata": {},
   "outputs": [],
   "source": [
    "writer.commit()"
   ]
  },
  {
   "cell_type": "code",
   "execution_count": 37,
   "metadata": {},
   "outputs": [],
   "source": [
    "writer = ix.writer()\n",
    "df15 = df[27000:29000]\n",
    "for idx, row in df15.iterrows():\n",
    "    write(row)"
   ]
  },
  {
   "cell_type": "code",
   "execution_count": 38,
   "metadata": {},
   "outputs": [],
   "source": [
    "writer.commit()"
   ]
  },
  {
   "cell_type": "code",
   "execution_count": 39,
   "metadata": {},
   "outputs": [],
   "source": [
    "writer = ix.writer()\n",
    "df16 = df[29000:31000]\n",
    "for idx, row in df16.iterrows():\n",
    "    write(row)"
   ]
  },
  {
   "cell_type": "code",
   "execution_count": 40,
   "metadata": {},
   "outputs": [],
   "source": [
    "writer.commit()"
   ]
  },
  {
   "cell_type": "code",
   "execution_count": 41,
   "metadata": {},
   "outputs": [],
   "source": [
    "writer = ix.writer()\n",
    "df17 = df[31000:33000]\n",
    "for idx, row in df17.iterrows():\n",
    "    write(row)"
   ]
  },
  {
   "cell_type": "code",
   "execution_count": 42,
   "metadata": {},
   "outputs": [],
   "source": [
    "writer.commit()"
   ]
  },
  {
   "cell_type": "code",
   "execution_count": 44,
   "metadata": {},
   "outputs": [],
   "source": [
    "writer = ix.writer()\n",
    "df18 = df[33000:35441]\n",
    "for idx, row in df18.iterrows():\n",
    "    write(row)"
   ]
  },
  {
   "cell_type": "code",
   "execution_count": 45,
   "metadata": {},
   "outputs": [],
   "source": [
    "writer.commit()"
   ]
  },
  {
   "cell_type": "code",
   "execution_count": null,
   "metadata": {},
   "outputs": [],
   "source": []
  },
  {
   "cell_type": "code",
   "execution_count": 46,
   "metadata": {},
   "outputs": [
    {
     "name": "stdout",
     "output_type": "stream",
     "text": [
      "ingredients:chicken\n"
     ]
    }
   ],
   "source": [
    "parser = QueryParser(\"ingredients\",schema=schema) \n",
    "result = parser.parse(u\"chicken\")\n",
    "print(result)"
   ]
  },
  {
   "cell_type": "code",
   "execution_count": 47,
   "metadata": {},
   "outputs": [
    {
     "name": "stdout",
     "output_type": "stream",
     "text": [
      "4689\n"
     ]
    }
   ],
   "source": [
    "with ix.searcher() as searcher:\n",
    "    results = searcher.search(result)#The Results object acts like a list of the matched documents.\n",
    "    print(len(results))"
   ]
  },
  {
   "cell_type": "code",
   "execution_count": null,
   "metadata": {},
   "outputs": [],
   "source": []
  }
 ],
 "metadata": {
  "kernelspec": {
   "display_name": "Python 3",
   "language": "python",
   "name": "python3"
  },
  "language_info": {
   "codemirror_mode": {
    "name": "ipython",
    "version": 3
   },
   "file_extension": ".py",
   "mimetype": "text/x-python",
   "name": "python",
   "nbconvert_exporter": "python",
   "pygments_lexer": "ipython3",
   "version": "3.6.5"
  }
 },
 "nbformat": 4,
 "nbformat_minor": 2
}
