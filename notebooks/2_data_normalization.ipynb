{
 "cells": [
  {
   "cell_type": "code",
   "execution_count": 1,
   "metadata": {},
   "outputs": [],
   "source": [
    "import numpy as np\n",
    "import pandas as pd"
   ]
  },
  {
   "cell_type": "code",
   "execution_count": 2,
   "metadata": {},
   "outputs": [
    {
     "data": {
      "text/plain": [
       "(35441, 25)"
      ]
     },
     "execution_count": 2,
     "metadata": {},
     "output_type": "execute_result"
    }
   ],
   "source": [
    "df = pd.read_csv('../data/epi-recipes.csv')\n",
    "df.shape"
   ]
  },
  {
   "cell_type": "code",
   "execution_count": 4,
   "metadata": {},
   "outputs": [
    {
     "data": {
      "text/plain": [
       "Index(['activetime', 'desc', 'imgurl', 'ingredients', 'makeagain',\n",
       "       'nutritions.Calories', 'nutritions.Carbohydrates',\n",
       "       'nutritions.Cholesterol', 'nutritions.Fat', 'nutritions.Fiber',\n",
       "       'nutritions.Monounsaturated Fat', 'nutritions.Polyunsaturated Fat',\n",
       "       'nutritions.Protein', 'nutritions.Saturated Fat', 'nutritions.Sodium',\n",
       "       'rating', 'reviewcount', 'reviews', 'serving', 'steps', 'tags', 'title',\n",
       "       'totaltime', 'url', 'yiel'],\n",
       "      dtype='object')"
      ]
     },
     "execution_count": 4,
     "metadata": {},
     "output_type": "execute_result"
    }
   ],
   "source": [
    "df.columns"
   ]
  },
  {
   "cell_type": "code",
   "execution_count": 16,
   "metadata": {},
   "outputs": [],
   "source": [
    "healthy = ['Healthy' in t for t in df.tags]"
   ]
  },
  {
   "cell_type": "code",
   "execution_count": 17,
   "metadata": {},
   "outputs": [
    {
     "data": {
      "text/plain": [
       "(35441, 26)"
      ]
     },
     "execution_count": 17,
     "metadata": {},
     "output_type": "execute_result"
    }
   ],
   "source": [
    "df['healthy'] = healthy\n",
    "df.shape"
   ]
  },
  {
   "cell_type": "code",
   "execution_count": 20,
   "metadata": {},
   "outputs": [],
   "source": [
    "df_num = df[['title', 'healthy','rating', 'reviewcount', 'makeagain', \n",
    "             'nutritions.Calories', 'nutritions.Carbohydrates', 'nutritions.Cholesterol', 'nutritions.Fat', \n",
    "             'nutritions.Fiber', 'nutritions.Monounsaturated Fat', 'nutritions.Polyunsaturated Fat',\n",
    "             'nutritions.Protein', 'nutritions.Saturated Fat', 'nutritions.Sodium']]"
   ]
  },
  {
   "cell_type": "code",
   "execution_count": 22,
   "metadata": {},
   "outputs": [
    {
     "data": {
      "text/plain": [
       "(35441, 15)"
      ]
     },
     "execution_count": 22,
     "metadata": {},
     "output_type": "execute_result"
    }
   ],
   "source": [
    "df_num.shape"
   ]
  },
  {
   "cell_type": "code",
   "execution_count": 23,
   "metadata": {},
   "outputs": [
    {
     "data": {
      "text/html": [
       "<div>\n",
       "<style scoped>\n",
       "    .dataframe tbody tr th:only-of-type {\n",
       "        vertical-align: middle;\n",
       "    }\n",
       "\n",
       "    .dataframe tbody tr th {\n",
       "        vertical-align: top;\n",
       "    }\n",
       "\n",
       "    .dataframe thead th {\n",
       "        text-align: right;\n",
       "    }\n",
       "</style>\n",
       "<table border=\"1\" class=\"dataframe\">\n",
       "  <thead>\n",
       "    <tr style=\"text-align: right;\">\n",
       "      <th></th>\n",
       "      <th>title</th>\n",
       "      <th>healthy</th>\n",
       "      <th>rating</th>\n",
       "      <th>reviewcount</th>\n",
       "      <th>makeagain</th>\n",
       "      <th>nutritions.Calories</th>\n",
       "      <th>nutritions.Carbohydrates</th>\n",
       "      <th>nutritions.Cholesterol</th>\n",
       "      <th>nutritions.Fat</th>\n",
       "      <th>nutritions.Fiber</th>\n",
       "      <th>nutritions.Monounsaturated Fat</th>\n",
       "      <th>nutritions.Polyunsaturated Fat</th>\n",
       "      <th>nutritions.Protein</th>\n",
       "      <th>nutritions.Saturated Fat</th>\n",
       "      <th>nutritions.Sodium</th>\n",
       "    </tr>\n",
       "  </thead>\n",
       "  <tbody>\n",
       "    <tr>\n",
       "      <th>0</th>\n",
       "      <td>Chicken Salad with Apricots, Celery, and Blue ...</td>\n",
       "      <td>False</td>\n",
       "      <td>3.0</td>\n",
       "      <td>8.0</td>\n",
       "      <td>88.0</td>\n",
       "      <td>301.0</td>\n",
       "      <td>9.0</td>\n",
       "      <td>76.0</td>\n",
       "      <td>19.0</td>\n",
       "      <td>3.0</td>\n",
       "      <td>7.0</td>\n",
       "      <td>3.0</td>\n",
       "      <td>22.0</td>\n",
       "      <td>9.0</td>\n",
       "      <td>605.0</td>\n",
       "    </tr>\n",
       "    <tr>\n",
       "      <th>1</th>\n",
       "      <td>Grilled Lemon-Pepper Chicken</td>\n",
       "      <td>False</td>\n",
       "      <td>0.0</td>\n",
       "      <td>0.0</td>\n",
       "      <td>0.0</td>\n",
       "      <td>403.0</td>\n",
       "      <td>4.0</td>\n",
       "      <td>124.0</td>\n",
       "      <td>31.0</td>\n",
       "      <td>0.0</td>\n",
       "      <td>13.0</td>\n",
       "      <td>5.0</td>\n",
       "      <td>27.0</td>\n",
       "      <td>10.0</td>\n",
       "      <td>551.0</td>\n",
       "    </tr>\n",
       "    <tr>\n",
       "      <th>2</th>\n",
       "      <td>Instant Pot Chicken Stock</td>\n",
       "      <td>False</td>\n",
       "      <td>0.0</td>\n",
       "      <td>0.0</td>\n",
       "      <td>0.0</td>\n",
       "      <td>NaN</td>\n",
       "      <td>NaN</td>\n",
       "      <td>NaN</td>\n",
       "      <td>NaN</td>\n",
       "      <td>NaN</td>\n",
       "      <td>NaN</td>\n",
       "      <td>NaN</td>\n",
       "      <td>NaN</td>\n",
       "      <td>NaN</td>\n",
       "      <td>NaN</td>\n",
       "    </tr>\n",
       "    <tr>\n",
       "      <th>3</th>\n",
       "      <td>Instant Pot Refried Black Beans</td>\n",
       "      <td>False</td>\n",
       "      <td>0.0</td>\n",
       "      <td>0.0</td>\n",
       "      <td>0.0</td>\n",
       "      <td>NaN</td>\n",
       "      <td>NaN</td>\n",
       "      <td>NaN</td>\n",
       "      <td>NaN</td>\n",
       "      <td>NaN</td>\n",
       "      <td>NaN</td>\n",
       "      <td>NaN</td>\n",
       "      <td>NaN</td>\n",
       "      <td>NaN</td>\n",
       "      <td>NaN</td>\n",
       "    </tr>\n",
       "    <tr>\n",
       "      <th>4</th>\n",
       "      <td>Instant Pot Bolognese</td>\n",
       "      <td>False</td>\n",
       "      <td>0.0</td>\n",
       "      <td>0.0</td>\n",
       "      <td>0.0</td>\n",
       "      <td>295.0</td>\n",
       "      <td>25.0</td>\n",
       "      <td>42.0</td>\n",
       "      <td>15.0</td>\n",
       "      <td>1.0</td>\n",
       "      <td>6.0</td>\n",
       "      <td>1.0</td>\n",
       "      <td>13.0</td>\n",
       "      <td>6.0</td>\n",
       "      <td>329.0</td>\n",
       "    </tr>\n",
       "  </tbody>\n",
       "</table>\n",
       "</div>"
      ],
      "text/plain": [
       "                                               title  healthy  rating  \\\n",
       "0  Chicken Salad with Apricots, Celery, and Blue ...    False     3.0   \n",
       "1                       Grilled Lemon-Pepper Chicken    False     0.0   \n",
       "2                          Instant Pot Chicken Stock    False     0.0   \n",
       "3                    Instant Pot Refried Black Beans    False     0.0   \n",
       "4                              Instant Pot Bolognese    False     0.0   \n",
       "\n",
       "   reviewcount  makeagain  nutritions.Calories  nutritions.Carbohydrates  \\\n",
       "0          8.0       88.0                301.0                       9.0   \n",
       "1          0.0        0.0                403.0                       4.0   \n",
       "2          0.0        0.0                  NaN                       NaN   \n",
       "3          0.0        0.0                  NaN                       NaN   \n",
       "4          0.0        0.0                295.0                      25.0   \n",
       "\n",
       "   nutritions.Cholesterol  nutritions.Fat  nutritions.Fiber  \\\n",
       "0                    76.0            19.0               3.0   \n",
       "1                   124.0            31.0               0.0   \n",
       "2                     NaN             NaN               NaN   \n",
       "3                     NaN             NaN               NaN   \n",
       "4                    42.0            15.0               1.0   \n",
       "\n",
       "   nutritions.Monounsaturated Fat  nutritions.Polyunsaturated Fat  \\\n",
       "0                             7.0                             3.0   \n",
       "1                            13.0                             5.0   \n",
       "2                             NaN                             NaN   \n",
       "3                             NaN                             NaN   \n",
       "4                             6.0                             1.0   \n",
       "\n",
       "   nutritions.Protein  nutritions.Saturated Fat  nutritions.Sodium  \n",
       "0                22.0                       9.0              605.0  \n",
       "1                27.0                      10.0              551.0  \n",
       "2                 NaN                       NaN                NaN  \n",
       "3                 NaN                       NaN                NaN  \n",
       "4                13.0                       6.0              329.0  "
      ]
     },
     "execution_count": 23,
     "metadata": {},
     "output_type": "execute_result"
    }
   ],
   "source": [
    "df_num.head()"
   ]
  },
  {
   "cell_type": "code",
   "execution_count": 26,
   "metadata": {},
   "outputs": [],
   "source": [
    "df_num.to_csv('../data/epi-recipes-num.csv', index=False)"
   ]
  },
  {
   "cell_type": "code",
   "execution_count": 24,
   "metadata": {},
   "outputs": [
    {
     "data": {
      "text/plain": [
       "(35441, 10)"
      ]
     },
     "execution_count": 24,
     "metadata": {},
     "output_type": "execute_result"
    }
   ],
   "source": [
    "df_text = df[['title', 'healthy','rating', 'reviewcount', 'makeagain', 'desc', 'ingredients', 'steps', \n",
    "              'tags', 'reviews']]\n",
    "df_text.shape"
   ]
  },
  {
   "cell_type": "code",
   "execution_count": 25,
   "metadata": {},
   "outputs": [
    {
     "data": {
      "text/html": [
       "<div>\n",
       "<style scoped>\n",
       "    .dataframe tbody tr th:only-of-type {\n",
       "        vertical-align: middle;\n",
       "    }\n",
       "\n",
       "    .dataframe tbody tr th {\n",
       "        vertical-align: top;\n",
       "    }\n",
       "\n",
       "    .dataframe thead th {\n",
       "        text-align: right;\n",
       "    }\n",
       "</style>\n",
       "<table border=\"1\" class=\"dataframe\">\n",
       "  <thead>\n",
       "    <tr style=\"text-align: right;\">\n",
       "      <th></th>\n",
       "      <th>title</th>\n",
       "      <th>healthy</th>\n",
       "      <th>rating</th>\n",
       "      <th>reviewcount</th>\n",
       "      <th>makeagain</th>\n",
       "      <th>desc</th>\n",
       "      <th>ingredients</th>\n",
       "      <th>steps</th>\n",
       "      <th>tags</th>\n",
       "      <th>reviews</th>\n",
       "    </tr>\n",
       "  </thead>\n",
       "  <tbody>\n",
       "    <tr>\n",
       "      <th>0</th>\n",
       "      <td>Chicken Salad with Apricots, Celery, and Blue ...</td>\n",
       "      <td>False</td>\n",
       "      <td>3.0</td>\n",
       "      <td>8.0</td>\n",
       "      <td>88.0</td>\n",
       "      <td>This summer-season chicken salad is a dance be...</td>\n",
       "      <td>['1 small rotisserie chicken, skin removed, me...</td>\n",
       "      <td>['Toss chicken, celery stalks, and 1 tsp. salt...</td>\n",
       "      <td>['Salad', 'Chicken', 'Celery', 'Buttermilk', '...</td>\n",
       "      <td>[]</td>\n",
       "    </tr>\n",
       "    <tr>\n",
       "      <th>1</th>\n",
       "      <td>Grilled Lemon-Pepper Chicken</td>\n",
       "      <td>False</td>\n",
       "      <td>0.0</td>\n",
       "      <td>0.0</td>\n",
       "      <td>0.0</td>\n",
       "      <td>If you want to go with the same flavors and ba...</td>\n",
       "      <td>['1 (3 1/2–4-lb.) chicken, cut in half', '4 ts...</td>\n",
       "      <td>['Sprinkle chicken all over with salt and 1 1/...</td>\n",
       "      <td>['Bon Appétit', 'Dinner', 'Grill', 'Grill/Barb...</td>\n",
       "      <td>[]</td>\n",
       "    </tr>\n",
       "    <tr>\n",
       "      <th>2</th>\n",
       "      <td>Instant Pot Chicken Stock</td>\n",
       "      <td>False</td>\n",
       "      <td>0.0</td>\n",
       "      <td>0.0</td>\n",
       "      <td>0.0</td>\n",
       "      <td>Truly comforting, simple, and pure chicken sto...</td>\n",
       "      <td>['2 lb. chicken parts', '1 lb. ground chicken'...</td>\n",
       "      <td>['Combine chicken parts, ground chicken, onion...</td>\n",
       "      <td>['Instant Pot', 'Pressure Cooker', 'Chicken', ...</td>\n",
       "      <td>[]</td>\n",
       "    </tr>\n",
       "    <tr>\n",
       "      <th>3</th>\n",
       "      <td>Instant Pot Refried Black Beans</td>\n",
       "      <td>False</td>\n",
       "      <td>0.0</td>\n",
       "      <td>0.0</td>\n",
       "      <td>0.0</td>\n",
       "      <td>You'll save at least an hour or two of cooking...</td>\n",
       "      <td>['1 lb. dried black beans (about 2 cups)', '1 ...</td>\n",
       "      <td>['Combine beans, onion, lard, salt, cilantro s...</td>\n",
       "      <td>['Instant Pot', 'Pressure Cooker', 'Bean', 'On...</td>\n",
       "      <td>[]</td>\n",
       "    </tr>\n",
       "    <tr>\n",
       "      <th>4</th>\n",
       "      <td>Instant Pot Bolognese</td>\n",
       "      <td>False</td>\n",
       "      <td>0.0</td>\n",
       "      <td>0.0</td>\n",
       "      <td>0.0</td>\n",
       "      <td>This meaty and rich batch of Bolognese takes l...</td>\n",
       "      <td>['1 Tbsp. extra-virgin olive oil', '1 Tbsp. un...</td>\n",
       "      <td>['Set pressure cooker to medium heat or \"Sauté...</td>\n",
       "      <td>[]</td>\n",
       "      <td>[]</td>\n",
       "    </tr>\n",
       "  </tbody>\n",
       "</table>\n",
       "</div>"
      ],
      "text/plain": [
       "                                               title  healthy  rating  \\\n",
       "0  Chicken Salad with Apricots, Celery, and Blue ...    False     3.0   \n",
       "1                       Grilled Lemon-Pepper Chicken    False     0.0   \n",
       "2                          Instant Pot Chicken Stock    False     0.0   \n",
       "3                    Instant Pot Refried Black Beans    False     0.0   \n",
       "4                              Instant Pot Bolognese    False     0.0   \n",
       "\n",
       "   reviewcount  makeagain                                               desc  \\\n",
       "0          8.0       88.0  This summer-season chicken salad is a dance be...   \n",
       "1          0.0        0.0  If you want to go with the same flavors and ba...   \n",
       "2          0.0        0.0  Truly comforting, simple, and pure chicken sto...   \n",
       "3          0.0        0.0  You'll save at least an hour or two of cooking...   \n",
       "4          0.0        0.0  This meaty and rich batch of Bolognese takes l...   \n",
       "\n",
       "                                         ingredients  \\\n",
       "0  ['1 small rotisserie chicken, skin removed, me...   \n",
       "1  ['1 (3 1/2–4-lb.) chicken, cut in half', '4 ts...   \n",
       "2  ['2 lb. chicken parts', '1 lb. ground chicken'...   \n",
       "3  ['1 lb. dried black beans (about 2 cups)', '1 ...   \n",
       "4  ['1 Tbsp. extra-virgin olive oil', '1 Tbsp. un...   \n",
       "\n",
       "                                               steps  \\\n",
       "0  ['Toss chicken, celery stalks, and 1 tsp. salt...   \n",
       "1  ['Sprinkle chicken all over with salt and 1 1/...   \n",
       "2  ['Combine chicken parts, ground chicken, onion...   \n",
       "3  ['Combine beans, onion, lard, salt, cilantro s...   \n",
       "4  ['Set pressure cooker to medium heat or \"Sauté...   \n",
       "\n",
       "                                                tags reviews  \n",
       "0  ['Salad', 'Chicken', 'Celery', 'Buttermilk', '...      []  \n",
       "1  ['Bon Appétit', 'Dinner', 'Grill', 'Grill/Barb...      []  \n",
       "2  ['Instant Pot', 'Pressure Cooker', 'Chicken', ...      []  \n",
       "3  ['Instant Pot', 'Pressure Cooker', 'Bean', 'On...      []  \n",
       "4                                                 []      []  "
      ]
     },
     "execution_count": 25,
     "metadata": {},
     "output_type": "execute_result"
    }
   ],
   "source": [
    "df_text.head()"
   ]
  },
  {
   "cell_type": "code",
   "execution_count": 27,
   "metadata": {},
   "outputs": [],
   "source": [
    "df_text.to_csv('../data/epi-recipes-text.csv', index=False)"
   ]
  },
  {
   "cell_type": "code",
   "execution_count": null,
   "metadata": {},
   "outputs": [],
   "source": []
  }
 ],
 "metadata": {
  "kernelspec": {
   "display_name": "Python 3",
   "language": "python",
   "name": "python3"
  },
  "language_info": {
   "codemirror_mode": {
    "name": "ipython",
    "version": 3
   },
   "file_extension": ".py",
   "mimetype": "text/x-python",
   "name": "python",
   "nbconvert_exporter": "python",
   "pygments_lexer": "ipython3",
   "version": "3.6.5"
  }
 },
 "nbformat": 4,
 "nbformat_minor": 2
}
