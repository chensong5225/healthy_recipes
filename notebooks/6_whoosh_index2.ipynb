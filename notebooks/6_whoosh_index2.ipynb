{
 "cells": [
  {
   "cell_type": "code",
   "execution_count": 1,
   "metadata": {},
   "outputs": [
    {
     "data": {
      "text/plain": [
       "(35441, 25)"
      ]
     },
     "execution_count": 1,
     "metadata": {},
     "output_type": "execute_result"
    }
   ],
   "source": [
    "import pandas as pd\n",
    "df = pd.read_csv('../data/epi-recipes.csv')\n",
    "df.shape"
   ]
  },
  {
   "cell_type": "code",
   "execution_count": 2,
   "metadata": {},
   "outputs": [
    {
     "data": {
      "text/plain": [
       "(35441, 27)"
      ]
     },
     "execution_count": 2,
     "metadata": {},
     "output_type": "execute_result"
    }
   ],
   "source": [
    "df['healthy'] = [1 if 'Healthy' in t else 0 for t in df.tags]\n",
    "df[\"RRR\"] = ((df['nutritions.Protein']/50 + df['nutritions.Fiber']/25)/2) / ((df['nutritions.Calories']/2000 + df['nutritions.Saturated Fat']/20 + df['nutritions.Cholesterol']/300 + df['nutritions.Carbohydrates']/300 + df['nutritions.Sodium']/2400)/5)\n",
    "df.shape"
   ]
  },
  {
   "cell_type": "code",
   "execution_count": 3,
   "metadata": {},
   "outputs": [],
   "source": [
    "df['activetime'] = df['activetime'].fillna('')\n",
    "df['desc'] = df['desc'].fillna('')\n",
    "df['imgurl'] = df['imgurl'].fillna('')\n",
    "df['ingredients'] = df['ingredients'].fillna('')\n",
    "df['reviews'] = df['reviews'].fillna('')\n",
    "df['steps'] = df['steps'].fillna('')\n",
    "df['tags'] = df['tags'].fillna('')\n",
    "df['title'] = df['title'].fillna('')\n",
    "df['totaltime'] = df['totaltime'].fillna('')\n",
    "df['url'] = df['url'].fillna('')\n",
    "df['yiel'] = df['yiel'].fillna('')\n",
    "df['makeagain'] = df['makeagain'].fillna(0)\n",
    "df['rating'] = df['rating'].fillna(0)\n",
    "df['reviewcount'] = df['reviewcount'].fillna(0)\n",
    "df['RRR'] = df['RRR'].fillna(0)\n",
    "df['serving'] = df['serving'].fillna(0)\n",
    "df['nutritions.Calories'] = df['nutritions.Calories'].fillna(0)\n",
    "df['nutritions.Carbohydrates'] = df['nutritions.Carbohydrates'].fillna(0)\n",
    "df['nutritions.Cholesterol'] = df['nutritions.Cholesterol'].fillna(0)\n",
    "df['nutritions.Fat'] = df['nutritions.Fat'].fillna(0)\n",
    "df['nutritions.Fiber'] = df['nutritions.Fiber'].fillna(0)\n",
    "df['nutritions.Monounsaturated Fat'] = df['nutritions.Monounsaturated Fat'].fillna(0)\n",
    "df['nutritions.Polyunsaturated Fat'] = df['nutritions.Polyunsaturated Fat'].fillna(0)\n",
    "df['nutritions.Protein'] = df['nutritions.Protein'].fillna(0)\n",
    "df['nutritions.Saturated Fat'] = df['nutritions.Saturated Fat'].fillna(0)\n",
    "df['nutritions.Sodium'] = df['nutritions.Sodium'].fillna(0)"
   ]
  },
  {
   "cell_type": "code",
   "execution_count": 5,
   "metadata": {},
   "outputs": [],
   "source": [
    "df.to_csv('../data/for_search.csv')"
   ]
  },
  {
   "cell_type": "code",
   "execution_count": 4,
   "metadata": {},
   "outputs": [],
   "source": [
    "from whoosh.qparser import *\n",
    "from whoosh.fields import Schema, TEXT, KEYWORD, ID, STORED,NUMERIC\n",
    "from whoosh.analysis import StemmingAnalyzer,StandardAnalyzer\n",
    "from whoosh import index\n",
    "import os, os.path"
   ]
  },
  {
   "cell_type": "code",
   "execution_count": 5,
   "metadata": {},
   "outputs": [],
   "source": [
    "schema = Schema(title = TEXT(stored=True),\n",
    "                desc = TEXT(stored=True),\n",
    "                ingredients = TEXT(stored=True),\n",
    "                steps = TEXT(stored=True),\n",
    "                reviews = TEXT(stored=True),\n",
    "                tags = TEXT(stored=True))"
   ]
  },
  {
   "cell_type": "code",
   "execution_count": 6,
   "metadata": {},
   "outputs": [],
   "source": [
    "def write(data):\n",
    "    writer.add_document(title = data['title'],\n",
    "                        desc = data['desc'],\n",
    "                        ingredients = data['ingredients'],\n",
    "                        steps = data['steps'],\n",
    "                        reviews = data['reviews'],\n",
    "                        tags = data['tags'])"
   ]
  },
  {
   "cell_type": "code",
   "execution_count": 14,
   "metadata": {},
   "outputs": [],
   "source": [
    "if not os.path.exists(\"indexdir\"):\n",
    "    os.mkdir(\"indexdir\")\n",
    "ix = index.create_in(\"indexdir\", schema)\n",
    "ix = index.open_dir(\"indexdir\")\n",
    "writer = ix.writer()"
   ]
  },
  {
   "cell_type": "code",
   "execution_count": 15,
   "metadata": {},
   "outputs": [],
   "source": [
    "df1 = df[:1000]\n",
    "for idx, row in df1.iterrows():\n",
    "    write(row)"
   ]
  },
  {
   "cell_type": "code",
   "execution_count": 16,
   "metadata": {},
   "outputs": [],
   "source": [
    "writer.commit()"
   ]
  },
  {
   "cell_type": "code",
   "execution_count": 17,
   "metadata": {},
   "outputs": [],
   "source": [
    "writer = ix.writer()\n",
    "df2 = df[1000:5000]\n",
    "for idx, row in df2.iterrows():\n",
    "    write(row)"
   ]
  },
  {
   "cell_type": "code",
   "execution_count": 18,
   "metadata": {},
   "outputs": [],
   "source": [
    "writer.commit()"
   ]
  },
  {
   "cell_type": "code",
   "execution_count": 19,
   "metadata": {},
   "outputs": [],
   "source": [
    "writer = ix.writer()\n",
    "df3 = df[5000:8000]\n",
    "for idx, row in df3.iterrows():\n",
    "    write(row)"
   ]
  },
  {
   "cell_type": "code",
   "execution_count": 20,
   "metadata": {},
   "outputs": [],
   "source": [
    "writer.commit()"
   ]
  },
  {
   "cell_type": "code",
   "execution_count": 21,
   "metadata": {},
   "outputs": [],
   "source": [
    "writer = ix.writer()\n",
    "df4 = df[8000:11000]\n",
    "for idx, row in df4.iterrows():\n",
    "    write(row)"
   ]
  },
  {
   "cell_type": "code",
   "execution_count": 22,
   "metadata": {},
   "outputs": [],
   "source": [
    "writer.commit()"
   ]
  },
  {
   "cell_type": "code",
   "execution_count": 23,
   "metadata": {},
   "outputs": [],
   "source": [
    "writer = ix.writer()\n",
    "df5 = df[11000:15000]\n",
    "for idx, row in df5.iterrows():\n",
    "    write(row)"
   ]
  },
  {
   "cell_type": "code",
   "execution_count": 24,
   "metadata": {},
   "outputs": [],
   "source": [
    "writer.commit()"
   ]
  },
  {
   "cell_type": "code",
   "execution_count": 25,
   "metadata": {},
   "outputs": [],
   "source": [
    "writer = ix.writer()\n",
    "df6 = df[15000:18000]\n",
    "for idx, row in df6.iterrows():\n",
    "    write(row)"
   ]
  },
  {
   "cell_type": "code",
   "execution_count": 26,
   "metadata": {},
   "outputs": [],
   "source": [
    "writer.commit()"
   ]
  },
  {
   "cell_type": "code",
   "execution_count": 27,
   "metadata": {},
   "outputs": [],
   "source": [
    "writer = ix.writer()\n",
    "df7 = df[18000:21000]\n",
    "for idx, row in df7.iterrows():\n",
    "    write(row)"
   ]
  },
  {
   "cell_type": "code",
   "execution_count": 28,
   "metadata": {},
   "outputs": [],
   "source": [
    "writer.commit()"
   ]
  },
  {
   "cell_type": "code",
   "execution_count": 29,
   "metadata": {},
   "outputs": [],
   "source": [
    "writer = ix.writer()\n",
    "df8 = df[21000:25000]\n",
    "for idx, row in df8.iterrows():\n",
    "    write(row)"
   ]
  },
  {
   "cell_type": "code",
   "execution_count": 30,
   "metadata": {},
   "outputs": [],
   "source": [
    "writer.commit()"
   ]
  },
  {
   "cell_type": "code",
   "execution_count": 31,
   "metadata": {},
   "outputs": [],
   "source": [
    "writer = ix.writer()\n",
    "df9 = df[25000:28000]\n",
    "for idx, row in df9.iterrows():\n",
    "    write(row)"
   ]
  },
  {
   "cell_type": "code",
   "execution_count": 32,
   "metadata": {},
   "outputs": [],
   "source": [
    "writer.commit()"
   ]
  },
  {
   "cell_type": "code",
   "execution_count": 33,
   "metadata": {},
   "outputs": [],
   "source": [
    "writer = ix.writer()\n",
    "df10 = df[28000:31000]\n",
    "for idx, row in df10.iterrows():\n",
    "    write(row)"
   ]
  },
  {
   "cell_type": "code",
   "execution_count": 34,
   "metadata": {},
   "outputs": [],
   "source": [
    "writer.commit()"
   ]
  },
  {
   "cell_type": "code",
   "execution_count": 35,
   "metadata": {},
   "outputs": [],
   "source": [
    "writer = ix.writer()\n",
    "df18 = df[31000:35441]\n",
    "for idx, row in df18.iterrows():\n",
    "    write(row)"
   ]
  },
  {
   "cell_type": "code",
   "execution_count": 36,
   "metadata": {},
   "outputs": [],
   "source": [
    "writer.commit()"
   ]
  },
  {
   "cell_type": "code",
   "execution_count": 43,
   "metadata": {},
   "outputs": [
    {
     "name": "stdout",
     "output_type": "stream",
     "text": [
      "ingredients:chicken\n"
     ]
    }
   ],
   "source": [
    "parser = QueryParser(\"ingredients\",schema=schema) \n",
    "result = parser.parse(u\"chicken\")\n",
    "print(result)"
   ]
  },
  {
   "cell_type": "code",
   "execution_count": 85,
   "metadata": {},
   "outputs": [],
   "source": [
    "titles = []\n",
    "with ix.searcher() as searcher:\n",
    "    results = searcher.search(result,limit=20)\n",
    "    for r in results:\n",
    "        titles.append(r['title'])"
   ]
  },
  {
   "cell_type": "code",
   "execution_count": 86,
   "metadata": {},
   "outputs": [
    {
     "data": {
      "text/plain": [
       "20"
      ]
     },
     "execution_count": 86,
     "metadata": {},
     "output_type": "execute_result"
    }
   ],
   "source": [
    "len(titles)"
   ]
  },
  {
   "cell_type": "code",
   "execution_count": 87,
   "metadata": {},
   "outputs": [
    {
     "data": {
      "text/plain": [
       "pandas.core.frame.DataFrame"
      ]
     },
     "execution_count": 87,
     "metadata": {},
     "output_type": "execute_result"
    }
   ],
   "source": [
    "type(df[df['title']==titles[0]])"
   ]
  },
  {
   "cell_type": "code",
   "execution_count": 97,
   "metadata": {},
   "outputs": [
    {
     "data": {
      "text/plain": [
       "(0, 27)"
      ]
     },
     "execution_count": 97,
     "metadata": {},
     "output_type": "execute_result"
    }
   ],
   "source": [
    "result_list = pd.DataFrame(columns=df.columns.copy())\n",
    "result_list.shape"
   ]
  },
  {
   "cell_type": "code",
   "execution_count": 118,
   "metadata": {},
   "outputs": [
    {
     "name": "stdout",
     "output_type": "stream",
     "text": [
      "21875    Parmesan Polenta\n",
      "24094    Parmesan Polenta\n",
      "Name: title, dtype: object\n",
      "19393    Creamy Grits\n",
      "34734    Creamy Grits\n",
      "Name: title, dtype: object\n",
      "28662    Chicken Long Rice\n",
      "34436    Chicken Long Rice\n",
      "Name: title, dtype: object\n"
     ]
    }
   ],
   "source": [
    "for t in titles:\n",
    "    result_list = result_list.append(df[df['title']==t])\n",
    "    if df[df['title']==t].shape[0] > 1:\n",
    "        print(df[df['title']==t].title)"
   ]
  },
  {
   "cell_type": "code",
   "execution_count": 119,
   "metadata": {},
   "outputs": [
    {
     "data": {
      "text/plain": [
       "(23, 27)"
      ]
     },
     "execution_count": 119,
     "metadata": {},
     "output_type": "execute_result"
    }
   ],
   "source": [
    "result_list = result_list.drop_duplicates()\n",
    "result_list.shape"
   ]
  },
  {
   "cell_type": "code",
   "execution_count": 120,
   "metadata": {},
   "outputs": [],
   "source": [
    "r = result_list.sort_values(by=['RRR'],ascending=False)"
   ]
  },
  {
   "cell_type": "code",
   "execution_count": 121,
   "metadata": {},
   "outputs": [
    {
     "data": {
      "text/plain": [
       "(23, 27)"
      ]
     },
     "execution_count": 121,
     "metadata": {},
     "output_type": "execute_result"
    }
   ],
   "source": [
    "r.shape"
   ]
  },
  {
   "cell_type": "code",
   "execution_count": 123,
   "metadata": {},
   "outputs": [
    {
     "data": {
      "text/html": [
       "<div>\n",
       "<style scoped>\n",
       "    .dataframe tbody tr th:only-of-type {\n",
       "        vertical-align: middle;\n",
       "    }\n",
       "\n",
       "    .dataframe tbody tr th {\n",
       "        vertical-align: top;\n",
       "    }\n",
       "\n",
       "    .dataframe thead th {\n",
       "        text-align: right;\n",
       "    }\n",
       "</style>\n",
       "<table border=\"1\" class=\"dataframe\">\n",
       "  <thead>\n",
       "    <tr style=\"text-align: right;\">\n",
       "      <th></th>\n",
       "      <th>title</th>\n",
       "      <th>RRR</th>\n",
       "      <th>healthy</th>\n",
       "    </tr>\n",
       "  </thead>\n",
       "  <tbody>\n",
       "    <tr>\n",
       "      <th>10948</th>\n",
       "      <td>Grilled Bone-in Chicken Breasts and Pieces</td>\n",
       "      <td>1.830198</td>\n",
       "      <td>1</td>\n",
       "    </tr>\n",
       "    <tr>\n",
       "      <th>8258</th>\n",
       "      <td>Dr. Lee's Red Wine Chicken Stew</td>\n",
       "      <td>1.670895</td>\n",
       "      <td>1</td>\n",
       "    </tr>\n",
       "    <tr>\n",
       "      <th>196</th>\n",
       "      <td>Lentil and Chicken Soup with Sweet Potatoes an...</td>\n",
       "      <td>1.551457</td>\n",
       "      <td>1</td>\n",
       "    </tr>\n",
       "    <tr>\n",
       "      <th>35197</th>\n",
       "      <td>Chicken Soup</td>\n",
       "      <td>1.520027</td>\n",
       "      <td>0</td>\n",
       "    </tr>\n",
       "    <tr>\n",
       "      <th>28586</th>\n",
       "      <td>Chicken with Prosciutto, Rosemary, and White Wine</td>\n",
       "      <td>1.384083</td>\n",
       "      <td>0</td>\n",
       "    </tr>\n",
       "    <tr>\n",
       "      <th>29530</th>\n",
       "      <td>Sage-Roasted Chicken with Madeira Sauce</td>\n",
       "      <td>1.292965</td>\n",
       "      <td>0</td>\n",
       "    </tr>\n",
       "    <tr>\n",
       "      <th>13968</th>\n",
       "      <td>Chicken Kishk</td>\n",
       "      <td>1.230583</td>\n",
       "      <td>0</td>\n",
       "    </tr>\n",
       "    <tr>\n",
       "      <th>19308</th>\n",
       "      <td>Maple-Barbecued Chicken</td>\n",
       "      <td>1.191281</td>\n",
       "      <td>0</td>\n",
       "    </tr>\n",
       "    <tr>\n",
       "      <th>27663</th>\n",
       "      <td>Grilled Chicken Moroccan Style</td>\n",
       "      <td>1.094807</td>\n",
       "      <td>0</td>\n",
       "    </tr>\n",
       "    <tr>\n",
       "      <th>34436</th>\n",
       "      <td>Chicken Long Rice</td>\n",
       "      <td>1.011911</td>\n",
       "      <td>0</td>\n",
       "    </tr>\n",
       "    <tr>\n",
       "      <th>28662</th>\n",
       "      <td>Chicken Long Rice</td>\n",
       "      <td>0.987959</td>\n",
       "      <td>0</td>\n",
       "    </tr>\n",
       "    <tr>\n",
       "      <th>24094</th>\n",
       "      <td>Parmesan Polenta</td>\n",
       "      <td>0.986928</td>\n",
       "      <td>0</td>\n",
       "    </tr>\n",
       "    <tr>\n",
       "      <th>31973</th>\n",
       "      <td>Mom's Baked Fried Chicken and Gravy</td>\n",
       "      <td>0.893423</td>\n",
       "      <td>0</td>\n",
       "    </tr>\n",
       "    <tr>\n",
       "      <th>21875</th>\n",
       "      <td>Parmesan Polenta</td>\n",
       "      <td>0.659508</td>\n",
       "      <td>0</td>\n",
       "    </tr>\n",
       "    <tr>\n",
       "      <th>19393</th>\n",
       "      <td>Creamy Grits</td>\n",
       "      <td>0.590551</td>\n",
       "      <td>0</td>\n",
       "    </tr>\n",
       "    <tr>\n",
       "      <th>34734</th>\n",
       "      <td>Creamy Grits</td>\n",
       "      <td>0.355353</td>\n",
       "      <td>0</td>\n",
       "    </tr>\n",
       "    <tr>\n",
       "      <th>1440</th>\n",
       "      <td>Fully Salted Roast Chicken</td>\n",
       "      <td>0.000000</td>\n",
       "      <td>0</td>\n",
       "    </tr>\n",
       "    <tr>\n",
       "      <th>34443</th>\n",
       "      <td>Buttermilk Roasted Chicken</td>\n",
       "      <td>0.000000</td>\n",
       "      <td>0</td>\n",
       "    </tr>\n",
       "    <tr>\n",
       "      <th>11632</th>\n",
       "      <td>Quick Turkey Stock</td>\n",
       "      <td>0.000000</td>\n",
       "      <td>0</td>\n",
       "    </tr>\n",
       "    <tr>\n",
       "      <th>5593</th>\n",
       "      <td>Tamales de Mole Poblano</td>\n",
       "      <td>0.000000</td>\n",
       "      <td>0</td>\n",
       "    </tr>\n",
       "    <tr>\n",
       "      <th>5185</th>\n",
       "      <td>Southern-Style Fried Chicken</td>\n",
       "      <td>0.000000</td>\n",
       "      <td>0</td>\n",
       "    </tr>\n",
       "    <tr>\n",
       "      <th>5196</th>\n",
       "      <td>Chicken Velouté</td>\n",
       "      <td>0.000000</td>\n",
       "      <td>0</td>\n",
       "    </tr>\n",
       "    <tr>\n",
       "      <th>2</th>\n",
       "      <td>Instant Pot Chicken Stock</td>\n",
       "      <td>0.000000</td>\n",
       "      <td>0</td>\n",
       "    </tr>\n",
       "  </tbody>\n",
       "</table>\n",
       "</div>"
      ],
      "text/plain": [
       "                                                   title       RRR healthy\n",
       "10948         Grilled Bone-in Chicken Breasts and Pieces  1.830198       1\n",
       "8258                     Dr. Lee's Red Wine Chicken Stew  1.670895       1\n",
       "196    Lentil and Chicken Soup with Sweet Potatoes an...  1.551457       1\n",
       "35197                                       Chicken Soup  1.520027       0\n",
       "28586  Chicken with Prosciutto, Rosemary, and White Wine  1.384083       0\n",
       "29530            Sage-Roasted Chicken with Madeira Sauce  1.292965       0\n",
       "13968                                      Chicken Kishk  1.230583       0\n",
       "19308                            Maple-Barbecued Chicken  1.191281       0\n",
       "27663                     Grilled Chicken Moroccan Style  1.094807       0\n",
       "34436                                  Chicken Long Rice  1.011911       0\n",
       "28662                                  Chicken Long Rice  0.987959       0\n",
       "24094                                   Parmesan Polenta  0.986928       0\n",
       "31973                Mom's Baked Fried Chicken and Gravy  0.893423       0\n",
       "21875                                   Parmesan Polenta  0.659508       0\n",
       "19393                                       Creamy Grits  0.590551       0\n",
       "34734                                       Creamy Grits  0.355353       0\n",
       "1440                          Fully Salted Roast Chicken  0.000000       0\n",
       "34443                         Buttermilk Roasted Chicken  0.000000       0\n",
       "11632                                 Quick Turkey Stock  0.000000       0\n",
       "5593                             Tamales de Mole Poblano  0.000000       0\n",
       "5185                        Southern-Style Fried Chicken  0.000000       0\n",
       "5196                                     Chicken Velouté  0.000000       0\n",
       "2                              Instant Pot Chicken Stock  0.000000       0"
      ]
     },
     "execution_count": 123,
     "metadata": {},
     "output_type": "execute_result"
    }
   ],
   "source": [
    "r[['title','RRR','healthy']]"
   ]
  },
  {
   "cell_type": "code",
   "execution_count": null,
   "metadata": {},
   "outputs": [],
   "source": []
  }
 ],
 "metadata": {
  "kernelspec": {
   "display_name": "Python 3",
   "language": "python",
   "name": "python3"
  },
  "language_info": {
   "codemirror_mode": {
    "name": "ipython",
    "version": 3
   },
   "file_extension": ".py",
   "mimetype": "text/x-python",
   "name": "python",
   "nbconvert_exporter": "python",
   "pygments_lexer": "ipython3",
   "version": "3.6.5"
  }
 },
 "nbformat": 4,
 "nbformat_minor": 2
}
