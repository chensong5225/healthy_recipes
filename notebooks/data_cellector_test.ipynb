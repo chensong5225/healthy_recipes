{
 "cells": [
  {
   "cell_type": "code",
   "execution_count": 1,
   "metadata": {},
   "outputs": [],
   "source": [
    "import requests\n",
    "from bs4 import BeautifulSoup\n",
    "import re\n",
    "import datetime"
   ]
  },
  {
   "cell_type": "markdown",
   "metadata": {},
   "source": [
    "# Web Crawler for Epicurious"
   ]
  },
  {
   "cell_type": "markdown",
   "metadata": {},
   "source": [
    "## 1. check how many pages of recipe research result there are\n",
    "####  https://www.epicurious.com/search?content=recipe&page=1\n",
    "####  https://www.epicurious.com/search?content=recipe&page=1969\n",
    "#### range from page 1 to 1969"
   ]
  },
  {
   "cell_type": "code",
   "execution_count": 2,
   "metadata": {},
   "outputs": [
    {
     "name": "stdout",
     "output_type": "stream",
     "text": [
      "https://www.epicurious.com/search/?content=recipe&page=1 https://www.epicurious.com/search/?content=recipe&page=1969\n"
     ]
    }
   ],
   "source": [
    "# first page: https://www.epicurious.com/search?content=recipe&page=1 # not start from 0\n",
    "# last page: https://www.epicurious.com/search?content=recipe&page=1969\n",
    "website0 = 'https://www.epicurious.com/search/?content=recipe&page='\n",
    "websites = [website0+str(i) for i in range(1,1970)]\n",
    "print (websites[0], websites[-1])"
   ]
  },
  {
   "cell_type": "markdown",
   "metadata": {},
   "source": [
    "## 2. check the structure of every search result page"
   ]
  },
  {
   "cell_type": "code",
   "execution_count": 3,
   "metadata": {},
   "outputs": [],
   "source": [
    "page = requests.get(websites[-1])\n",
    "soup = BeautifulSoup(page.text,'lxml')"
   ]
  },
  {
   "cell_type": "code",
   "execution_count": 4,
   "metadata": {},
   "outputs": [
    {
     "data": {
      "text/plain": [
       "17"
      ]
     },
     "execution_count": 4,
     "metadata": {},
     "output_type": "execute_result"
    }
   ],
   "source": [
    "title = soup.select('article.recipe-content-card h4 a')\n",
    "len(title)"
   ]
  },
  {
   "cell_type": "code",
   "execution_count": 5,
   "metadata": {},
   "outputs": [
    {
     "data": {
      "text/plain": [
       "<a data-reactid=\"71\" href=\"/recipes/food/views/fish-dumplings-234997\">Fish Dumplings</a>"
      ]
     },
     "execution_count": 5,
     "metadata": {},
     "output_type": "execute_result"
    }
   ],
   "source": [
    "title[0]"
   ]
  },
  {
   "cell_type": "markdown",
   "metadata": {},
   "source": [
    "## 3. wrap crawler of search result page into a function\n",
    "\n",
    "#### get all the links from the 1st search result page, return a list of (title, url) tuples\n",
    "page = requests.get(\"https://www.epicurious.com/search?content=recipe&page=1 \")  \n",
    "get_recipe_links(page)"
   ]
  },
  {
   "cell_type": "code",
   "execution_count": 12,
   "metadata": {},
   "outputs": [],
   "source": [
    "def get_url_title(el):\n",
    "    url = re.search(r'<a.+href=\"(.+)\">(.+)<\\/a>', str(el)).group(1)\n",
    "    title = re.search(r'<a.+href=\"(.+)\">(.+)<\\/a>', str(el)).group(2)\n",
    "    return (title, url)"
   ]
  },
  {
   "cell_type": "code",
   "execution_count": 13,
   "metadata": {},
   "outputs": [
    {
     "data": {
      "text/plain": [
       "('Fish Dumplings', '/recipes/food/views/fish-dumplings-234997')"
      ]
     },
     "execution_count": 13,
     "metadata": {},
     "output_type": "execute_result"
    }
   ],
   "source": [
    "# test get_url_title(el)\n",
    "el = '<a data-reactid=\"71\" href=\"/recipes/food/views/fish-dumplings-234997\">Fish Dumplings</a>'\n",
    "get_url_title(el)"
   ]
  },
  {
   "cell_type": "code",
   "execution_count": 14,
   "metadata": {},
   "outputs": [],
   "source": [
    "def get_recipe_links(page):\n",
    "    recipe_links = []\n",
    "    soup = BeautifulSoup(page.text,'lxml')\n",
    "    els = soup.select('article.recipe-content-card h4 a')\n",
    "    return [get_url_title(el) for el in els]"
   ]
  },
  {
   "cell_type": "markdown",
   "metadata": {},
   "source": [
    "#### there are 18 recipe links in the 1st search result page. since there will be new recipes coming in, which luckily haven't effect the total page, I'd better add a date here. But I didn't find any date information in the search result page..."
   ]
  },
  {
   "cell_type": "code",
   "execution_count": 15,
   "metadata": {},
   "outputs": [
    {
     "data": {
      "text/plain": [
       "18"
      ]
     },
     "execution_count": 15,
     "metadata": {},
     "output_type": "execute_result"
    }
   ],
   "source": [
    "# test get_recipe_links(page)\n",
    "page = requests.get(\"https://www.epicurious.com/search?content=recipe&page=1\")\n",
    "links = get_recipe_links(page)\n",
    "len(links)"
   ]
  },
  {
   "cell_type": "code",
   "execution_count": 16,
   "metadata": {},
   "outputs": [
    {
     "data": {
      "text/plain": [
       "'/recipes/food/views/chicken-salad-with-apricots-celery-and-blue-cheese'"
      ]
     },
     "execution_count": 16,
     "metadata": {},
     "output_type": "execute_result"
    }
   ],
   "source": [
    "links[0][1]"
   ]
  },
  {
   "cell_type": "markdown",
   "metadata": {},
   "source": [
    "## 4. check the detial in a recipe page"
   ]
  },
  {
   "cell_type": "code",
   "execution_count": 76,
   "metadata": {},
   "outputs": [],
   "source": [
    "page = requests.get('https://www.epicurious.com/recipes/food/views/chicken-salad-with-apricots-celery-and-blue-cheese')\n",
    "soup = BeautifulSoup(page.text,'lxml')"
   ]
  },
  {
   "cell_type": "code",
   "execution_count": 77,
   "metadata": {},
   "outputs": [
    {
     "data": {
      "text/plain": [
       "[<div class=\"main-content\" itemscope=\"\" itemtype=\"https://schema.org/Recipe\"> <aside class=\"site-pushdown-ad-wrap ad-wrapper\" itemscope=\"\" itemtype=\"https://schema.org/WPAdBlock\" role=\"complementary\"></aside>\n",
       " <div class=\"recipe-title-sidebar \">\n",
       " <div class=\"recipe-title-wrapper\">\n",
       " <div class=\"title-source\">\n",
       " <div class=\"ad-wrapper sponsor-slug\">\n",
       " <aside class=\"sponsorSlug-ad-wrap ad-wrapper slug\" itemscope=\"\" itemtype=\"https://schema.org/WPAdBlock\" role=\"complementary\"></aside>\n",
       " </div>\n",
       " <h1 itemprop=\"name\">Chicken Salad with Apricots, Celery, and Blue Cheese </h1>\n",
       " <div class=\"byline-source\">\n",
       " <cite class=\"contributors\" data-react-checksum=\"183323855\" data-reactid=\"1\" data-reactroot=\"\"><a class=\"contributor\" data-reactid=\"2\" href=\"/contributors/anna-stockwell\" itemprop=\"author\" rel=\"author\" title=\"Anna Stockwell\">Anna Stockwell</a></cite>\n",
       " <span class=\"source\" itemprop=\"publisher\">Epicurious</span>\n",
       " <span class=\"pub-date\">June 2018</span>\n",
       " </div>\n",
       " </div> <div class=\"recipe-sidebar\">\n",
       " <div class=\"user-interactions\" itemprop=\"aggregateRating\" itemscope=\"\" itemtype=\"https://schema.org/AggregateRating\">\n",
       " <div class=\"review-rating\">\n",
       " <span class=\"rating\">3.5/4</span>\n",
       " <img alt=\"fork user rating\" class=\"forks-img\" src=\"/static/img/recipe/ratings/3_5_forks.png\"/><meta content=\"3.5\" itemprop=\"ratingValue\"/><meta content=\"4\" itemprop=\"bestRating\"/><meta content=\"0\" itemprop=\"worstRating\"/>\n",
       " <p>reviews (<span class=\"reviews-count\" itemprop=\"reviewCount\">6</span>)</p>\n",
       " </div>\n",
       " <div class=\"prepare-again-rating\">\n",
       " <span>100%</span>\n",
       " <p>make it again</p>\n",
       " </div>\n",
       " <a class=\"go-to-reviews\" href=\"#reviews\" title=\"See all reviews\">Go to reviews</a>\n",
       " </div>\n",
       " </div>\n",
       " </div>\n",
       " </div>\n",
       " <div class=\"content-container\">\n",
       " <div class=\"content-and-rail\">\n",
       " <div class=\"main has-rail default\">\n",
       " <meta content=\"True\" itemprop=\"mainEntityOfPage\"/>\n",
       " <meta content=\"https://www.epicurious.com/recipes/food/views/chicken-salad-with-apricots-celery-and-blue-cheese\" itemprop=\"url\"/><div id=\"recipeapp-mount-point\"><div data-react-checksum=\"-391852925\" data-reactid=\"1\" data-reactroot=\"\"><div class=\"intro default\" data-reactid=\"2\"><div class=\"recipe-image\" data-reactid=\"3\"><div class=\"recipe-image-container\" data-reactid=\"4\"><div class=\"social-img\" data-reactid=\"5\"><picture class=\"photo-wrap\" data-reactid=\"6\"><source data-reactid=\"7\" media=\"(min-width: 1024px)\" srcset=\"https://assets.epicurious.com/photos/5b23ce065eea062731adf5a3/6:4/w_620%2Ch_413/Chicken-Salad-With-Celery-Apricots-and-Blue-Cheese-30052918.jpg\"/><source data-reactid=\"8\" media=\"(min-width: 768px)\" srcset=\"https://assets.epicurious.com/photos/5b23ce065eea062731adf5a3/6:4/w_620%2Ch_413/Chicken-Salad-With-Celery-Apricots-and-Blue-Cheese-30052918.jpg\"/><source data-reactid=\"9\" media=\"(min-width: 320px)\" srcset=\"https://assets.epicurious.com/photos/5b23ce065eea062731adf5a3/6:4/w_274%2Ch_169/Chicken-Salad-With-Celery-Apricots-and-Blue-Cheese-30052918.jpg\"/><img alt=\"Chicken Salad With Celery, Apricots, and Blue Cheese / Photo by Chelsea Kyle, Food Styling by Anna Stockwell\" class=\"photo loaded\" data-reactid=\"10\" src=\"/static/img/px/background.png\" srcset=\"https://assets.epicurious.com/photos/5b23ce065eea062731adf5a3/6:4/w_274%2Ch_169/Chicken-Salad-With-Celery-Apricots-and-Blue-Cheese-30052918.jpg\"/></picture><div class=\"social-buttons\" data-reactid=\"11\"><div class=\"icon-facebook-overlay social link facebook\" data-reactid=\"12\"><a class=\"social\" data-reactid=\"13\" data-track=\"Facebook\" data-track-location=\"overlay\" data-track-source=\"Facebook\" data-track-type=\"social\" href=\"https://www.facebook.com/dialog/share?app_id=1636080783276430&amp;display=popup&amp;href=https%3A%2F%2Fwww.epicurious.com%2Frecipes%2Ffood%2Fviews%2Fchicken-salad-with-apricots-celery-and-blue-cheese&amp;redirect_uri=https%3A%2F%2Fwww.epicurious.com%2Frecipes%2Ffood%2Fviews%2Fchicken-salad-with-apricots-celery-and-blue-cheese&amp;picture=https%3A%2F%2Fassets.epicurious.com%2Fphotos%2F5b23ce065eea062731adf5a3%2F6%3A4%2Fw_274%252Ch_169%2FChicken-Salad-With-Celery-Apricots-and-Blue-Cheese-30052918.jpg\">Facebook</a></div><div class=\"icon-pinterest-overlay social link pinterest\" data-reactid=\"14\"><a class=\"social\" data-reactid=\"15\" data-track=\"Pinterest\" data-track-location=\"overlay\" data-track-source=\"Pinterest\" data-track-type=\"social\" href=\"https://www.pinterest.com/pin/create/button/?url=https%3A%2F%2Fwww.epicurious.com%2Frecipes%2Ffood%2Fviews%2Fchicken-salad-with-apricots-celery-and-blue-cheese&amp;media=https%3A%2F%2Fassets.epicurious.com%2Fphotos%2F5b23ce065eea062731adf5a3%2F6%3A4%2Fw_274%252Ch_169%2FChicken-Salad-With-Celery-Apricots-and-Blue-Cheese-30052918.jpg&amp;description=Chicken Salad with Apricots, Celery, and Blue Cheese\">Pinterest</a></div></div></div><meta content=\"https://assets.epicurious.com/photos/5b23ce065eea062731adf5a3/master/pass/Chicken-Salad-With-Celery-Apricots-and-Blue-Cheese-30052918.jpg\" data-reactid=\"16\" itemprop=\"image\"/><p class=\"credit\" data-reactid=\"17\">Photo by Chelsea Kyle, Food Styling by Anna Stockwell</p></div></div><div class=\"dek\" data-reactid=\"18\" itemprop=\"description\"><p>This summer-season chicken salad is a dance between sweet, creamy, and acidic flavors and tender, crunchy, and juicy ingredients. Make it in early summer when apricots are peaking and choose a fairly nonassertive blue cheese that won’t overwhelm the mix.</p></div></div><div class=\"utils top\" data-reactid=\"19\"><aside class=\"sharing-actions recipe-top\" data-reactid=\"20\" itemscope=\"\" itemtype=\"https://schema.org/WebPageElement\" role=\"contentInfo\"><h6 class=\"aside-title\" data-reactid=\"21\" itemprop=\"alternateName\">Social Sharing</h6><strong class=\"icon-share\" data-id=\"share\" data-reactid=\"22\">Share</strong><ul class=\"hide\" data-reactid=\"23\"><li data-reactid=\"24\"><a class=\"icon-facebook social\" data-reactid=\"25\" data-track=\"Facebook\" data-track-location=\"recipe-top\" data-track-source=\"Facebook\" data-track-type=\"social\" href=\"https://www.facebook.com/dialog/share?app_id=1636080783276430&amp;display=popup&amp;href=https://www.epicurious.com/recipes/food/views/chicken-salad-with-apricots-celery-and-blue-cheese&amp;redirect_uri=https://www.epicurious.com/recipes/food/views/chicken-salad-with-apricots-celery-and-blue-cheese\" rel=\"nofollow noopener noreferrer\" target=\"_blank\" title=\"Share &amp;ldquo;Chicken Salad with Apricots, Celery, and Blue Cheese&amp;rdquo; on Facebook\"><!-- react-text: 26 -->Share “<!-- /react-text --><strong data-reactid=\"27\">Chicken Salad with Apricots, Celery, and Blue Cheese</strong><!-- react-text: 28 -->” on Facebook<!-- /react-text --></a></li><li data-reactid=\"29\"><a class=\"icon-twitter social\" data-reactid=\"30\" data-track=\"Twitter\" data-track-location=\"recipe-top\" data-track-source=\"Twitter\" data-track-type=\"social\" href=\"https://twitter.com/intent/tweet?url=https://www.epicurious.com/recipes/food/views/chicken-salad-with-apricots-celery-and-blue-cheese&amp;text=Chicken Salad with Apricots, Celery, and Blue Cheese\" rel=\"nofollow noopener noreferrer\" target=\"_blank\" title=\"Share &amp;ldquo;Chicken Salad with Apricots, Celery, and Blue Cheese&amp;rdquo; on Twitter\"><!-- react-text: 31 -->Share “<!-- /react-text --><strong data-reactid=\"32\">Chicken Salad with Apricots, Celery, and Blue Cheese</strong><!-- react-text: 33 -->” on Twitter<!-- /react-text --></a></li><li data-reactid=\"34\"><a class=\"icon-pinterest social\" data-reactid=\"35\" data-track=\"Pinterest\" data-track-location=\"recipe-top\" data-track-source=\"Pinterest\" data-track-type=\"social\" href=\"https://www.pinterest.com/pin/create/button/?url=https://www.epicurious.com/recipes/food/views/chicken-salad-with-apricots-celery-and-blue-cheese&amp;media=https%3A%2F%2Fassets.epicurious.com%2Fphotos%2F5b23ce065eea062731adf5a3%2F1%3A1%2Fw_736%252Ch_736%2FChicken-Salad-With-Celery-Apricots-and-Blue-Cheese-30052918.jpg&amp;description=Chicken Salad with Apricots, Celery, and Blue Cheese\" rel=\"nofollow noopener noreferrer\" target=\"_blank\" title=\"Share &amp;ldquo;Chicken Salad with Apricots, Celery, and Blue Cheese&amp;rdquo; on Pinterest\"><!-- react-text: 36 -->Share “<!-- /react-text --><strong data-reactid=\"37\">Chicken Salad with Apricots, Celery, and Blue Cheese</strong><!-- react-text: 38 -->” on Pinterest<!-- /react-text --></a></li><li data-reactid=\"39\"><a class=\"icon-googleplus social\" data-reactid=\"40\" data-track=\"Google\" data-track-location=\"recipe-top\" data-track-source=\"Google\" data-track-type=\"social\" href=\"https://plus.google.com/share?url=https://www.epicurious.com/recipes/food/views/chicken-salad-with-apricots-celery-and-blue-cheese\" rel=\"nofollow noopener noreferrer\" target=\"_blank\" title=\"Share &amp;ldquo;Chicken Salad with Apricots, Celery, and Blue Cheese&amp;rdquo; on Google+\"><!-- react-text: 41 -->Share “<!-- /react-text --><strong data-reactid=\"42\">Chicken Salad with Apricots, Celery, and Blue Cheese</strong><!-- react-text: 43 -->” on Google+<!-- /react-text --></a></li><li data-reactid=\"44\"><a class=\"icon-email\" data-reactid=\"45\" data-track=\"Email\" data-track-location=\"recipe-top\" data-track-source=\"Email\" data-track-type=\"social\" href=\"mailto:?subject=Chicken%20Salad%20with%20Apricots%2C%20Celery%2C%20and%20Blue%20Cheese&amp;body=This%20summer-season%20chicken%20salad%20is%20a%20dance%20between%20sweet%2C%20creamy%2C%20and%20acidic%20flavors%20and%20tender%2C%20crunchy%2C%20and%20juicy%20ingredients.%20Make%20it%20in%20early%20summer%20when%20apricots%20are%20peaking%20and%20choose%20a%20fairly%20nonassertive%20blue%20cheese%20that%20won%E2%80%99t%20overwhelm%20the%20mix.%0A%0Ahttps%3A%2F%2Fwww.epicurious.com%2Frecipes%2Ffood%2Fviews%2Fchicken-salad-with-apricots-celery-and-blue-cheese%0A\" rel=\"nofollow\" title=\"Email &amp;ldquo;Chicken Salad with Apricots, Celery, and Blue Cheese&amp;rdquo;\"><!-- react-text: 46 -->Email “<!-- /react-text --><strong data-reactid=\"47\">Chicken Salad with Apricots, Celery, and Blue Cheese</strong><!-- react-text: 48 -->”<!-- /react-text --></a></li></ul></aside><div class=\"options touchpoints\" data-reactid=\"49\"><ul class=\"items\" data-reactid=\"50\"><li data-reactid=\"51\"><span class=\"save-touchpoint save-to-box not-saved\" data-reactid=\"52\"><div class=\"not-saved\" data-reactid=\"53\"><a class=\"touchpoint-link\" data-reactid=\"54\" href=\"#\">save recipe</a></div><div class=\"panel recipe-box-folders\" data-reactid=\"55\"><div class=\"panel-content\" data-reactid=\"56\"><div class=\"panel-item\" data-reactid=\"57\"><h3 data-reactid=\"58\">Add to collection</h3></div><ul class=\"folders\" data-reactid=\"59\"></ul></div><div class=\"panel-item\" data-reactid=\"60\"><a class=\"new\" data-reactid=\"61\">New collection</a></div></div></span></li><li data-reactid=\"62\"><span class=\"save-touchpoint save-to-menu\" data-reactid=\"63\"><div class=\"not-saved\" data-reactid=\"64\"><a class=\"touchpoint-link\" data-reactid=\"65\" href=\"#\">add to menu</a></div><div class=\"panel menu-list\" data-reactid=\"66\"><div class=\"panel-content\" data-reactid=\"67\"><div class=\"panel-item\" data-reactid=\"68\"><h3 data-reactid=\"69\">Add to menu</h3></div><ul class=\"menus\" data-reactid=\"70\"></ul></div><div class=\"panel-item\" data-reactid=\"71\"><a class=\"new\" data-reactid=\"72\">New menu</a></div></div></span></li><li class=\"print-recipe\" data-id=\"print\" data-reactid=\"73\"><div class=\"print\" data-reactid=\"74\"><a class=\"preview-print-button\" data-reactid=\"75\" href=\"#\" title=\"Print\">Print</a></div></li></ul></div></div><!-- react-empty: 76 --></div></div>\n",
       " <div class=\"tablet-ads1\">\n",
       " <aside class=\"railBoxTabletAd1-ad-wrap ad-wrapper\" itemscope=\"\" itemtype=\"https://schema.org/WPAdBlock\" role=\"complementary\"></aside>\n",
       " </div>\n",
       " <div class=\"recipe-and-additional-content\">\n",
       " <div class=\"recipe-content\"><div class=\"recipe-summary\"><dl class=\"summary-data\"><dt class=\"yield\">Yield</dt><dd class=\"yield\" itemprop=\"recipeYield\">4–6 servings</dd><meta content=\"PT25M\" itemprop=\"prepTime\"/>\n",
       " <dt class=\"active-time\">Active Time</dt><dd class=\"active-time\">25 minutes</dd><meta content=\"PT25M\" itemprop=\"cookTime\"/>\n",
       " <dt class=\"total-time\">Total Time</dt><dd class=\"total-time\">25 minutes</dd></dl></div><div class=\"ingredients-info\"><h2 class=\"section-title\">Ingredients</h2><ol class=\"ingredient-groups\"><li class=\"ingredient-group\"><ul class=\"ingredients\"><li class=\"ingredient\" itemprop=\"ingredients\">1 small rotisserie chicken, skin removed, meat shredded (about 4 cups)</li><li class=\"ingredient\" itemprop=\"ingredients\">1 bunch of celery, stalks separated, thinly sliced on a diagonal, leaves reserved</li><li class=\"ingredient\" itemprop=\"ingredients\">1 1/2 tsp. kosher salt, divided</li><li class=\"ingredient\" itemprop=\"ingredients\">1/2 cup buttermilk</li><li class=\"ingredient\" itemprop=\"ingredients\">3 Tbsp. white wine vinegar</li><li class=\"ingredient\" itemprop=\"ingredients\">1 tsp. honey</li><li class=\"ingredient\" itemprop=\"ingredients\">1 tsp. freshly ground black pepper, plus more</li><li class=\"ingredient\" itemprop=\"ingredients\">3 large or 4 small apricots, sliced</li><li class=\"ingredient\" itemprop=\"ingredients\">4 oz. mild blue cheese, sliced into shards</li><li class=\"ingredient\" itemprop=\"ingredients\">1 cup mint leaves</li></ul></li></ol></div><aside class=\"native-recipe-ad ad-wrapper\"></aside><div class=\"instructions\" itemprop=\"recipeInstructions\"><h2 class=\"section-title\">Preparation</h2><ol class=\"preparation-groups\"><li class=\"preparation-group\"><ol class=\"preparation-steps\"><li class=\"preparation-step\">                                        Toss chicken, celery stalks, and 1 tsp. salt in a large bowl. Let sit until ready to serve.\n",
       "                                     </li><li class=\"preparation-step\">                                        Whisk buttermilk, vinegar, honey, 1 tsp. pepper, and remaining 1/2 tsp. salt in a small bowl or measuring cup. Pour over celery mixture. Add apricots, blue cheese, mint, and celery leaves and toss just to coat.\n",
       "                                     </li><li class=\"preparation-step\">                                        Transfer salad to a platter and season with more pepper.\n",
       "                                     </li></ol></li></ol><div class=\"chef-notes\"><div class=\"chef-notes-header\">Cooks' Note:</div><div class=\"chef-notes-content\">In place of blue cheese, you can substitute an equal amount of mild feta.</div></div><div class=\"additional-info\"></div></div><div id=\"recipe-notes\"></div><div class=\"recipe-video-wrap\"><h2 class=\"section-title\">Related Video</h2><div class=\"recipe-video\" data-playerid=\"557f3ba061646d4fe8230000\" data-videoid=\"55915d5261646d22cd030000\"></div></div></div>\n",
       " <div id=\"additional-info-panels\"> <div class=\"edamam-nutrition panel collapse\" itemprop=\"nutrition\" itemscope=\"\" itemtype=\"https://schema.org/NutritionInformation\">\n",
       " <div class=\"nutrition header\">\n",
       " <h2>Nutritional Info</h2>\n",
       " <button></button>\n",
       " </div>\n",
       " <div class=\"nutrition content\">\n",
       " <ul>\n",
       " <li><span class=\"nutri-label\">Calories</span><span class=\"nutri-data\" itemprop=\"calories\">301</span></li>\n",
       " <li>\n",
       " <span class=\"nutri-label\">Carbohydrates</span><span class=\"nutri-data\" itemprop=\"carbohydrateContent\">9 g(3%)</span>\n",
       " </li>\n",
       " <li>\n",
       " <span class=\"nutri-label\">Fat</span><span class=\"nutri-data\" itemprop=\"fatContent\">19 g(30%)</span>\n",
       " </li>\n",
       " <li>\n",
       " <span class=\"nutri-label\">Protein</span><span class=\"nutri-data\" itemprop=\"proteinContent\">22 g(43%)</span>\n",
       " </li>\n",
       " <li>\n",
       " <span class=\"nutri-label\">Saturated Fat</span><span class=\"nutri-data\" itemprop=\"saturatedFatContent\">9 g(43%)</span>\n",
       " </li>\n",
       " <li>\n",
       " <span class=\"nutri-label\">Sodium</span><span class=\"nutri-data\" itemprop=\"sodiumContent\">605 mg(25%)</span>\n",
       " </li>\n",
       " <li>\n",
       " <span class=\"nutri-label\">Polyunsaturated Fat</span><span class=\"nutri-data\">3 g</span>\n",
       " </li>\n",
       " <li>\n",
       " <span class=\"nutri-label\">Fiber</span><span class=\"nutri-data\" itemprop=\"fiberContent\">3 g(11%)</span>\n",
       " </li>\n",
       " <li>\n",
       " <span class=\"nutri-label\">Monounsaturated Fat</span><span class=\"nutri-data\">7 g</span>\n",
       " </li>\n",
       " <li>\n",
       " <span class=\"nutri-label\">Cholesterol</span><span class=\"nutri-data\" itemprop=\"cholesterolContent\">76 mg(25%)</span>\n",
       " </li>\n",
       " </ul>\n",
       " <div class=\"footer\">\n",
       " <span class=\"per-serving\">per serving (4 servings)</span>\n",
       " <a class=\"tooltip\" data-tooltip=\"What's this?&lt;br/&gt;We've partnered with Edamam to provide nutritional information for most recipes in our database. The information displayed is Edamam's analysis of the recipe based on its ingredients and preparation, and should not be considered a substitute for professional nutrition advice. Always seek the advice of your physician or other qualified health provider with any questions you may have regarding a medical condition.\" href=\"#\"></a>\n",
       " <a class=\"edamam-source\" href=\"https://www.edamam.com/nutrition_wizard/\" rel=\"noopener noreferrer\" target=\"_blank\">Powered by <span>Edamam</span></a>\n",
       " </div>\n",
       " </div>\n",
       " </div>\n",
       " <div class=\"featured-in panel collapse\"><div class=\"menus-tags header\"><h2 class=\"section-title\">Menus &amp; Tags</h2><button></button></div><div class=\"menus-tags content\"><h4 class=\"section-title\">Tags:</h4>\n",
       " <dl class=\"tags\"><a href=\"/type/salad\"><dt itemprop=\"recipeCategory\">Salad</dt></a><a href=\"/ingredient/chicken\"><dt itemprop=\"recipeCategory\">Chicken</dt></a><a href=\"/ingredient/celery\"><dt itemprop=\"recipeCategory\">Celery</dt></a><a href=\"/ingredient/buttermilk\"><dt itemprop=\"recipeCategory\">Buttermilk</dt></a><a href=\"/ingredient/vinegar\"><dt itemprop=\"recipeCategory\">Vinegar</dt></a><a href=\"/ingredient/honey\"><dt itemprop=\"recipeCategory\">Honey</dt></a><a href=\"/ingredient/apricot\"><dt itemprop=\"recipeCategory\">Apricot</dt></a><a href=\"/ingredient/blue-cheese\"><dt itemprop=\"recipeCategory\">Blue Cheese</dt></a><a href=\"/ingredient/mint\"><dt itemprop=\"recipeCategory\">Mint</dt></a><a href=\"/meal/dinner\"><dt itemprop=\"recipeCategory\">Dinner</dt></a><a href=\"/occasion/summer\"><dt itemprop=\"recipeCategory\">Summer</dt></a><a href=\"/meal/lunch\"><dt itemprop=\"recipeCategory\">Lunch</dt></a><a href=\"/special-consideration/quick-and-easy\"><dt itemprop=\"recipeCategory\">Quick &amp; Easy</dt></a><a href=\"/occasion/picnic\"><dt itemprop=\"recipeCategory\">Picnic</dt></a><a href=\"/occasion/spring\"><dt itemprop=\"recipeCategory\">Spring</dt></a><a href=\"/special-consideration/wheat-gluten-free\"><dt itemprop=\"recipeCategory\">Wheat/Gluten-Free</dt></a></dl></div></div></div>\n",
       " </div><div class=\"review\" id=\"reviews\"><div class=\"teaser\"><div class=\"review-header\"><h2 id=\"review-leave\">Leave a Review</h2>\n",
       " </div>\n",
       " <div id=\"recipe-review\"></div>\n",
       " <div id=\"reviewlist-mount-point\"><div class=\"reviews\" data-react-checksum=\"1161445895\" data-reactid=\"1\" data-reactroot=\"\"><div class=\"review-header\" data-reactid=\"2\"><h2 data-reactid=\"3\">Reviews</h2></div><ul data-reactid=\"4\"><li class=\"most-recent with-rating\" data-reactid=\"5\" id=\"5b30f6066796412fa6f9cd57\"><img class=\"fork-rating\" data-reactid=\"6\" src=\"/static/img/recipe/ratings/4_forks.png\"/><div class=\"review-text\" data-reactid=\"7\"><p data-reactid=\"8\">Sounds delicious.  Four of my favorite flavors, all in one dish.  The big problem for me would be finding decent apricots... it seems that those that turn up in my suburban markets are mostly woolly and flavorless.   I wonder... how about subbing in some rehydrated DRIED apricots ??</p><div class=\"review-footer\" data-reactid=\"9\"><span class=\"credit\" data-reactid=\"10\"><!-- react-text: 11 -->peterh1<!-- /react-text --><!-- react-text: 12 --> from Tidewater Virginia<!-- /react-text --><!-- react-text: 13 --> / <!-- /react-text --></span><div class=\"reportproblem\" data-reactid=\"14\"><div class=\"flag\" data-reactid=\"15\"><a data-reactid=\"16\">flag if inappropriate</a></div></div></div></div></li><li class=\"most-recent with-rating\" data-reactid=\"17\" id=\"5b303b140e02ed3295967d1f\"><img class=\"fork-rating\" data-reactid=\"18\" src=\"/static/img/recipe/ratings/4_forks.png\"/><div class=\"review-text\" data-reactid=\"19\"><p data-reactid=\"20\">Sounds great but instead of rotisserie chicken, I would use roasted chicken.  Not as soft and moist as rotisserie chicken.  I think it will hold up a little better. I never thought of using fresh apricots but I will make it and try it.  We grow our own apricots and they are almost ready.  Thank you for your recipe.</p><div class=\"review-footer\" data-reactid=\"21\"><span class=\"credit\" data-reactid=\"22\"><!-- react-text: 23 -->gmom1949<!-- /react-text --><!-- react-text: 24 --> from Las Cruces, NM<!-- /react-text --><!-- react-text: 25 --> / <!-- /react-text --></span><div class=\"reportproblem\" data-reactid=\"26\"><div class=\"flag\" data-reactid=\"27\"><a data-reactid=\"28\">flag if inappropriate</a></div></div></div></div></li><li class=\"most-recent with-rating\" data-reactid=\"29\" id=\"5b302de2bfb505175b393fa7\"><img class=\"fork-rating\" data-reactid=\"30\" src=\"/static/img/recipe/ratings/3_forks.png\"/><div class=\"review-text\" data-reactid=\"31\"><p data-reactid=\"32\">what an enticing combination of flavors and textures!!  as a 33 year vegetarian I will be enjoying this with white beans or chickpeas, vs chicken, and fully expect it to be delightful..thank you  \n",
       " \n",
       " </p><div class=\"review-footer\" data-reactid=\"33\"><span class=\"credit\" data-reactid=\"34\"><!-- react-text: 35 -->rs in ne<!-- /react-text --><!-- react-text: 36 --> from new england<!-- /react-text --><!-- react-text: 37 --> / <!-- /react-text --></span><div class=\"reportproblem\" data-reactid=\"38\"><div class=\"flag\" data-reactid=\"39\"><a data-reactid=\"40\">flag if inappropriate</a></div></div></div></div></li><li class=\"most-recent with-rating\" data-reactid=\"41\" id=\"5b302c030e02ed3295967d1d\"><img class=\"fork-rating\" data-reactid=\"42\" src=\"/static/img/recipe/ratings/4_forks.png\"/><div class=\"review-text\" data-reactid=\"43\"><p data-reactid=\"44\">This is going into permanent rotation! Who knew that chicken salad was crying out for the beautiful tang of blue cheese? The cheese adds a nice salty point against the sweetness of the apricots. The mint and celery leaves add a nice green note to the dressing. I served this in butter lettuce cups, with the option of using a split, toasted croissant for those who wanted that. \n",
       " \n",
       " Everyone raved and wanted the recipe. Hopefully they'll sign up here.</p><div class=\"review-footer\" data-reactid=\"45\"><span class=\"credit\" data-reactid=\"46\"><!-- react-text: 47 -->eilish99<!-- /react-text --><!-- react-text: 48 --> from Dallas, TX<!-- /react-text --><!-- react-text: 49 --> / <!-- /react-text --></span><div class=\"reportproblem\" data-reactid=\"50\"><div class=\"flag\" data-reactid=\"51\"><a data-reactid=\"52\">flag if inappropriate</a></div></div></div></div></li><li class=\"most-recent with-rating\" data-reactid=\"53\" id=\"5b3024640b4ab737e1d28d60\"><img class=\"fork-rating\" data-reactid=\"54\" src=\"/static/img/recipe/ratings/4_forks.png\"/><div class=\"review-text\" data-reactid=\"55\"><p data-reactid=\"56\">The recipe looks fine and the picture is great ---very colorful.  I wouldn't use blue cheese as it's not healthy.   Absent that it is a \"go\".</p><div class=\"review-footer\" data-reactid=\"57\"><span class=\"credit\" data-reactid=\"58\"><!-- react-text: 59 -->pkunz10021<!-- /react-text --><!-- react-text: 60 --><!-- /react-text --><!-- react-text: 61 --> / <!-- /react-text --></span><div class=\"reportproblem\" data-reactid=\"62\"><div class=\"flag\" data-reactid=\"63\"><a data-reactid=\"64\">flag if inappropriate</a></div></div></div></div></li><li class=\"most-recent with-rating\" data-reactid=\"65\" id=\"5b301f1e0e02ed3295967d1c\"><img class=\"fork-rating\" data-reactid=\"66\" src=\"/static/img/recipe/ratings/3_forks.png\"/><div class=\"review-text\" data-reactid=\"67\"><p data-reactid=\"68\">I haven't tried the recipe yet, but since I'm not an apricot fan, s I would use peaches or nectarines instead.  And probably use less mint.  Otherwise, looks good!</p><div class=\"review-footer\" data-reactid=\"69\"><span class=\"credit\" data-reactid=\"70\"><!-- react-text: 71 -->brooklyn22<!-- /react-text --><!-- react-text: 72 --><!-- /react-text --><!-- react-text: 73 --> / <!-- /react-text --></span><div class=\"reportproblem\" data-reactid=\"74\"><div class=\"flag\" data-reactid=\"75\"><a data-reactid=\"76\">flag if inappropriate</a></div></div></div></div></li></ul></div></div>\n",
       " </div></div><div id=\"related-content\"><!-- react-empty: 1 --></div>\n",
       " <div class=\"riser-wrap\"></div><div data-track-type=\"end-main-content\">\n",
       " <div class=\"OUTBRAIN\" data-mobile-id=\"MB_1\" data-ob-template=\"Epicurious_1\" data-src=\"\" data-widget-id=\"AR_1\"></div> </div></div>\n",
       " <div class=\"rail\" data-react-checksum=\"-857438242\" data-reactid=\"1\" data-reactroot=\"\"><div class=\"epi-sticky\" data-reactid=\"2\"><div class=\"video\" data-reactid=\"3\"></div><aside class=\"box-top\" data-reactid=\"4\" itemscope=\"\" itemtype=\"https://schema.org/WPAdBlock\" role=\"complementary\"></aside><aside class=\"box-bottom\" data-reactid=\"5\" itemscope=\"\" itemtype=\"https://schema.org/WPAdBlock\" role=\"complementary\"></aside></div></div>\n",
       " </div>\n",
       " </div>\n",
       " <aside class=\"parallax-ad-wrap parallax-ad fullwidth ad ad-wrapper\" itemscope=\"\" itemtype=\"https://schema.org/WPAdBlock\" role=\"complementary\"></aside>\n",
       " <div class=\"newsletter fullwidth no-border\"></div>\n",
       " </div>]"
      ]
     },
     "execution_count": 77,
     "metadata": {},
     "output_type": "execute_result"
    }
   ],
   "source": [
    "main = soup.select('div.main-content')\n",
    "main"
   ]
  },
  {
   "cell_type": "markdown",
   "metadata": {},
   "source": [
    "#### there are some useful infomation in this page:\n",
    "1. img: img[\"srcset\"]\n",
    "2. dek (could be none): div.dek\n",
    "3. yield(serving size), active-time, totle-time (could be none)\n",
    "4. INGREDIENTS: div.ingredient\n",
    "5. PREPARATION: div.instructions\n",
    "6. NUTRITIONAL INFO (could be none)\n",
    "7. TAGS: div.tags\n",
    "8. ratings (could be a float num from 0 to 4), num of ratings, make if again percentage\n",
    "9. reviews: div.review"
   ]
  },
  {
   "cell_type": "code",
   "execution_count": 95,
   "metadata": {},
   "outputs": [
    {
     "data": {
      "text/plain": [
       "\"{'red': 1, 'blue': 2}\""
      ]
     },
     "execution_count": 95,
     "metadata": {},
     "output_type": "execute_result"
    }
   ],
   "source": [
    "l = {\"red\":1, \"blue\":2}\n",
    "str(l)"
   ]
  },
  {
   "cell_type": "markdown",
   "metadata": {},
   "source": [
    "### 4.1 imgurl"
   ]
  },
  {
   "cell_type": "code",
   "execution_count": 25,
   "metadata": {},
   "outputs": [
    {
     "data": {
      "text/plain": [
       "[<img alt=\"Chicken Salad With Celery, Apricots, and Blue Cheese / Photo by Chelsea Kyle, Food Styling by Anna Stockwell\" class=\"photo loaded\" data-reactid=\"10\" src=\"/static/img/px/background.png\" srcset=\"https://assets.epicurious.com/photos/5b23ce065eea062731adf5a3/6:4/w_274%2Ch_169/Chicken-Salad-With-Celery-Apricots-and-Blue-Cheese-30052918.jpg\"/>]"
      ]
     },
     "execution_count": 25,
     "metadata": {},
     "output_type": "execute_result"
    }
   ],
   "source": [
    "img = soup.select('div.main-content img[\"srcset\"]')\n",
    "img"
   ]
  },
  {
   "cell_type": "code",
   "execution_count": 26,
   "metadata": {},
   "outputs": [
    {
     "data": {
      "text/plain": [
       "'https://assets.epicurious.com/photos/5b23ce065eea062731adf5a3/6:4/w_274%2Ch_169/Chicken-Salad-With-Celery-Apricots-and-Blue-Cheese-30052918.jpg'"
      ]
     },
     "execution_count": 26,
     "metadata": {},
     "output_type": "execute_result"
    }
   ],
   "source": [
    "imgurl = re.search(r'srcset=\"(.+)\"\\/>', str(img)).group(1)\n",
    "imgurl"
   ]
  },
  {
   "cell_type": "markdown",
   "metadata": {},
   "source": [
    "### 4.2 desc"
   ]
  },
  {
   "cell_type": "code",
   "execution_count": 27,
   "metadata": {},
   "outputs": [
    {
     "data": {
      "text/plain": [
       "[<div class=\"dek\" data-reactid=\"18\" itemprop=\"description\"><p>This summer-season chicken salad is a dance between sweet, creamy, and acidic flavors and tender, crunchy, and juicy ingredients. Make it in early summer when apricots are peaking and choose a fairly nonassertive blue cheese that won’t overwhelm the mix.</p></div>]"
      ]
     },
     "execution_count": 27,
     "metadata": {},
     "output_type": "execute_result"
    }
   ],
   "source": [
    "dek = soup.select('div.main-content div.dek')\n",
    "dek"
   ]
  },
  {
   "cell_type": "code",
   "execution_count": 28,
   "metadata": {},
   "outputs": [
    {
     "data": {
      "text/plain": [
       "'This summer-season chicken salad is a dance between sweet, creamy, and acidic flavors and tender, crunchy, and juicy ingredients. Make it in early summer when apricots are peaking and choose a fairly nonassertive blue cheese that won’t overwhelm the mix.'"
      ]
     },
     "execution_count": 28,
     "metadata": {},
     "output_type": "execute_result"
    }
   ],
   "source": [
    "dekcontent = re.search(r'<p>(.+)<\\/p>', str(dek)).group(1)\n",
    "dekcontent"
   ]
  },
  {
   "cell_type": "markdown",
   "metadata": {},
   "source": [
    "### 4.3 yield, active time, total time"
   ]
  },
  {
   "cell_type": "code",
   "execution_count": 46,
   "metadata": {},
   "outputs": [
    {
     "data": {
      "text/plain": [
       "[<dd class=\"yield\" itemprop=\"recipeYield\">4–6 servings</dd>]"
      ]
     },
     "execution_count": 46,
     "metadata": {},
     "output_type": "execute_result"
    }
   ],
   "source": [
    "y = soup.select('div.main-content dd.yield')\n",
    "y"
   ]
  },
  {
   "cell_type": "code",
   "execution_count": 47,
   "metadata": {},
   "outputs": [
    {
     "data": {
      "text/plain": [
       "'4–6 servings'"
      ]
     },
     "execution_count": 47,
     "metadata": {},
     "output_type": "execute_result"
    }
   ],
   "source": [
    "yv = re.search(r'\\\">(.+)<', str(y)).group(1)\n",
    "yv"
   ]
  },
  {
   "cell_type": "code",
   "execution_count": 48,
   "metadata": {},
   "outputs": [
    {
     "data": {
      "text/plain": [
       "[<dd class=\"active-time\">25 minutes</dd>]"
      ]
     },
     "execution_count": 48,
     "metadata": {},
     "output_type": "execute_result"
    }
   ],
   "source": [
    "at = soup.select('div.main-content dd.active-time')\n",
    "at"
   ]
  },
  {
   "cell_type": "code",
   "execution_count": 49,
   "metadata": {},
   "outputs": [
    {
     "data": {
      "text/plain": [
       "'25 minutes'"
      ]
     },
     "execution_count": 49,
     "metadata": {},
     "output_type": "execute_result"
    }
   ],
   "source": [
    "atv = re.search(r'\\\">(.+)<', str(at)).group(1)\n",
    "atv"
   ]
  },
  {
   "cell_type": "code",
   "execution_count": 51,
   "metadata": {},
   "outputs": [
    {
     "data": {
      "text/plain": [
       "[<dd class=\"total-time\">25 minutes</dd>]"
      ]
     },
     "execution_count": 51,
     "metadata": {},
     "output_type": "execute_result"
    }
   ],
   "source": [
    "tt = soup.select('div.main-content dd.total-time')\n",
    "tt"
   ]
  },
  {
   "cell_type": "code",
   "execution_count": 52,
   "metadata": {},
   "outputs": [
    {
     "data": {
      "text/plain": [
       "'25 minutes'"
      ]
     },
     "execution_count": 52,
     "metadata": {},
     "output_type": "execute_result"
    }
   ],
   "source": [
    "ttv = re.search(r'\\\">(.+)<', str(tt)).group(1)\n",
    "ttv"
   ]
  },
  {
   "cell_type": "markdown",
   "metadata": {},
   "source": [
    "### 4.4 ingredients"
   ]
  },
  {
   "cell_type": "code",
   "execution_count": 29,
   "metadata": {},
   "outputs": [
    {
     "data": {
      "text/plain": [
       "[<li class=\"ingredient\" itemprop=\"ingredients\">1 small rotisserie chicken, skin removed, meat shredded (about 4 cups)</li>,\n",
       " <li class=\"ingredient\" itemprop=\"ingredients\">1 bunch of celery, stalks separated, thinly sliced on a diagonal, leaves reserved</li>,\n",
       " <li class=\"ingredient\" itemprop=\"ingredients\">1 1/2 tsp. kosher salt, divided</li>,\n",
       " <li class=\"ingredient\" itemprop=\"ingredients\">1/2 cup buttermilk</li>,\n",
       " <li class=\"ingredient\" itemprop=\"ingredients\">3 Tbsp. white wine vinegar</li>,\n",
       " <li class=\"ingredient\" itemprop=\"ingredients\">1 tsp. honey</li>,\n",
       " <li class=\"ingredient\" itemprop=\"ingredients\">1 tsp. freshly ground black pepper, plus more</li>,\n",
       " <li class=\"ingredient\" itemprop=\"ingredients\">3 large or 4 small apricots, sliced</li>,\n",
       " <li class=\"ingredient\" itemprop=\"ingredients\">4 oz. mild blue cheese, sliced into shards</li>,\n",
       " <li class=\"ingredient\" itemprop=\"ingredients\">1 cup mint leaves</li>]"
      ]
     },
     "execution_count": 29,
     "metadata": {},
     "output_type": "execute_result"
    }
   ],
   "source": [
    "ingrs = soup.select('div.main-content div.ingredients-info li.ingredient')\n",
    "ingrs"
   ]
  },
  {
   "cell_type": "code",
   "execution_count": 33,
   "metadata": {},
   "outputs": [
    {
     "data": {
      "text/plain": [
       "['1 small rotisserie chicken, skin removed, meat shredded (about 4 cups)',\n",
       " '1 bunch of celery, stalks separated, thinly sliced on a diagonal, leaves reserved',\n",
       " '1 1/2 tsp. kosher salt, divided',\n",
       " '1/2 cup buttermilk',\n",
       " '3 Tbsp. white wine vinegar',\n",
       " '1 tsp. honey',\n",
       " '1 tsp. freshly ground black pepper, plus more',\n",
       " '3 large or 4 small apricots, sliced',\n",
       " '4 oz. mild blue cheese, sliced into shards',\n",
       " '1 cup mint leaves']"
      ]
     },
     "execution_count": 33,
     "metadata": {},
     "output_type": "execute_result"
    }
   ],
   "source": [
    "ingrscontent = []\n",
    "for ingr in ingrs:\n",
    "    ingr = str(ingr)\n",
    "    ingrscontent.append(re.search(r'<li.+>(\\s*.+\\s*)<\\/li>', ingr).group(1).strip())\n",
    "ingrscontent"
   ]
  },
  {
   "cell_type": "markdown",
   "metadata": {},
   "source": [
    "### 4.5 steps"
   ]
  },
  {
   "cell_type": "code",
   "execution_count": 31,
   "metadata": {},
   "outputs": [
    {
     "data": {
      "text/plain": [
       "[<li class=\"preparation-step\">                                        Toss chicken, celery stalks, and 1 tsp. salt in a large bowl. Let sit until ready to serve.\n",
       "                                     </li>,\n",
       " <li class=\"preparation-step\">                                        Whisk buttermilk, vinegar, honey, 1 tsp. pepper, and remaining 1/2 tsp. salt in a small bowl or measuring cup. Pour over celery mixture. Add apricots, blue cheese, mint, and celery leaves and toss just to coat.\n",
       "                                     </li>,\n",
       " <li class=\"preparation-step\">                                        Transfer salad to a platter and season with more pepper.\n",
       "                                     </li>]"
      ]
     },
     "execution_count": 31,
     "metadata": {},
     "output_type": "execute_result"
    }
   ],
   "source": [
    "steps = soup.select('div.main-content div.instructions li.preparation-step')\n",
    "steps"
   ]
  },
  {
   "cell_type": "code",
   "execution_count": 34,
   "metadata": {},
   "outputs": [
    {
     "data": {
      "text/plain": [
       "['Toss chicken, celery stalks, and 1 tsp. salt in a large bowl. Let sit until ready to serve.',\n",
       " 'Whisk buttermilk, vinegar, honey, 1 tsp. pepper, and remaining 1/2 tsp. salt in a small bowl or measuring cup. Pour over celery mixture. Add apricots, blue cheese, mint, and celery leaves and toss just to coat.',\n",
       " 'Transfer salad to a platter and season with more pepper.']"
      ]
     },
     "execution_count": 34,
     "metadata": {},
     "output_type": "execute_result"
    }
   ],
   "source": [
    "ss = []\n",
    "for s in steps:\n",
    "    s = re.search(r'<li.+>(\\s*.+\\s*)<\\/li>', str(s)).group(1).strip()\n",
    "    ss.append(s)\n",
    "ss"
   ]
  },
  {
   "cell_type": "markdown",
   "metadata": {},
   "source": [
    "### 4.6 tags"
   ]
  },
  {
   "cell_type": "code",
   "execution_count": 35,
   "metadata": {},
   "outputs": [
    {
     "data": {
      "text/plain": [
       "[<a href=\"/type/salad\"><dt itemprop=\"recipeCategory\">Salad</dt></a>,\n",
       " <a href=\"/ingredient/chicken\"><dt itemprop=\"recipeCategory\">Chicken</dt></a>,\n",
       " <a href=\"/ingredient/celery\"><dt itemprop=\"recipeCategory\">Celery</dt></a>,\n",
       " <a href=\"/ingredient/buttermilk\"><dt itemprop=\"recipeCategory\">Buttermilk</dt></a>,\n",
       " <a href=\"/ingredient/vinegar\"><dt itemprop=\"recipeCategory\">Vinegar</dt></a>,\n",
       " <a href=\"/ingredient/honey\"><dt itemprop=\"recipeCategory\">Honey</dt></a>,\n",
       " <a href=\"/ingredient/apricot\"><dt itemprop=\"recipeCategory\">Apricot</dt></a>,\n",
       " <a href=\"/ingredient/blue-cheese\"><dt itemprop=\"recipeCategory\">Blue Cheese</dt></a>,\n",
       " <a href=\"/ingredient/mint\"><dt itemprop=\"recipeCategory\">Mint</dt></a>,\n",
       " <a href=\"/meal/dinner\"><dt itemprop=\"recipeCategory\">Dinner</dt></a>,\n",
       " <a href=\"/occasion/summer\"><dt itemprop=\"recipeCategory\">Summer</dt></a>,\n",
       " <a href=\"/meal/lunch\"><dt itemprop=\"recipeCategory\">Lunch</dt></a>,\n",
       " <a href=\"/special-consideration/quick-and-easy\"><dt itemprop=\"recipeCategory\">Quick &amp; Easy</dt></a>,\n",
       " <a href=\"/occasion/picnic\"><dt itemprop=\"recipeCategory\">Picnic</dt></a>,\n",
       " <a href=\"/occasion/spring\"><dt itemprop=\"recipeCategory\">Spring</dt></a>,\n",
       " <a href=\"/special-consideration/wheat-gluten-free\"><dt itemprop=\"recipeCategory\">Wheat/Gluten-Free</dt></a>]"
      ]
     },
     "execution_count": 35,
     "metadata": {},
     "output_type": "execute_result"
    }
   ],
   "source": [
    "tags = soup.select('div.main-content dl.tags a')\n",
    "tags"
   ]
  },
  {
   "cell_type": "code",
   "execution_count": 36,
   "metadata": {},
   "outputs": [
    {
     "data": {
      "text/plain": [
       "['Salad',\n",
       " 'Chicken',\n",
       " 'Celery',\n",
       " 'Buttermilk',\n",
       " 'Vinegar',\n",
       " 'Honey',\n",
       " 'Apricot',\n",
       " 'Blue Cheese',\n",
       " 'Mint',\n",
       " 'Dinner',\n",
       " 'Summer',\n",
       " 'Lunch',\n",
       " 'Quick &amp; Easy',\n",
       " 'Picnic',\n",
       " 'Spring',\n",
       " 'Wheat/Gluten-Free']"
      ]
     },
     "execution_count": 36,
     "metadata": {},
     "output_type": "execute_result"
    }
   ],
   "source": [
    "ts = []\n",
    "for t in tags:\n",
    "    t = re.search(r'\\\".+>(.+)<\\/dt>', str(t)).group(1)\n",
    "    ts.append(t)\n",
    "ts"
   ]
  },
  {
   "cell_type": "markdown",
   "metadata": {},
   "source": [
    "### 4.7 nutrition facts"
   ]
  },
  {
   "cell_type": "code",
   "execution_count": 37,
   "metadata": {},
   "outputs": [
    {
     "data": {
      "text/plain": [
       "[<span class=\"nutri-label\">Calories</span>,\n",
       " <span class=\"nutri-label\">Carbohydrates</span>,\n",
       " <span class=\"nutri-label\">Fat</span>,\n",
       " <span class=\"nutri-label\">Protein</span>,\n",
       " <span class=\"nutri-label\">Saturated Fat</span>,\n",
       " <span class=\"nutri-label\">Sodium</span>,\n",
       " <span class=\"nutri-label\">Polyunsaturated Fat</span>,\n",
       " <span class=\"nutri-label\">Fiber</span>,\n",
       " <span class=\"nutri-label\">Monounsaturated Fat</span>,\n",
       " <span class=\"nutri-label\">Cholesterol</span>]"
      ]
     },
     "execution_count": 37,
     "metadata": {},
     "output_type": "execute_result"
    }
   ],
   "source": [
    "nulabel = soup.select('div.main-content span.nutri-label')\n",
    "nulabel"
   ]
  },
  {
   "cell_type": "code",
   "execution_count": 38,
   "metadata": {},
   "outputs": [
    {
     "data": {
      "text/plain": [
       "[<span class=\"nutri-data\" itemprop=\"calories\">301</span>,\n",
       " <span class=\"nutri-data\" itemprop=\"carbohydrateContent\">9 g(3%)</span>,\n",
       " <span class=\"nutri-data\" itemprop=\"fatContent\">19 g(30%)</span>,\n",
       " <span class=\"nutri-data\" itemprop=\"proteinContent\">22 g(43%)</span>,\n",
       " <span class=\"nutri-data\" itemprop=\"saturatedFatContent\">9 g(43%)</span>,\n",
       " <span class=\"nutri-data\" itemprop=\"sodiumContent\">605 mg(25%)</span>,\n",
       " <span class=\"nutri-data\">3 g</span>,\n",
       " <span class=\"nutri-data\" itemprop=\"fiberContent\">3 g(11%)</span>,\n",
       " <span class=\"nutri-data\">7 g</span>,\n",
       " <span class=\"nutri-data\" itemprop=\"cholesterolContent\">76 mg(25%)</span>]"
      ]
     },
     "execution_count": 38,
     "metadata": {},
     "output_type": "execute_result"
    }
   ],
   "source": [
    "nuval = soup.select('div.main-content span.nutri-data')\n",
    "nuval"
   ]
  },
  {
   "cell_type": "code",
   "execution_count": 39,
   "metadata": {},
   "outputs": [
    {
     "data": {
      "text/plain": [
       "{'Calories': '301',\n",
       " 'Carbohydrates': '9 g(3%)',\n",
       " 'Fat': '19 g(30%)',\n",
       " 'Protein': '22 g(43%)',\n",
       " 'Saturated Fat': '9 g(43%)',\n",
       " 'Sodium': '605 mg(25%)',\n",
       " 'Polyunsaturated Fat': '3 g',\n",
       " 'Fiber': '3 g(11%)',\n",
       " 'Monounsaturated Fat': '7 g',\n",
       " 'Cholesterol': '76 mg(25%)'}"
      ]
     },
     "execution_count": 39,
     "metadata": {},
     "output_type": "execute_result"
    }
   ],
   "source": [
    "n = len(nulabel)\n",
    "nuinfo = {}\n",
    "for i in range(n):\n",
    "    n = str(nulabel[i])\n",
    "    n = re.search(r'\\\">(.+)<\\/', n).group(1)\n",
    "    v = str(nuval[i])\n",
    "    v = re.search(r'\\\">(.+)<\\/', v).group(1)\n",
    "    nuinfo[n] = v\n",
    "nuinfo"
   ]
  },
  {
   "cell_type": "code",
   "execution_count": 100,
   "metadata": {},
   "outputs": [
    {
     "data": {
      "text/plain": [
       "9.0"
      ]
     },
     "execution_count": 100,
     "metadata": {},
     "output_type": "execute_result"
    }
   ],
   "source": [
    "v = '9 g(3%)'\n",
    "float(v.split(\" \")[0])"
   ]
  },
  {
   "cell_type": "code",
   "execution_count": 44,
   "metadata": {},
   "outputs": [
    {
     "data": {
      "text/plain": [
       "[<span class=\"per-serving\">per serving (4 servings)</span>]"
      ]
     },
     "execution_count": 44,
     "metadata": {},
     "output_type": "execute_result"
    }
   ],
   "source": [
    "serving = soup.select('div.main-content span.per-serving')\n",
    "serving"
   ]
  },
  {
   "cell_type": "code",
   "execution_count": 45,
   "metadata": {},
   "outputs": [
    {
     "data": {
      "text/plain": [
       "'4'"
      ]
     },
     "execution_count": 45,
     "metadata": {},
     "output_type": "execute_result"
    }
   ],
   "source": [
    "serving = re.search(r'.+(\\d+).+', str(serving)).group(1)\n",
    "serving"
   ]
  },
  {
   "cell_type": "markdown",
   "metadata": {},
   "source": [
    "### 4.8 ratings"
   ]
  },
  {
   "cell_type": "code",
   "execution_count": 67,
   "metadata": {},
   "outputs": [
    {
     "data": {
      "text/plain": [
       "[<span class=\"rating\">3.5/4</span>]"
      ]
     },
     "execution_count": 67,
     "metadata": {},
     "output_type": "execute_result"
    }
   ],
   "source": [
    "rating = soup.select('div.main-content span.rating')\n",
    "rating"
   ]
  },
  {
   "cell_type": "code",
   "execution_count": 68,
   "metadata": {},
   "outputs": [
    {
     "data": {
      "text/plain": [
       "'3.5'"
      ]
     },
     "execution_count": 68,
     "metadata": {},
     "output_type": "execute_result"
    }
   ],
   "source": [
    "rating = re.search(r'\\\">(.+)\\/\\d', str(rating)).group(1)\n",
    "rating"
   ]
  },
  {
   "cell_type": "code",
   "execution_count": 69,
   "metadata": {},
   "outputs": [
    {
     "data": {
      "text/plain": [
       "[<span class=\"reviews-count\" itemprop=\"reviewCount\">5</span>]"
      ]
     },
     "execution_count": 69,
     "metadata": {},
     "output_type": "execute_result"
    }
   ],
   "source": [
    "rc = soup.select('div.main-content span.reviews-count')\n",
    "rc"
   ]
  },
  {
   "cell_type": "code",
   "execution_count": 70,
   "metadata": {},
   "outputs": [
    {
     "data": {
      "text/plain": [
       "'5'"
      ]
     },
     "execution_count": 70,
     "metadata": {},
     "output_type": "execute_result"
    }
   ],
   "source": [
    "rcv = re.search(r'(\\d+)', str(rc)).group(1)\n",
    "rcv"
   ]
  },
  {
   "cell_type": "code",
   "execution_count": 71,
   "metadata": {},
   "outputs": [
    {
     "data": {
      "text/plain": [
       "[<span>100%</span>]"
      ]
     },
     "execution_count": 71,
     "metadata": {},
     "output_type": "execute_result"
    }
   ],
   "source": [
    "ma = soup.select('div.main-content div.prepare-again-rating span')\n",
    "ma"
   ]
  },
  {
   "cell_type": "code",
   "execution_count": 72,
   "metadata": {},
   "outputs": [
    {
     "data": {
      "text/plain": [
       "'100'"
      ]
     },
     "execution_count": 72,
     "metadata": {},
     "output_type": "execute_result"
    }
   ],
   "source": [
    "mav = re.search(r'(\\d+)', str(ma)).group(1)\n",
    "mav"
   ]
  },
  {
   "cell_type": "markdown",
   "metadata": {},
   "source": [
    "### 4.9 first several reviews"
   ]
  },
  {
   "cell_type": "code",
   "execution_count": 87,
   "metadata": {},
   "outputs": [
    {
     "data": {
      "text/plain": [
       "[<p data-reactid=\"8\">Sounds delicious.  Four of my favorite flavors, all in one dish.  The big problem for me would be finding decent apricots... it seems that those that turn up in my suburban markets are mostly woolly and flavorless.   I wonder... how about subbing in some rehydrated DRIED apricots ??</p>,\n",
       " <p data-reactid=\"20\">Sounds great but instead of rotisserie chicken, I would use roasted chicken.  Not as soft and moist as rotisserie chicken.  I think it will hold up a little better. I never thought of using fresh apricots but I will make it and try it.  We grow our own apricots and they are almost ready.  Thank you for your recipe.</p>,\n",
       " <p data-reactid=\"32\">what an enticing combination of flavors and textures!!  as a 33 year vegetarian I will be enjoying this with white beans or chickpeas, vs chicken, and fully expect it to be delightful..thank you  \n",
       " \n",
       " </p>,\n",
       " <p data-reactid=\"44\">This is going into permanent rotation! Who knew that chicken salad was crying out for the beautiful tang of blue cheese? The cheese adds a nice salty point against the sweetness of the apricots. The mint and celery leaves add a nice green note to the dressing. I served this in butter lettuce cups, with the option of using a split, toasted croissant for those who wanted that. \n",
       " \n",
       " Everyone raved and wanted the recipe. Hopefully they'll sign up here.</p>,\n",
       " <p data-reactid=\"56\">The recipe looks fine and the picture is great ---very colorful.  I wouldn't use blue cheese as it's not healthy.   Absent that it is a \"go\".</p>,\n",
       " <p data-reactid=\"68\">I haven't tried the recipe yet, but since I'm not an apricot fan, s I would use peaches or nectarines instead.  And probably use less mint.  Otherwise, looks good!</p>]"
      ]
     },
     "execution_count": 87,
     "metadata": {},
     "output_type": "execute_result"
    }
   ],
   "source": [
    "reviews = soup.select('div.main-content div.reviews li div.review-text p')\n",
    "reviews"
   ]
  },
  {
   "cell_type": "code",
   "execution_count": 90,
   "metadata": {},
   "outputs": [
    {
     "data": {
      "text/plain": [
       "['Sounds delicious.  Four of my favorite flavors, all in one dish.  The big problem for me would be finding decent apricots... it seems that those that turn up in my suburban markets are mostly woolly and flavorless.   I wonder... how about subbing in some rehydrated DRIED apricots ??',\n",
       " 'Sounds great but instead of rotisserie chicken, I would use roasted chicken.  Not as soft and moist as rotisserie chicken.  I think it will hold up a little better. I never thought of using fresh apricots but I will make it and try it.  We grow our own apricots and they are almost ready.  Thank you for your recipe.',\n",
       " 'what an enticing combination of flavors and textures!!  as a 33 year vegetarian I will be enjoying this with white beans or chickpeas, vs chicken, and fully expect it to be delightful..thank you',\n",
       " \"This is going into permanent rotation! Who knew that chicken salad was crying out for the beautiful tang of blue cheese? The cheese adds a nice salty point against the sweetness of the apricots. The mint and celery leaves add a nice green note to the dressing. I served this in butter lettuce cups, with the option of using a split, toasted croissant for those who wanted that. \\n\\nEveryone raved and wanted the recipe. Hopefully they'll sign up here.\",\n",
       " 'The recipe looks fine and the picture is great ---very colorful.  I wouldn\\'t use blue cheese as it\\'s not healthy.   Absent that it is a \"go\".',\n",
       " \"I haven't tried the recipe yet, but since I'm not an apricot fan, s I would use peaches or nectarines instead.  And probably use less mint.  Otherwise, looks good!\"]"
      ]
     },
     "execution_count": 90,
     "metadata": {},
     "output_type": "execute_result"
    }
   ],
   "source": [
    "reviewc = []\n",
    "for r in reviews:\n",
    "    try:\n",
    "        reviewc.append(re.search(r'\\\">(.+[\\s\\S]*)<', str(r)).group(1).strip())\n",
    "    except:\n",
    "        print(r)\n",
    "reviewc"
   ]
  },
  {
   "cell_type": "markdown",
   "metadata": {},
   "source": [
    "### 4.10 title"
   ]
  },
  {
   "cell_type": "code",
   "execution_count": 91,
   "metadata": {},
   "outputs": [
    {
     "data": {
      "text/plain": [
       "[<h1 itemprop=\"name\">Chicken Salad with Apricots, Celery, and Blue Cheese </h1>]"
      ]
     },
     "execution_count": 91,
     "metadata": {},
     "output_type": "execute_result"
    }
   ],
   "source": [
    "title = soup.select('div.main-content div.title-source h1')\n",
    "title"
   ]
  },
  {
   "cell_type": "code",
   "execution_count": 92,
   "metadata": {},
   "outputs": [
    {
     "data": {
      "text/plain": [
       "'Chicken Salad with Apricots, Celery, and Blue Cheese'"
      ]
     },
     "execution_count": 92,
     "metadata": {},
     "output_type": "execute_result"
    }
   ],
   "source": [
    "title = re.search(r'\\\">(.+)<', str(title)).group(1).strip()\n",
    "title"
   ]
  },
  {
   "cell_type": "markdown",
   "metadata": {},
   "source": [
    "## 5. wrap detail of a recipe page into a recipe class\n",
    "\n",
    "#### write the class in src/Recipe.py, use \"from src import Recipe\""
   ]
  },
  {
   "cell_type": "markdown",
   "metadata": {},
   "source": [
    "## require requests, BeautifulSoup, re, json\n",
    "class Recipe:\n",
    "    \n",
    "################################################################################################ init empty recipe\n",
    "    def __init__(self):\n",
    "        \n",
    "        self.title = ''\n",
    "        self.url = ''\n",
    "        self.imgurl = ''\n",
    "        self.desc = ''\n",
    "        \n",
    "        self.ingredients = []\n",
    "        self.steps = []\n",
    "        self.tags = []\n",
    "        self.nutritions = {}\n",
    "        self.serving = 0\n",
    "        \n",
    "        self.yiel = ''\n",
    "        self.activetime = ''\n",
    "        self.totaltime = ''\n",
    "        \n",
    "        self.rating = 0\n",
    "        self.reviewcount = 0\n",
    "        self.makeagain = 0\n",
    "        self.reviews = []\n",
    "\n",
    "    \n",
    "############################################################################ init recipe using a recipe detial page\n",
    "    def __init__(self, url):\n",
    "        \n",
    "        page = requests.get(url)\n",
    "        soup = BeautifulSoup(page.text, 'lxml')\n",
    "        \n",
    "        self.title = self.build_title(soup)\n",
    "        self.url = url\n",
    "        self.imgurl = self.build_imgurl(soup)\n",
    "        self.desc = self.build_desc(soup)        \n",
    "        \n",
    "        self.ingredients = self.build_ingredients(soup)\n",
    "        self.steps = self.build_steps(soup)\n",
    "        self.tags = self.build_tags(soup)\n",
    "        self.nutritions = self.build_nutritions(soup)\n",
    "        self.serving = self.build_serving(soup)\n",
    "        \n",
    "        self.yiel = self.build_yield(soup)\n",
    "        self.activetime = self.build_activetime(soup)\n",
    "        self.totaltime = self.build_totaltime(soup)\n",
    "        \n",
    "        self.rating = self.build_rating(soup)\n",
    "        self.reviewcount = self.build_reviewcount(soup)\n",
    "        self.makeagain = self.build_makeagain(soup)\n",
    "        self.reviews = self.build_reviews(soup)\n",
    "        \n",
    "    \n",
    "########################################################################### fuctions: get infomation from a page\n",
    "    def build_title(self, soup):\n",
    "        try:\n",
    "            el = soup.select('div.main-content div.title-source h1')\n",
    "            title = re.search(r'\\\">(.+)<', str(el)).group(1).strip()\n",
    "            return title\n",
    "        except:\n",
    "            print(\"Title Wrong: \"+self.url)\n",
    "            return ''\n",
    "    \n",
    "    def build_imgurl(self, soup):\n",
    "        try:\n",
    "            el = soup.select('div.main-content img[\"srcset\"]')\n",
    "            imgurl = re.search(r'srcset=\"(.+)\"\\/>', str(el)).group(1)\n",
    "            return imgurl\n",
    "        except:\n",
    "            print(\"IMG Wrong: \"+self.url)\n",
    "            return ''\n",
    "\n",
    "    def build_desc(self, soup):\n",
    "        try:\n",
    "            el = soup.select('div.main-content div.dek')\n",
    "            desc = re.search(r'<p>(.+)<\\/p>', str(el)).group(1).strip()     \n",
    "            return desc\n",
    "        except:\n",
    "            #print(\"Desc Wrong: \"+self.url)\n",
    "            return ''\n",
    "        \n",
    "    \n",
    "    def build_ingredients(self, soup):\n",
    "        try:\n",
    "            ingredients = []\n",
    "            els = soup.select('div.main-content div.ingredients-info li.ingredient')\n",
    "            for el in els:\n",
    "                ingredients.append(re.search(r'<li.+>(\\s*.+\\s*)<\\/li>', str(el)).group(1).strip())\n",
    "            return ingredients\n",
    "        except:\n",
    "            print(\"Ingredients Wrong: \"+self.url)\n",
    "            return []\n",
    "\n",
    "    def build_steps(self, soup):\n",
    "        try:\n",
    "            steps = []\n",
    "            els = soup.select('div.main-content div.instructions li.preparation-step')\n",
    "            for el in els:\n",
    "                steps.append(re.search(r'<li.+>(\\s*.+\\s*)<\\/li>', str(el)).group(1).strip())\n",
    "            return steps\n",
    "        except:\n",
    "            print(\"Steps Wrong: \"+self.url)\n",
    "            return []\n",
    "\n",
    "    def build_tags(self, soup):\n",
    "        try:\n",
    "            tags = []\n",
    "            els = soup.select('div.main-content dl.tags a')\n",
    "            for el in els:\n",
    "                tags.append(re.search(r'\\\".+>(.+)<\\/dt>', str(el)).group(1))\n",
    "            return tags\n",
    "        except:\n",
    "            print(\"Tags Wrong: \"+self.url)\n",
    "            return []\n",
    "\n",
    "    def build_nutritions(self, soup):\n",
    "        try:\n",
    "            nutritions = {}\n",
    "            labels = soup.select('div.main-content span.nutri-label')\n",
    "            values = soup.select('div.main-content span.nutri-data')\n",
    "            for i in range(len(labels)):\n",
    "                n = re.search(r'\\\">(.+)<\\/', str(labels[i])).group(1)\n",
    "                v = re.search(r'\\\">(.+)<\\/', str(values[i])).group(1)\n",
    "                v = float(v.split(' ')[0])\n",
    "                nutritions[n] = v\n",
    "            return nutritions\n",
    "        except:\n",
    "            #print(\"Nutritions Wrong: \"+self.url)\n",
    "            return {}                \n",
    "    \n",
    "    def build_serving(self, soup):\n",
    "        try:\n",
    "            el = soup.select('div.main-content span.per-serving')\n",
    "            serving = re.search(r'.+(\\d+).+',str(el)).group(1)\n",
    "            return float(serving)\n",
    "        except:\n",
    "            #print(\"Serving Wrong: \"+self.url)\n",
    "            return 0\n",
    "        \n",
    "    \n",
    "    def build_yield(self, soup):\n",
    "        try:\n",
    "            el = soup.select('div.main-content dd.yield')\n",
    "            y = re.search(r'\\\">(.+)<', str(el)).group(1)\n",
    "            return y\n",
    "        except:\n",
    "            #print(\"Yield Wrong: \"+self.url)\n",
    "            return ''\n",
    "        \n",
    "    def build_activetime(self, soup):\n",
    "        try:\n",
    "            el = soup.select('div.main-content dd.active-time')\n",
    "            active = re.search(r'\\\">(.+)<', str(el)).group(1)\n",
    "            return active\n",
    "        except:\n",
    "            #print(\"Activetime Wrong: \"+self.url)\n",
    "            return ''\n",
    "        \n",
    "    def build_totaltime(self, soup):\n",
    "        try:\n",
    "            el = soup.select('div.main-content dd.total-time')\n",
    "            total = re.search(r'\\\">(.+)<', str(el)).group(1)\n",
    "            return total\n",
    "        except:\n",
    "            #print(\"Totaltime Wrong: \"+self.url)\n",
    "            return ''\n",
    "        \n",
    "        \n",
    "    def build_rating(self, soup):\n",
    "        try:\n",
    "            el = soup.select('div.main-content span.rating')\n",
    "            rating = re.search(r'\\\">(.+)\\/\\d', str(el)).group(1)\n",
    "            return float(rating)\n",
    "        except:\n",
    "            print(\"Rating Wrong: \"+self.url)\n",
    "            return 0\n",
    "\n",
    "    def build_reviewcount(self, soup):\n",
    "        try:\n",
    "            el = soup.select('div.main-content span.reviews-count')\n",
    "            reviewcount = re.search(r'(\\d+)', str(el)).group(1)\n",
    "            return float(reviewcount)\n",
    "        except:\n",
    "            print(\"Reviewcount Wrong: \"+self.url)\n",
    "            return 0\n",
    "        \n",
    "    def build_makeagain(self, soup):\n",
    "        try:\n",
    "            el = soup.select('div.main-content div.prepare-again-rating span')\n",
    "            makeagain = re.search(r'(\\d+)', str(el)).group(1)\n",
    "            return float(makeagain)\n",
    "        except:\n",
    "            print(\"MakeagainRating Wrong: \"+self.url)\n",
    "            return 0\n",
    "    \n",
    "    def build_reviews(self, soup):\n",
    "        try:\n",
    "            reviews = []\n",
    "            els = soup.select('div.main-content div.reviews li div.review-text p')\n",
    "            for el in els:\n",
    "                review = re.search(r'\\\">(.+[\\s\\S]*)<', str(r)).group(1).strip()\n",
    "                reviews.append(review)\n",
    "            return reviews\n",
    "        except:\n",
    "            #print(\"Reviews Wrong: \"+self.url)\n",
    "            return []\n",
    "        \n",
    "    \n",
    "######################################################################################################### to string\n",
    "    def __str__(self):\n",
    "        string = \"\\nTitle: \" + self.title + \"\\nURL: \" + self.url + \"\\nIMG URL: \" + self.imgurl + \"\\nDesc: \" + self.desc + \"\\nIngredients: \" + str(self.ingredients) + \"\\nSteps: \" + str(self.steps) + \"\\nTags: \" + str(self.tags) + \"\\nNutritions: \" + str(self.nutritions) + \"\\nServing: \" + str(self.serving) + \"\\nYield: \" + self.yiel + \"\\nActive time: \" + self.activetime + \"\\nTotal time: \" + self.totaltime + \"\\nRating: \" + str(self.rating) + \"\\nReview count: \" + str(self.reviewcount) + \"\\nMake again: \" + str(self.makeagain) + \"\\nReviews: \" + str(self.reviews)\n",
    "        return string     \n",
    "\n",
    "######################################################################################################### getters\n",
    "    def get_title(self):\n",
    "        return self.title\n",
    "    \n",
    "    def get_url(self):\n",
    "        return self.url\n",
    "    \n",
    "    def get_imgurl(self):\n",
    "        return self.imgurl\n",
    "    \n",
    "    def get_desc(self):\n",
    "        return self.desc\n",
    "    \n",
    "    \n",
    "    def get_ingredients(self):\n",
    "        return self.ingredients\n",
    "    \n",
    "    def get_steps(self):\n",
    "        return self.steps\n",
    "    \n",
    "    def get_tags(self):\n",
    "        return self.tags\n",
    "    \n",
    "    def get_nutritions(self):\n",
    "        return self.nutritions\n",
    "    \n",
    "    def get_serving(self):\n",
    "        return self.serving\n",
    "    \n",
    "    \n",
    "    def get_yield(self):\n",
    "        return self.yiel\n",
    "    \n",
    "    def get_activetime(self):\n",
    "        return self.activetime\n",
    "    \n",
    "    def get_totaltime(self):\n",
    "        return self.totaltime\n",
    "    \n",
    "    \n",
    "    def get_rating(self):\n",
    "        return self.rating\n",
    "\n",
    "    def get_reviewcount(self):\n",
    "        return self.reviewcount\n",
    "    \n",
    "    def get_makeagain(self):\n",
    "        return self.makeagain\n",
    "    \n",
    "    def get_reviews(self):\n",
    "        return self.reviews"
   ]
  },
  {
   "cell_type": "markdown",
   "metadata": {},
   "source": [
    "## test the class"
   ]
  },
  {
   "cell_type": "code",
   "execution_count": 121,
   "metadata": {},
   "outputs": [
    {
     "name": "stdout",
     "output_type": "stream",
     "text": [
      "\n",
      "Title: Grilled Bistecca with Herby Fish Sauce\n",
      "URL: https://www.epicurious.com/recipes/food/views/grilled-bistecca-porterhouse-steaks-with-herby-fish-sauce\n",
      "IMG URL: https://assets.epicurious.com/photos/5ad7863b59e81a5d899942ba/6:4/w_274%2Ch_169/grilled-bistecca-steak-with-herby-fish-sauce-recipe-BA-041818.jpg\n",
      "Desc: Why baste your steak with fish sauce? It's called umami. Get into it.\n",
      "Ingredients: ['2 (1 1/2\"–2\"-thick) porterhouse steaks (about 6 lb. total)', '1/2 cup extra-virgin olive oil, divided', 'Kosher salt', '3 Tbsp. freshly ground black pepper', '2 garlic cloves, finely grated', '1/4 cup fish sauce', '2 Tbsp. coarsely chopped marjoram, rosemary, and/or thyme']\n",
      "Steps: ['Rub steak with 1/4 cup oil; season with salt and sprinkle with pepper (it should nearly cover both sides). Let sit at room temperature 30 minutes.', 'Mix garlic, fish sauce, herbs, and remaining 1/4 cup oil in a small bowl.', 'Prepare a grill for medium-high indirect heat (for a gas grill, leave one or two burners off; for a charcoal grill, bank coals on one side of grill). Grill steaks over direct heat until nicely charred, about 2 minutes per side. Move steaks over indirect heat and continue grilling, basting with fish sauce mixture, until browned all over, about 5 minutes per side. An instant-read thermometer inserted into the thickest part of steaks should register 120°F for rare; temperature will rise to 125°F (or medium-rare) as they rest. Transfer to a cutting board and let rest 20 minutes before slicing against the grain.']\n",
      "Tags: ['Bon Appétit', 'Dinner', 'Steak', 'Grill/Barbecue', 'Grill', 'Summer', 'Italian', 'Herb', 'Garlic', 'Dairy Free', 'Wheat/Gluten-Free']\n",
      "Nutritions: {'Calories': 339.0, 'Carbohydrates': 3.0, 'Fat': 22.0, 'Protein': 31.0, 'Saturated Fat': 5.0, 'Sodium': 776.0, 'Polyunsaturated Fat': 2.0, 'Fiber': 1.0, 'Monounsaturated Fat': 14.0, 'Cholesterol': 77.0}\n",
      "Serving: 8.0\n",
      "Yield: 8 servings\n",
      "Active time: \n",
      "Total time: \n",
      "Rating: 4.0\n",
      "Review count: 1.0\n",
      "Make again: 100.0\n",
      "Reviews: []\n"
     ]
    }
   ],
   "source": [
    "url = 'https://www.epicurious.com/recipes/food/views/grilled-bistecca-porterhouse-steaks-with-herby-fish-sauce'\n",
    "r = Recipe(url)\n",
    "print(r)"
   ]
  },
  {
   "cell_type": "code",
   "execution_count": 122,
   "metadata": {},
   "outputs": [
    {
     "data": {
      "text/plain": [
       "{'Calories': 339.0,\n",
       " 'Carbohydrates': 3.0,\n",
       " 'Fat': 22.0,\n",
       " 'Protein': 31.0,\n",
       " 'Saturated Fat': 5.0,\n",
       " 'Sodium': 776.0,\n",
       " 'Polyunsaturated Fat': 2.0,\n",
       " 'Fiber': 1.0,\n",
       " 'Monounsaturated Fat': 14.0,\n",
       " 'Cholesterol': 77.0}"
      ]
     },
     "execution_count": 122,
     "metadata": {},
     "output_type": "execute_result"
    }
   ],
   "source": [
    "r.get_nutritions()"
   ]
  },
  {
   "cell_type": "code",
   "execution_count": 123,
   "metadata": {},
   "outputs": [
    {
     "data": {
      "text/plain": [
       "8.0"
      ]
     },
     "execution_count": 123,
     "metadata": {},
     "output_type": "execute_result"
    }
   ],
   "source": [
    "r.get_serving()"
   ]
  },
  {
   "cell_type": "code",
   "execution_count": 124,
   "metadata": {},
   "outputs": [
    {
     "data": {
      "text/plain": [
       "'{\"title\": \"Grilled Bistecca with Herby Fish Sauce\", \"url\": \"https://www.epicurious.com/recipes/food/views/grilled-bistecca-porterhouse-steaks-with-herby-fish-sauce\", \"imgurl\": \"https://assets.epicurious.com/photos/5ad7863b59e81a5d899942ba/6:4/w_274%2Ch_169/grilled-bistecca-steak-with-herby-fish-sauce-recipe-BA-041818.jpg\", \"desc\": \"Why baste your steak with fish sauce? It\\'s called umami. Get into it.\", \"ingredients\": [\"2 (1 1/2\\\\\"\\\\u20132\\\\\"-thick) porterhouse steaks (about 6 lb. total)\", \"1/2 cup extra-virgin olive oil, divided\", \"Kosher salt\", \"3 Tbsp. freshly ground black pepper\", \"2 garlic cloves, finely grated\", \"1/4 cup fish sauce\", \"2 Tbsp. coarsely chopped marjoram, rosemary, and/or thyme\"], \"steps\": [\"Rub steak with 1/4 cup oil; season with salt and sprinkle with pepper (it should nearly cover both sides). Let sit at room temperature 30 minutes.\", \"Mix garlic, fish sauce, herbs, and remaining 1/4 cup oil in a small bowl.\", \"Prepare a grill for medium-high indirect heat (for a gas grill, leave one or two burners off; for a charcoal grill, bank coals on one side of grill). Grill steaks over direct heat until nicely charred, about 2 minutes per side. Move steaks over indirect heat and continue grilling, basting with fish sauce mixture, until browned all over, about 5 minutes per side. An instant-read thermometer inserted into the thickest part of steaks should register 120\\\\u00b0F for rare; temperature will rise to 125\\\\u00b0F (or medium-rare) as they rest. Transfer to a cutting board and let rest 20 minutes before slicing against the grain.\"], \"tags\": [\"Bon App\\\\u00e9tit\", \"Dinner\", \"Steak\", \"Grill/Barbecue\", \"Grill\", \"Summer\", \"Italian\", \"Herb\", \"Garlic\", \"Dairy Free\", \"Wheat/Gluten-Free\"], \"nutritions\": {\"Calories\": 339.0, \"Carbohydrates\": 3.0, \"Fat\": 22.0, \"Protein\": 31.0, \"Saturated Fat\": 5.0, \"Sodium\": 776.0, \"Polyunsaturated Fat\": 2.0, \"Fiber\": 1.0, \"Monounsaturated Fat\": 14.0, \"Cholesterol\": 77.0}, \"serving\": 8.0, \"yiel\": \"8 servings\", \"activetime\": \"\", \"totaltime\": \"\", \"rating\": 4.0, \"reviewcount\": 1.0, \"makeagain\": 100.0, \"reviews\": []}'"
      ]
     },
     "execution_count": 124,
     "metadata": {},
     "output_type": "execute_result"
    }
   ],
   "source": [
    "r.to_json()"
   ]
  },
  {
   "cell_type": "code",
   "execution_count": 126,
   "metadata": {},
   "outputs": [
    {
     "name": "stdout",
     "output_type": "stream",
     "text": [
      "\n",
      "Title: Pasta with 15-Minute Burst Cherry Tomato Sauce\n",
      "URL: https://www.epicurious.com/recipes/food/views/pasta-with-15-minute-burst-cherry-tomato-sauce-56390060\n",
      "IMG URL: https://assets.epicurious.com/photos/55f72d733c346243461d496e/6:4/w_274%2Ch_169/09112015_15minute_pastasauce_tomato.jpg\n",
      "Desc: Juicy sweet cherry tomatoes burst open in warm olive oil, creating a luxuriously silky sauce that comes together in minutes.\n",
      "Ingredients: ['1 pound pasta', 'Kosher salt', '1/2 cup olive oil', '2 large garlic cloves, finely chopped', '3 pints cherry tomatoes', '1/2 teaspoon freshly ground black pepper', 'Pinch of sugar', '1 cup coarsely chopped fresh basil', 'Freshly grated Parmesan (for serving)']\n",
      "Steps: ['Cook pasta in a large pot of boiling salted water, stirring occasionally, until al dente; drain and transfer to a large bowl.', 'Meanwhile, heat oil in a 12\" skillet or wide heavy saucepan over medium-high. Add garlic, then tomatoes, pepper, sugar, and 1 tsp. salt. Cook, stirring occasionally, until tomatoes burst and release their juices to form a sauce, 6–8 minutes.', 'Toss pasta with tomato sauce and basil. Top with Parmesan.']\n",
      "Tags: ['Pasta', 'Tomato', 'Vegetarian', 'Kid-Friendly', 'Quick &amp; Easy', 'Italian American', 'Basil', 'Healthy']\n",
      "Nutritions: {}\n",
      "Serving: 4.0\n",
      "Yield: 4–6 servings\n",
      "Active time: 15 minutes\n",
      "Total time: 20 minutes\n",
      "Rating: 4.0\n",
      "Review count: 56.0\n",
      "Make again: 98.0\n",
      "Reviews: []\n"
     ]
    }
   ],
   "source": [
    "r2 = Recipe(\"https://www.epicurious.com/recipes/food/views/pasta-with-15-minute-burst-cherry-tomato-sauce-56390060\")\n",
    "print(r2)"
   ]
  },
  {
   "cell_type": "code",
   "execution_count": 146,
   "metadata": {},
   "outputs": [],
   "source": [
    "with open('test.json', 'w') as fp:\n",
    "    json.dump(r.__dict__, fp)\n",
    "    fp.write(\"\\n\")"
   ]
  },
  {
   "cell_type": "code",
   "execution_count": 147,
   "metadata": {},
   "outputs": [],
   "source": [
    "with open('test.json', 'a') as fp:\n",
    "    json.dump(r2.__dict__, fp)\n",
    "    fp.write(\"\\n\")"
   ]
  },
  {
   "cell_type": "markdown",
   "metadata": {},
   "source": [
    "## 6. Craw all the recipes in one search resule page and write them into Json file"
   ]
  },
  {
   "cell_type": "code",
   "execution_count": 148,
   "metadata": {},
   "outputs": [],
   "source": [
    "website0 = 'https://www.epicurious.com/search/?content=recipe&page='\n",
    "websites = [website0+str(i) for i in range(1,1970)]"
   ]
  },
  {
   "cell_type": "code",
   "execution_count": 149,
   "metadata": {},
   "outputs": [],
   "source": [
    "def get_url_title(el):\n",
    "    el = str(el)\n",
    "    title = re.search(r'(href.+\\\">)(.+)(</a>)', el).group(2)\n",
    "    layout = \"https://www.epicurious.com\"\n",
    "    url = layout + re.search(r'(href=\\\")(.+)(\\\">)', el).group(2)\n",
    "    return (title, url)\n",
    "\n",
    "def get_recipe_links(page):\n",
    "    import re\n",
    "    recipe_links = []\n",
    "    soup = BeautifulSoup(page.text,'lxml')\n",
    "    els = soup.select('article.recipe-content-card h4 a')\n",
    "    return [get_url_title(el) for el in els]"
   ]
  },
  {
   "cell_type": "code",
   "execution_count": 150,
   "metadata": {},
   "outputs": [
    {
     "data": {
      "text/plain": [
       "18"
      ]
     },
     "execution_count": 150,
     "metadata": {},
     "output_type": "execute_result"
    }
   ],
   "source": [
    "page = requests.get(\"https://www.epicurious.com/search?content=recipe&page=1\")\n",
    "links = get_recipe_links(page)\n",
    "len(links)"
   ]
  },
  {
   "cell_type": "code",
   "execution_count": 152,
   "metadata": {},
   "outputs": [],
   "source": [
    "recipes = []\n",
    "for link in links:\n",
    "    recipes.append(Recipe(link[1]))"
   ]
  },
  {
   "cell_type": "code",
   "execution_count": 153,
   "metadata": {},
   "outputs": [
    {
     "data": {
      "text/plain": [
       "18"
      ]
     },
     "execution_count": 153,
     "metadata": {},
     "output_type": "execute_result"
    }
   ],
   "source": [
    "len(recipes)"
   ]
  },
  {
   "cell_type": "code",
   "execution_count": 154,
   "metadata": {},
   "outputs": [
    {
     "name": "stdout",
     "output_type": "stream",
     "text": [
      "\n",
      "Title: Thai-Style Squid and Cucumber Salad\n",
      "URL: https://www.epicurious.com/recipes/food/views/thai-style-squid-and-cucumber-salad\n",
      "IMG URL: https://assets.epicurious.com/photos/5b19aa4a18f10d6be39984cc/6:4/w_274%2Ch_169/Thai-Style-Squid-and-Cucumber-Salad-recipe-30052918.jpg\n",
      "Desc: The secret to cooking squid so it’s tender, not tough, is to cook it very quickly in small batches. Tossed with crunchy cucumbers, peanuts, and fresh red chiles, it makes a refreshing summer dinner spooned over rice or on its own.\n",
      "Ingredients: ['1/4 cup fresh lime juice (from about 3 limes)', '1 garlic clove, finely grated', '1 Tbsp. fish sauce', '1 1/2 tsp. dark brown sugar', '1/4 cup plus 1 Tbsp. (or more) vegetable oil', '2 tsp. kosher salt, divided', '4 mini seedless or Persian cucumbers, halved lengthwise, sliced diagonally into 1/4\"-thick slices', '1–2 Fresno chiles, seeded, thinly sliced', '1/2 cup salted, roasted peanuts', '1 1/2 lb. cleaned squid, patted dry', '1/4 cup cilantro sprigs', 'Steamed white rice (for serving; optional)']\n",
      "Steps: ['Whisk lime juice, garlic, fish sauce, brown sugar, 1/4 cup oil, and 1/2 tsp. salt in a large bowl. Add cucumber, chiles, and peanuts and toss to coat. Set aside.', 'Make sure squid is as dry as possible, then toss with remaining 1 1/2 tsp. salt. Separate bodies from tentacles.', 'Heat 1 Tbsp. oil in a large cast-iron skillet until smoking. Sear half of the tentacles (don’t try to do more than half—you don’t want to crowd the pan), turning once halfway through, until lightly charred and opaque, 2–3 minutes. Transfer to a plate. Repeat with remaining tentacles, adding more oil if needed. Add a little more oil, then sear half of the bodies, turning once and picking up with tongs so that any liquid that has accumulated inside bodies can pour off into skillet and evaporate, until lightly charred and opaque, 2–3 minutes. Transfer to plate with cooked tentacles. Repeat with remaining bodies. Thinly slice bodies, then transfer squid to bowl with cucumber mixture and toss to coat.', 'Arrange salad on a platter and drizzle remaining dressing over. Top with cilantro sprigs. Serve with rice alongside, if using.']\n",
      "Tags: ['Salad', 'Lime Juice', 'Garlic', 'Cucumber', 'Chile', 'Peanut', 'Squid', 'Cilantro', 'Rice', 'Dinner', 'Asian', 'Southeast Asian', 'Thai', 'Thailand', 'Seafood', 'Summer', 'Spring']\n",
      "Nutritions: {'Calories': 446.0, 'Carbohydrates': 16.0, 'Fat': 29.0, 'Protein': 32.0, 'Saturated Fat': 3.0, 'Sodium': 780.0, 'Polyunsaturated Fat': 7.0, 'Fiber': 2.0, 'Monounsaturated Fat': 17.0, 'Cholesterol': 396.0}\n",
      "Serving: 4.0\n",
      "Yield: 4 servings\n",
      "Active time: 40 minutes\n",
      "Total time: 40 minutes\n",
      "Rating: 4.0\n",
      "Review count: 1.0\n",
      "Make again: 100.0\n",
      "Reviews: []\n"
     ]
    }
   ],
   "source": [
    "print(recipes[10])"
   ]
  },
  {
   "cell_type": "code",
   "execution_count": 159,
   "metadata": {},
   "outputs": [],
   "source": [
    "with open('data/test.json', 'a') as fp:\n",
    "    for r in recipes:\n",
    "        json.dump(r.__dict__, fp)\n",
    "        fp.write(\"\\n\")   "
   ]
  },
  {
   "cell_type": "markdown",
   "metadata": {},
   "source": [
    "## 7. get all the links from all search result pages"
   ]
  },
  {
   "cell_type": "markdown",
   "metadata": {},
   "source": [
    "## 8. get all the recipes from the links and write them into the json file"
   ]
  },
  {
   "cell_type": "code",
   "execution_count": null,
   "metadata": {},
   "outputs": [],
   "source": []
  }
 ],
 "metadata": {
  "kernelspec": {
   "display_name": "Python 3",
   "language": "python",
   "name": "python3"
  },
  "language_info": {
   "codemirror_mode": {
    "name": "ipython",
    "version": 3
   },
   "file_extension": ".py",
   "mimetype": "text/x-python",
   "name": "python",
   "nbconvert_exporter": "python",
   "pygments_lexer": "ipython3",
   "version": "3.6.5"
  }
 },
 "nbformat": 4,
 "nbformat_minor": 2
}
